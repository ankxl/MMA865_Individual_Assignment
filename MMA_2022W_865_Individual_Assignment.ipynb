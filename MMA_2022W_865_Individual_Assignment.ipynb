{
  "nbformat": 4,
  "nbformat_minor": 0,
  "metadata": {
    "kernelspec": {
      "display_name": "MMA865",
      "language": "python",
      "name": "mma865"
    },
    "language_info": {
      "codemirror_mode": {
        "name": "ipython",
        "version": 3
      },
      "file_extension": ".py",
      "mimetype": "text/x-python",
      "name": "python",
      "nbconvert_exporter": "python",
      "pygments_lexer": "ipython3",
      "version": "3.8.8"
    },
    "colab": {
      "name": "MMA 2022W 865 Individual Assignment.ipynb",
      "provenance": [],
      "collapsed_sections": [],
      "include_colab_link": true
    }
  },
  "cells": [
    {
      "cell_type": "markdown",
      "metadata": {
        "id": "view-in-github",
        "colab_type": "text"
      },
      "source": [
        "<a href=\"https://colab.research.google.com/github/ankxl/MMA865_Individual_Assignment/blob/main/MMA_2022W_865_Individual_Assignment.ipynb\" target=\"_parent\"><img src=\"https://colab.research.google.com/assets/colab-badge.svg\" alt=\"Open In Colab\"/></a>"
      ]
    },
    {
      "cell_type": "markdown",
      "metadata": {
        "id": "QyZCMR6td1Mr"
      },
      "source": [
        "# MMA 2021S 865, Individual Assignment 1\n",
        "\n",
        "Version 2: Updated Janurary 13, 2021.\n",
        "\n",
        "- ANKIT RAI\n",
        "- 20254135\n",
        "- SECTION II\n",
        "- What The Ceo Really Wants From You by R Gopalakrishnan \n",
        "- 15 OCTOBER 2021"
      ]
    },
    {
      "cell_type": "markdown",
      "metadata": {
        "id": "mlGJQOaad1Ms"
      },
      "source": [
        "# Question 1 - ELI5\n",
        "\n",
        "_“If you can't explain it simply, you don't understand it well enough.” – Albert Einstein_\n",
        "\n",
        "Explaining technical concepts to a non-technical audience is an underappreciated skill; one which the MMA program aims to give its students; and one that will truly set you apart in the job market. The only way to gain a skill is by practice, so here we go.\n",
        "\n",
        "Answer each question below as though you were talking to a 5 year old (equivalently: a grandma, or a completely non-technical manager, or an Ivey grad). Use your own words. Use analogies where possible. Examples are better than theory. Keep it short, but be complete. Use simple, plain English. Do not use business buzzwords like _actualize, empower, fungible, leverage, or synergize_. Do not use technical buzzwords that most people don’t know like _model, agile, bandwidth, IoT, blockchain, AR, VR, actionable insights_. Inform the audience without going into too much technical detail, and without embarrassing yourself. Your goal is to truly help them understand, not to give what you feel is a “technically precise” answer and move on (but they still don’t understand!). Don’t be that guy!\n",
        "\n",
        "Please keep each answer to 1000 characters or less.\n",
        "\n",
        "Finally, feel free to use [Markdown syntax](https://www.markdownguide.org/basic-syntax/) to format your answer.\n"
      ]
    },
    {
      "cell_type": "markdown",
      "metadata": {
        "id": "o9lm1L9bd1Mt"
      },
      "source": [
        "### Part 1: What is “Big Data” and how is it different than “regular data”?"
      ]
    },
    {
      "cell_type": "markdown",
      "metadata": {
        "id": "yvoA1AICd1Mu"
      },
      "source": [
        "\n",
        "1. As the word describes 'Big' data is often referring to the size of the data (Volume). Just imagine we want to record all conversations between a customer and retailer for a year. The conversations would be in hundreds of thousand or millions.\n",
        "2. Big data also is used to describe data which can not be stored in tabular format like text, images, etc. e.g., children story books or interaction that a person may have throughout the day or week or month. Variety in data.\n",
        "3. Data points collect every second or milisecond (almost realtime) also indicate big data (Velocity). e.g., commentary during a hockey or cricket match.\n",
        "4. Veracity: With large amount of data, checking for quality and consistencies is important like commentrator mentions some incorrect fact but might get missed in the volume or speed of incoming data.\n",
        "5. Value: There is no point in collecting big data unless we can derive value from it. Can we analyse the cricket match commentary and player data to devise a framework to get a batsman out (win the match)?\n",
        "\n",
        "- Examples of regular data: household budget or account statement. The budget can be depicted in columns with say date, description, transaction type and amount say 1st of month (date) received salary (description) in account (credited transaction type) and amount. Regular data is often not high volume or collected real time (not high velocity) and can be setup in tabular format like budget.\n",
        "\n"
      ]
    },
    {
      "cell_type": "markdown",
      "metadata": {
        "id": "bEKsagXWd1Mu"
      },
      "source": [
        "### Part 2: What is Hadoop? Hint: What problems in previous data storage and processing was Hadoop designed to solve? How did Hadoop accomplish that?"
      ]
    },
    {
      "cell_type": "markdown",
      "metadata": {
        "id": "F_0Fzj-od1Mu"
      },
      "source": [
        "We are planning a party for large number of guests. Hadoop is like the party planner which allows everyone to help to prepare for the party (open source) and doesnt need specific training from workers (community hardware). \n",
        "The usual problems that host face while planning party are:\n",
        "1. If the number of guest change at last minute, can planners accommodate without huge increase in bill (scale out).\n",
        "2. Things go wrong, like ingredients get spoiled, chef doesnt showup, will the party planner still deliver (fault tolerant).\n",
        "3. Will the planner move the ingredients from different locations to one cook station or setup different cooking stations near ingredient storage or serving location? (Move processing to data). \n",
        "4. While preparing salad does the chef preparing dressing need to worry about vegetable cut? (abstraction). \n",
        "\n",
        "Hadoop\n",
        "- Hadoop supports multiple chefs so the food is cooked simultanesouly (distributed compute). \n",
        "- If the hosts request to accommodate more guests or prepare food faster, Hadoop can add more chefs (scalability). \n",
        "- Hadoop gets more set of smaller pans versus large pans so that they can cook food simultaneously and makes it easier for them to carry and store. Depending upon need Hadoop adds pans (scale out).\n",
        "- Hadoop stores the ingredients at multiple locations so it is easier for chefs to cook in parallel (HDFS). \n",
        "-If for what ever reason the ingredients go bad, Hadoop stores ingredients in other locations and can easily get more (fault tolerant). \n",
        "- Hadoop has a party planning manager (YARN) which is responsible for identifying a lead for each item. e.g., for salad the manager identifies the chef 1 to be responsible for salad prep, chef 1 will ask chef 2 to cut veges, chef 4 to prepare dressing and chef 8 to toss the salad. In case chef 1 is unavailable, party manager will replace him.\n",
        "- If we are serving hot grilled fish for 100 guests, we can’t do it with 1 cook. Hadoop splits this into 10 cook station (map it across multiple compute) and waiters bring the fish from different location to one serving locations (reduce function).\n"
      ]
    },
    {
      "cell_type": "markdown",
      "metadata": {
        "id": "jWesjpN8d1Mv"
      },
      "source": [
        "### Part 3: How does Big Data and the cloud help Machine Learning? "
      ]
    },
    {
      "cell_type": "markdown",
      "metadata": {
        "id": "AAJS3UzNd1Mv"
      },
      "source": [
        "- Lets imaginge we need to move house. We need to book a truck to move goods and if we need to store for a day, we will need to rent a storage for a week. This is a costly investment and inefficient - truck used for an hour but paid for per day.\n",
        "- Let’s imagine cloud like a moving service which allows you to choose the level of support\n",
        ">- Basic (IaaS): where you pay only for amount of time you use the truck and storage unit.\n",
        ">- Advanced (PaaS): where you only get your furniture and dont must worry about loading/ unloading or refueling the truck.\n",
        ">- Complete (SaaS): where provider manages task end to end as desired by you. \n",
        "\n",
        "The key advantages of using Big Data and Cloud in ML are:\n",
        ">- Cost effective: billing is dependent on truck and storage usage per time unit instead of having to rent the truck and storage for day(s). You can also choose your truck depending upon need.\n",
        ">- As the services are cost effective one can start with a small pilot and then scale up if satisfied with performance.\n",
        ">- AI/ ML tools by public cloud providers: moving services company provides differnt services for different user (disabled versus professional movers) but support everyone.\n",
        ">- Ecosystem: lot of other companies offering different add ons like move furtniture through stairs of specific product for rent to move threadmill, etc.\n",
        ">- End to End pipeline: Cloud provides tools not just for building ML solutions but also visualise the output so in our analogy not just move the furniture but unwrap and place it in the right room as desired by user.\n",
        ">- Volume, Variety and Velocity (Big Data): Increase in data can increase the accuracy of machine learning e.g., the more books you read about a topic the more you will understand. Most of real-world data resides in unstructured format like audio or natural text or images and we can take advantage of AI/ML tools by public cloud providers and power of ecosystem to analyse data (described above). "
      ]
    },
    {
      "cell_type": "markdown",
      "metadata": {
        "id": "blzNZpsKd1Mw"
      },
      "source": [
        "### Part 4: What is NoSQL?"
      ]
    },
    {
      "cell_type": "markdown",
      "metadata": {
        "id": "euQZjTFDd1Mx"
      },
      "source": [
        "NoSQL is also referred as non-relational database. If we can not store data in rows and columns - like bank account statement can be represented in a table- then we need NoSQL e.g.  commentary of a match. There are 4 kinds of NoSQL based on use cases:\n",
        "- Key-value datastore: The easiest example to describe this is dictionary. The dictionary has a key word we are looking up and value is the definition. The keys are indexed alphabetically so its very easy to find the key.\n",
        "- Graph datastore: optimised for network analytics use case. Let say we want to build a family tree and identify the people family knows this datastore would be recommended. \n",
        "- Document datastore: Is a variant of the key value datastore with key difference being in value which is a file format. This is used extensively in applications like storing resume information. The key may be your name and value will be skills, education details, certifications and experience but saved in defined format like XML or JSON.\n",
        "- Columnar: Is very similar to relational database. Let’s take example of bank statement to highlight the advantage of columnar datastore. If user wants to understand all withdrawls from account in the last 1 year, the bank clerk will pull all the data with date of transaction on rows along with amount credited/ debited and transaction type. The computer will have to read through all the rows and columns before sharing result but in columnar data there is one row for date, amount transacted, transaction type and description. The query will only read through rows of interest like transaction amount and type. These speeds up the querying process.\n"
      ]
    },
    {
      "cell_type": "markdown",
      "metadata": {
        "id": "RgbTZ0exbUk4"
      },
      "source": [
        "### Part 5: Name three ways topic modeling could help a bank."
      ]
    },
    {
      "cell_type": "markdown",
      "metadata": {
        "id": "etDOfiIud1Mx"
      },
      "source": [
        "Topic Modelling is the ability of algorithm/ machine to understand general idea of the message without having the ability to understand the message.\n",
        "\n",
        "1. Organise customer reviews (website, social media, telephonic chat) to identify key themes. The bank may be able to seperate the feedback specific to product or service improvement, bank operations, customer experience, etc. and appropriately act or not to act.\n",
        "2. Customers tend to read about investment products like MF report or equity research report before they invest. Topic modelling based on previous reading patterns can recommend investment products. If a customer is reading research on energy and banking stocks, the model may recommend an MF/ ETF on dividend stocks.\n",
        "3. Data reduction and Information Retrieval: Bank request their customer to call an agent to cancel specific services but sometimes customer to get a better deal (negotiating tactics) call the agent claiming to cancel not intending to cancel. Topic Modelling can mine for specific words or phrases in conversation that will indicate to agent if the customer has a high likelihood to cancel thus should offer discounted services or just negotiating for a better deal."
      ]
    },
    {
      "cell_type": "markdown",
      "metadata": {
        "id": "2raqwCjwd1My"
      },
      "source": [
        "### Part 6: What is Apache Spark, exactly, and what are its pros and cons?"
      ]
    },
    {
      "cell_type": "markdown",
      "metadata": {
        "id": "q4Bc2UBRd1My"
      },
      "source": [
        "Spark is an open-source framework (describe above) that is used for data processing on large datasets leveraging multiple languages. \n",
        "\n",
        "Pros\n",
        "- Support multiple languages like Python, R, Scala, and SQL. e.g., let’s say the system understands French, German, and English; anyone who knows any of the languages can communicate with the system without translation. Spark can distribute python/ R code through user defined functions.\n",
        "- Reduces the number of read and write to/ from memory to reduce the speed of operations. Support all in memory. e.g., like trying to find something in a book without an index and we dont know which book or section of the library the book is in versus finding something in the book in front of you which has an index.\n",
        "- Easier to write applications. Earlier to get compute to execute map-reduce function was multiple lines of complex code whereas with spark it in 2-3 lines of simple code. E.g., we can divide two numbers using the long division route which may take a couple of minutes or just evaluate on a calculator which will be milliseconds.\n",
        "- Support for Big Data. Natural language processing and graph processing capabilities.\n",
        "Cons\n",
        "- requires re-learn python as pyspark. It can be a steep learning curve for new analyst as the code is not exactly same for python and pyspark. E.g., cricket player becoming a baseball player, there will be steep learning curve to understand the rules of the game and develop skill to excel.\n",
        "- Fewer ML algorithm. E.g., imagine a calculator with only + and – operations so if you want to calculate a square root it may be beyond the capability and may want to focus on another way to perform desired operation."
      ]
    },
    {
      "cell_type": "markdown",
      "metadata": {
        "id": "Uiuc0Wa2d1My"
      },
      "source": [
        "# Question 2: Sentiment Analysis via the ML-based approach\n",
        "\n",
        "Download the “Product Sentiment” dataset from the course portal: sentiment_train.csv and sentiment_test.csv."
      ]
    },
    {
      "cell_type": "markdown",
      "metadata": {
        "id": "jv5daIZld1My"
      },
      "source": [
        "### Part 1.a. Loading and Prep\n",
        "\n",
        "Load, clean, and preprocess the data as you find necessary."
      ]
    },
    {
      "cell_type": "code",
      "metadata": {
        "id": "xjmNEojQd1Mz",
        "colab": {
          "base_uri": "https://localhost:8080/"
        },
        "outputId": "1d7dfb48-2ed6-4822-8074-70e3a7018e84"
      },
      "source": [
        "import pandas as pd\n",
        "import numpy as np\n",
        "# TODO: import other libraries as necessary\n",
        "\n",
        "# Load the training set data\n",
        "df_train = pd.read_csv(\"sentiment_train.csv\")\n",
        "# Analyse the training data: Columns and data type; first 5 rows of data\n",
        "print(df_train.info())\n",
        "print(df_train.head())\n",
        "\n",
        "# Load the testing data\n",
        "df_test = pd.read_csv(\"sentiment_test.csv\")\n",
        "\n",
        "# Analyse the testing data: Columns and data type; first 5 rows of data\n",
        "print(df_test.info())\n",
        "print(df_test.head())\n"
      ],
      "execution_count": 1,
      "outputs": [
        {
          "output_type": "stream",
          "name": "stdout",
          "text": [
            "<class 'pandas.core.frame.DataFrame'>\n",
            "RangeIndex: 2400 entries, 0 to 2399\n",
            "Data columns (total 2 columns):\n",
            " #   Column    Non-Null Count  Dtype \n",
            "---  ------    --------------  ----- \n",
            " 0   Sentence  2400 non-null   object\n",
            " 1   Polarity  2400 non-null   int64 \n",
            "dtypes: int64(1), object(1)\n",
            "memory usage: 37.6+ KB\n",
            "None\n",
            "                                            Sentence  Polarity\n",
            "0                           Wow... Loved this place.         1\n",
            "1                                 Crust is not good.         0\n",
            "2          Not tasty and the texture was just nasty.         0\n",
            "3  Stopped by during the late May bank holiday of...         1\n",
            "4  The selection on the menu was great and so wer...         1\n",
            "<class 'pandas.core.frame.DataFrame'>\n",
            "RangeIndex: 600 entries, 0 to 599\n",
            "Data columns (total 2 columns):\n",
            " #   Column    Non-Null Count  Dtype \n",
            "---  ------    --------------  ----- \n",
            " 0   Sentence  600 non-null    object\n",
            " 1   Polarity  600 non-null    int64 \n",
            "dtypes: int64(1), object(1)\n",
            "memory usage: 9.5+ KB\n",
            "None\n",
            "                                            Sentence  Polarity\n",
            "0  A good commentary of today's love and undoubte...         1\n",
            "1  For people who are first timers in film making...         1\n",
            "2  It was very popular when I was in the cinema, ...         1\n",
            "3  It's a feel-good film and that's how I felt wh...         1\n",
            "4  It has northern humour and positive about the ...         1\n"
          ]
        }
      ]
    },
    {
      "cell_type": "markdown",
      "metadata": {
        "id": "COPEmCCSd1M0"
      },
      "source": [
        "### Part 1.b. Modeling\n",
        "\n",
        "Use your favorite ML algorithm to train a classification model.  Don’t forget everything that we’ve learned in our ML course: hyperparameter tuning, cross validation, handling imbalanced data, etc. Make reasonable decisions and try to create the best-performing classifier that you can."
      ]
    },
    {
      "cell_type": "markdown",
      "metadata": {
        "id": "GNbnyhF_in7K"
      },
      "source": [
        "## Basic Data check"
      ]
    },
    {
      "cell_type": "code",
      "metadata": {
        "id": "dY0wtbVwd1M0",
        "colab": {
          "base_uri": "https://localhost:8080/"
        },
        "outputId": "1cee8f0f-2e14-4f5d-eef4-569bd7ebd86b"
      },
      "source": [
        "# Check for Missing values in data\n",
        "df_train.isna().sum()\n",
        "# df_test.isna().sum()"
      ],
      "execution_count": 2,
      "outputs": [
        {
          "output_type": "execute_result",
          "data": {
            "text/plain": [
              "Sentence    0\n",
              "Polarity    0\n",
              "dtype: int64"
            ]
          },
          "metadata": {},
          "execution_count": 2
        }
      ]
    },
    {
      "cell_type": "code",
      "metadata": {
        "colab": {
          "base_uri": "https://localhost:8080/"
        },
        "id": "qkPQTGFyfk_s",
        "outputId": "236807c5-a9d3-4197-b177-f6637c9b197f"
      },
      "source": [
        "# Check for balance in train dataset\n",
        "df_train[\"Polarity\"].value_counts()\n",
        "# df_test.groupby(\"Polarity\").count()\n",
        "\n",
        "# The weights are almost equal, will leverage class weight of ML algorithm"
      ],
      "execution_count": 3,
      "outputs": [
        {
          "output_type": "execute_result",
          "data": {
            "text/plain": [
              "0    1213\n",
              "1    1187\n",
              "Name: Polarity, dtype: int64"
            ]
          },
          "metadata": {},
          "execution_count": 3
        }
      ]
    },
    {
      "cell_type": "code",
      "metadata": {
        "colab": {
          "base_uri": "https://localhost:8080/",
          "height": 279
        },
        "id": "6YVk30CewiMa",
        "outputId": "8aa1dc67-892f-4b3e-e4dc-f689a50f4c1c"
      },
      "source": [
        "df_train[\"Polarity\"].value_counts().plot.bar()"
      ],
      "execution_count": 4,
      "outputs": [
        {
          "output_type": "execute_result",
          "data": {
            "text/plain": [
              "<matplotlib.axes._subplots.AxesSubplot at 0x7f56716734d0>"
            ]
          },
          "metadata": {},
          "execution_count": 4
        },
        {
          "output_type": "display_data",
          "data": {
            "image/png": "[encoded data removed]",
            "text/plain": [
              "<Figure size 432x288 with 1 Axes>"
            ]
          },
          "metadata": {
            "needs_background": "light"
          }
        }
      ]
    },
    {
      "cell_type": "code",
      "metadata": {
        "colab": {
          "base_uri": "https://localhost:8080/"
        },
        "id": "qd4fYOaoflwu",
        "outputId": "cb4cf3bc-b801-4862-b564-a4cca78a668e"
      },
      "source": [
        "# check for duplicate sentences\n",
        "df_train.duplicated(subset=[\"Sentence\"]).sum()\n",
        "# df_test.duplicated(subset=[\"Sentence\"]).sum()\n",
        "\n",
        "# There are 18 duplicates in the training dataset"
      ],
      "execution_count": 5,
      "outputs": [
        {
          "output_type": "execute_result",
          "data": {
            "text/plain": [
              "18"
            ]
          },
          "metadata": {},
          "execution_count": 5
        }
      ]
    },
    {
      "cell_type": "code",
      "metadata": {
        "id": "xMuv1q81LrPs"
      },
      "source": [
        "# drop the 18 duplicates indentified in previous step\n",
        "df_train = df_train.drop_duplicates(subset=[\"Sentence\"],keep=\"last\")"
      ],
      "execution_count": 6,
      "outputs": []
    },
    {
      "cell_type": "code",
      "metadata": {
        "colab": {
          "base_uri": "https://localhost:8080/"
        },
        "id": "YKB5QA2Ofl09",
        "outputId": "3a835c3f-11de-41fd-dd56-9417f7a1d67a"
      },
      "source": [
        "# Re-Check for balance in train dataset after deleting duplicate sentences\n",
        "df_train[\"Polarity\"].value_counts()\n",
        "\n",
        "# The weights are still almost equal, will leverage class weight of ML algorithm. \n",
        "# 7 instances from class 0 were dropped and 11 instances for class 1 were dropped "
      ],
      "execution_count": 7,
      "outputs": [
        {
          "output_type": "execute_result",
          "data": {
            "text/plain": [
              "0    1206\n",
              "1    1176\n",
              "Name: Polarity, dtype: int64"
            ]
          },
          "metadata": {},
          "execution_count": 7
        }
      ]
    },
    {
      "cell_type": "code",
      "metadata": {
        "colab": {
          "base_uri": "https://localhost:8080/",
          "height": 80
        },
        "id": "zJdcvyKKfl4B",
        "outputId": "89212e17-18d4-48fa-fb58-87bc9a9cffdc"
      },
      "source": [
        "df_train.describe().transpose()"
      ],
      "execution_count": 8,
      "outputs": [
        {
          "output_type": "execute_result",
          "data": {
            "text/html": [
              "<div>\n",
              "<style scoped>\n",
              "    .dataframe tbody tr th:only-of-type {\n",
              "        vertical-align: middle;\n",
              "    }\n",
              "\n",
              "    .dataframe tbody tr th {\n",
              "        vertical-align: top;\n",
              "    }\n",
              "\n",
              "    .dataframe thead th {\n",
              "        text-align: right;\n",
              "    }\n",
              "</style>\n",
              "<table border=\"1\" class=\"dataframe\">\n",
              "  <thead>\n",
              "    <tr style=\"text-align: right;\">\n",
              "      <th></th>\n",
              "      <th>count</th>\n",
              "      <th>mean</th>\n",
              "      <th>std</th>\n",
              "      <th>min</th>\n",
              "      <th>25%</th>\n",
              "      <th>50%</th>\n",
              "      <th>75%</th>\n",
              "      <th>max</th>\n",
              "    </tr>\n",
              "  </thead>\n",
              "  <tbody>\n",
              "    <tr>\n",
              "      <th>Polarity</th>\n",
              "      <td>2382.0</td>\n",
              "      <td>0.493703</td>\n",
              "      <td>0.500065</td>\n",
              "      <td>0.0</td>\n",
              "      <td>0.0</td>\n",
              "      <td>0.0</td>\n",
              "      <td>1.0</td>\n",
              "      <td>1.0</td>\n",
              "    </tr>\n",
              "  </tbody>\n",
              "</table>\n",
              "</div>"
            ],
            "text/plain": [
              "           count      mean       std  min  25%  50%  75%  max\n",
              "Polarity  2382.0  0.493703  0.500065  0.0  0.0  0.0  1.0  1.0"
            ]
          },
          "metadata": {},
          "execution_count": 8
        }
      ]
    },
    {
      "cell_type": "markdown",
      "metadata": {
        "id": "k5eHc4JTiyq3"
      },
      "source": [
        "## Feature Engineering"
      ]
    },
    {
      "cell_type": "code",
      "metadata": {
        "id": "-UEXfbx8fl7H",
        "colab": {
          "base_uri": "https://localhost:8080/"
        },
        "outputId": "36fc19b8-75c0-4e73-fc51-18d3c776f3c8"
      },
      "source": [
        "# Import NLTK module and download the necessary collections \n",
        "# (commenting download for output generation)\n",
        "import nltk\n",
        "nltk.download('all')"
      ],
      "execution_count": 9,
      "outputs": [
        {
          "output_type": "stream",
          "name": "stdout",
          "text": [
            "[nltk_data] Downloading collection 'all'\n",
            "[nltk_data]    | \n",
            "[nltk_data]    | Downloading package abc to /root/nltk_data...\n",
            "[nltk_data]    |   Package abc is already up-to-date!\n",
            "[nltk_data]    | Downloading package alpino to /root/nltk_data...\n",
            "[nltk_data]    |   Package alpino is already up-to-date!\n",
            "[nltk_data]    | Downloading package biocreative_ppi to\n",
            "[nltk_data]    |     /root/nltk_data...\n",
            "[nltk_data]    |   Package biocreative_ppi is already up-to-date!\n",
            "[nltk_data]    | Downloading package brown to /root/nltk_data...\n",
            "[nltk_data]    |   Package brown is already up-to-date!\n",
            "[nltk_data]    | Downloading package brown_tei to /root/nltk_data...\n",
            "[nltk_data]    |   Package brown_tei is already up-to-date!\n",
            "[nltk_data]    | Downloading package cess_cat to /root/nltk_data...\n",
            "[nltk_data]    |   Package cess_cat is already up-to-date!\n",
            "[nltk_data]    | Downloading package cess_esp to /root/nltk_data...\n",
            "[nltk_data]    |   Package cess_esp is already up-to-date!\n",
            "[nltk_data]    | Downloading package chat80 to /root/nltk_data...\n",
            "[nltk_data]    |   Package chat80 is already up-to-date!\n",
            "[nltk_data]    | Downloading package city_database to\n",
            "[nltk_data]    |     /root/nltk_data...\n",
            "[nltk_data]    |   Package city_database is already up-to-date!\n",
            "[nltk_data]    | Downloading package cmudict to /root/nltk_data...\n",
            "[nltk_data]    |   Package cmudict is already up-to-date!\n",
            "[nltk_data]    | Downloading package comparative_sentences to\n",
            "[nltk_data]    |     /root/nltk_data...\n",
            "[nltk_data]    |   Package comparative_sentences is already up-to-\n",
            "[nltk_data]    |       date!\n",
            "[nltk_data]    | Downloading package comtrans to /root/nltk_data...\n",
            "[nltk_data]    |   Package comtrans is already up-to-date!\n",
            "[nltk_data]    | Downloading package conll2000 to /root/nltk_data...\n",
            "[nltk_data]    |   Package conll2000 is already up-to-date!\n",
            "[nltk_data]    | Downloading package conll2002 to /root/nltk_data...\n",
            "[nltk_data]    |   Package conll2002 is already up-to-date!\n",
            "[nltk_data]    | Downloading package conll2007 to /root/nltk_data...\n",
            "[nltk_data]    |   Package conll2007 is already up-to-date!\n",
            "[nltk_data]    | Downloading package crubadan to /root/nltk_data...\n",
            "[nltk_data]    |   Package crubadan is already up-to-date!\n",
            "[nltk_data]    | Downloading package dependency_treebank to\n",
            "[nltk_data]    |     /root/nltk_data...\n",
            "[nltk_data]    |   Package dependency_treebank is already up-to-date!\n",
            "[nltk_data]    | Downloading package dolch to /root/nltk_data...\n",
            "[nltk_data]    |   Package dolch is already up-to-date!\n",
            "[nltk_data]    | Downloading package europarl_raw to\n",
            "[nltk_data]    |     /root/nltk_data...\n",
            "[nltk_data]    |   Package europarl_raw is already up-to-date!\n",
            "[nltk_data]    | Downloading package floresta to /root/nltk_data...\n",
            "[nltk_data]    |   Package floresta is already up-to-date!\n",
            "[nltk_data]    | Downloading package framenet_v15 to\n",
            "[nltk_data]    |     /root/nltk_data...\n",
            "[nltk_data]    |   Package framenet_v15 is already up-to-date!\n",
            "[nltk_data]    | Downloading package framenet_v17 to\n",
            "[nltk_data]    |     /root/nltk_data...\n",
            "[nltk_data]    |   Package framenet_v17 is already up-to-date!\n",
            "[nltk_data]    | Downloading package gazetteers to /root/nltk_data...\n",
            "[nltk_data]    |   Package gazetteers is already up-to-date!\n",
            "[nltk_data]    | Downloading package genesis to /root/nltk_data...\n",
            "[nltk_data]    |   Package genesis is already up-to-date!\n",
            "[nltk_data]    | Downloading package gutenberg to /root/nltk_data...\n",
            "[nltk_data]    |   Package gutenberg is already up-to-date!\n",
            "[nltk_data]    | Downloading package ieer to /root/nltk_data...\n",
            "[nltk_data]    |   Package ieer is already up-to-date!\n",
            "[nltk_data]    | Downloading package inaugural to /root/nltk_data...\n",
            "[nltk_data]    |   Package inaugural is already up-to-date!\n",
            "[nltk_data]    | Downloading package indian to /root/nltk_data...\n",
            "[nltk_data]    |   Package indian is already up-to-date!\n",
            "[nltk_data]    | Downloading package jeita to /root/nltk_data...\n",
            "[nltk_data]    |   Package jeita is already up-to-date!\n",
            "[nltk_data]    | Downloading package kimmo to /root/nltk_data...\n",
            "[nltk_data]    |   Package kimmo is already up-to-date!\n",
            "[nltk_data]    | Downloading package knbc to /root/nltk_data...\n",
            "[nltk_data]    |   Package knbc is already up-to-date!\n",
            "[nltk_data]    | Downloading package lin_thesaurus to\n",
            "[nltk_data]    |     /root/nltk_data...\n",
            "[nltk_data]    |   Package lin_thesaurus is already up-to-date!\n",
            "[nltk_data]    | Downloading package mac_morpho to /root/nltk_data...\n",
            "[nltk_data]    |   Package mac_morpho is already up-to-date!\n",
            "[nltk_data]    | Downloading package machado to /root/nltk_data...\n",
            "[nltk_data]    |   Package machado is already up-to-date!\n",
            "[nltk_data]    | Downloading package masc_tagged to /root/nltk_data...\n",
            "[nltk_data]    |   Package masc_tagged is already up-to-date!\n",
            "[nltk_data]    | Downloading package moses_sample to\n",
            "[nltk_data]    |     /root/nltk_data...\n",
            "[nltk_data]    |   Package moses_sample is already up-to-date!\n",
            "[nltk_data]    | Downloading package movie_reviews to\n",
            "[nltk_data]    |     /root/nltk_data...\n",
            "[nltk_data]    |   Package movie_reviews is already up-to-date!\n",
            "[nltk_data]    | Downloading package names to /root/nltk_data...\n",
            "[nltk_data]    |   Package names is already up-to-date!\n",
            "[nltk_data]    | Downloading package nombank.1.0 to /root/nltk_data...\n",
            "[nltk_data]    |   Package nombank.1.0 is already up-to-date!\n",
            "[nltk_data]    | Downloading package nps_chat to /root/nltk_data...\n",
            "[nltk_data]    |   Package nps_chat is already up-to-date!\n",
            "[nltk_data]    | Downloading package omw to /root/nltk_data...\n",
            "[nltk_data]    |   Package omw is already up-to-date!\n",
            "[nltk_data]    | Downloading package opinion_lexicon to\n",
            "[nltk_data]    |     /root/nltk_data...\n",
            "[nltk_data]    |   Package opinion_lexicon is already up-to-date!\n",
            "[nltk_data]    | Downloading package paradigms to /root/nltk_data...\n",
            "[nltk_data]    |   Package paradigms is already up-to-date!\n",
            "[nltk_data]    | Downloading package pil to /root/nltk_data...\n",
            "[nltk_data]    |   Package pil is already up-to-date!\n",
            "[nltk_data]    | Downloading package pl196x to /root/nltk_data...\n",
            "[nltk_data]    |   Package pl196x is already up-to-date!\n",
            "[nltk_data]    | Downloading package ppattach to /root/nltk_data...\n",
            "[nltk_data]    |   Package ppattach is already up-to-date!\n",
            "[nltk_data]    | Downloading package problem_reports to\n",
            "[nltk_data]    |     /root/nltk_data...\n",
            "[nltk_data]    |   Package problem_reports is already up-to-date!\n",
            "[nltk_data]    | Downloading package propbank to /root/nltk_data...\n",
            "[nltk_data]    |   Package propbank is already up-to-date!\n",
            "[nltk_data]    | Downloading package ptb to /root/nltk_data...\n",
            "[nltk_data]    |   Package ptb is already up-to-date!\n",
            "[nltk_data]    | Downloading package product_reviews_1 to\n",
            "[nltk_data]    |     /root/nltk_data...\n",
            "[nltk_data]    |   Package product_reviews_1 is already up-to-date!\n",
            "[nltk_data]    | Downloading package product_reviews_2 to\n",
            "[nltk_data]    |     /root/nltk_data...\n",
            "[nltk_data]    |   Package product_reviews_2 is already up-to-date!\n",
            "[nltk_data]    | Downloading package pros_cons to /root/nltk_data...\n",
            "[nltk_data]    |   Package pros_cons is already up-to-date!\n",
            "[nltk_data]    | Downloading package qc to /root/nltk_data...\n",
            "[nltk_data]    |   Package qc is already up-to-date!\n",
            "[nltk_data]    | Downloading package reuters to /root/nltk_data...\n",
            "[nltk_data]    |   Package reuters is already up-to-date!\n",
            "[nltk_data]    | Downloading package rte to /root/nltk_data...\n",
            "[nltk_data]    |   Package rte is already up-to-date!\n",
            "[nltk_data]    | Downloading package semcor to /root/nltk_data...\n",
            "[nltk_data]    |   Package semcor is already up-to-date!\n",
            "[nltk_data]    | Downloading package senseval to /root/nltk_data...\n",
            "[nltk_data]    |   Package senseval is already up-to-date!\n",
            "[nltk_data]    | Downloading package sentiwordnet to\n",
            "[nltk_data]    |     /root/nltk_data...\n",
            "[nltk_data]    |   Package sentiwordnet is already up-to-date!\n",
            "[nltk_data]    | Downloading package sentence_polarity to\n",
            "[nltk_data]    |     /root/nltk_data...\n",
            "[nltk_data]    |   Package sentence_polarity is already up-to-date!\n",
            "[nltk_data]    | Downloading package shakespeare to /root/nltk_data...\n",
            "[nltk_data]    |   Package shakespeare is already up-to-date!\n",
            "[nltk_data]    | Downloading package sinica_treebank to\n",
            "[nltk_data]    |     /root/nltk_data...\n",
            "[nltk_data]    |   Package sinica_treebank is already up-to-date!\n",
            "[nltk_data]    | Downloading package smultron to /root/nltk_data...\n",
            "[nltk_data]    |   Package smultron is already up-to-date!\n",
            "[nltk_data]    | Downloading package state_union to /root/nltk_data...\n",
            "[nltk_data]    |   Package state_union is already up-to-date!\n",
            "[nltk_data]    | Downloading package stopwords to /root/nltk_data...\n",
            "[nltk_data]    |   Package stopwords is already up-to-date!\n",
            "[nltk_data]    | Downloading package subjectivity to\n",
            "[nltk_data]    |     /root/nltk_data...\n",
            "[nltk_data]    |   Package subjectivity is already up-to-date!\n",
            "[nltk_data]    | Downloading package swadesh to /root/nltk_data...\n",
            "[nltk_data]    |   Package swadesh is already up-to-date!\n",
            "[nltk_data]    | Downloading package switchboard to /root/nltk_data...\n",
            "[nltk_data]    |   Package switchboard is already up-to-date!\n",
            "[nltk_data]    | Downloading package timit to /root/nltk_data...\n",
            "[nltk_data]    |   Package timit is already up-to-date!\n",
            "[nltk_data]    | Downloading package toolbox to /root/nltk_data...\n",
            "[nltk_data]    |   Package toolbox is already up-to-date!\n",
            "[nltk_data]    | Downloading package treebank to /root/nltk_data...\n",
            "[nltk_data]    |   Package treebank is already up-to-date!\n",
            "[nltk_data]    | Downloading package twitter_samples to\n",
            "[nltk_data]    |     /root/nltk_data...\n",
            "[nltk_data]    |   Package twitter_samples is already up-to-date!\n",
            "[nltk_data]    | Downloading package udhr to /root/nltk_data...\n",
            "[nltk_data]    |   Package udhr is already up-to-date!\n",
            "[nltk_data]    | Downloading package udhr2 to /root/nltk_data...\n",
            "[nltk_data]    |   Package udhr2 is already up-to-date!\n",
            "[nltk_data]    | Downloading package unicode_samples to\n",
            "[nltk_data]    |     /root/nltk_data...\n",
            "[nltk_data]    |   Package unicode_samples is already up-to-date!\n",
            "[nltk_data]    | Downloading package universal_treebanks_v20 to\n",
            "[nltk_data]    |     /root/nltk_data...\n",
            "[nltk_data]    |   Package universal_treebanks_v20 is already up-to-\n",
            "[nltk_data]    |       date!\n",
            "[nltk_data]    | Downloading package verbnet to /root/nltk_data...\n",
            "[nltk_data]    |   Package verbnet is already up-to-date!\n",
            "[nltk_data]    | Downloading package verbnet3 to /root/nltk_data...\n",
            "[nltk_data]    |   Package verbnet3 is already up-to-date!\n",
            "[nltk_data]    | Downloading package webtext to /root/nltk_data...\n",
            "[nltk_data]    |   Package webtext is already up-to-date!\n",
            "[nltk_data]    | Downloading package wordnet to /root/nltk_data...\n",
            "[nltk_data]    |   Package wordnet is already up-to-date!\n",
            "[nltk_data]    | Downloading package wordnet31 to /root/nltk_data...\n",
            "[nltk_data]    |   Package wordnet31 is already up-to-date!\n",
            "[nltk_data]    | Downloading package wordnet_ic to /root/nltk_data...\n",
            "[nltk_data]    |   Package wordnet_ic is already up-to-date!\n",
            "[nltk_data]    | Downloading package words to /root/nltk_data...\n",
            "[nltk_data]    |   Package words is already up-to-date!\n",
            "[nltk_data]    | Downloading package ycoe to /root/nltk_data...\n",
            "[nltk_data]    |   Package ycoe is already up-to-date!\n",
            "[nltk_data]    | Downloading package rslp to /root/nltk_data...\n",
            "[nltk_data]    |   Package rslp is already up-to-date!\n",
            "[nltk_data]    | Downloading package maxent_treebank_pos_tagger to\n",
            "[nltk_data]    |     /root/nltk_data...\n",
            "[nltk_data]    |   Package maxent_treebank_pos_tagger is already up-\n",
            "[nltk_data]    |       to-date!\n",
            "[nltk_data]    | Downloading package universal_tagset to\n",
            "[nltk_data]    |     /root/nltk_data...\n",
            "[nltk_data]    |   Package universal_tagset is already up-to-date!\n",
            "[nltk_data]    | Downloading package maxent_ne_chunker to\n",
            "[nltk_data]    |     /root/nltk_data...\n",
            "[nltk_data]    |   Package maxent_ne_chunker is already up-to-date!\n",
            "[nltk_data]    | Downloading package punkt to /root/nltk_data...\n",
            "[nltk_data]    |   Package punkt is already up-to-date!\n",
            "[nltk_data]    | Downloading package book_grammars to\n",
            "[nltk_data]    |     /root/nltk_data...\n",
            "[nltk_data]    |   Package book_grammars is already up-to-date!\n",
            "[nltk_data]    | Downloading package sample_grammars to\n",
            "[nltk_data]    |     /root/nltk_data...\n",
            "[nltk_data]    |   Package sample_grammars is already up-to-date!\n",
            "[nltk_data]    | Downloading package spanish_grammars to\n",
            "[nltk_data]    |     /root/nltk_data...\n",
            "[nltk_data]    |   Package spanish_grammars is already up-to-date!\n",
            "[nltk_data]    | Downloading package basque_grammars to\n",
            "[nltk_data]    |     /root/nltk_data...\n",
            "[nltk_data]    |   Package basque_grammars is already up-to-date!\n",
            "[nltk_data]    | Downloading package large_grammars to\n",
            "[nltk_data]    |     /root/nltk_data...\n",
            "[nltk_data]    |   Package large_grammars is already up-to-date!\n",
            "[nltk_data]    | Downloading package tagsets to /root/nltk_data...\n",
            "[nltk_data]    |   Package tagsets is already up-to-date!\n",
            "[nltk_data]    | Downloading package snowball_data to\n",
            "[nltk_data]    |     /root/nltk_data...\n",
            "[nltk_data]    |   Package snowball_data is already up-to-date!\n",
            "[nltk_data]    | Downloading package bllip_wsj_no_aux to\n",
            "[nltk_data]    |     /root/nltk_data...\n",
            "[nltk_data]    |   Package bllip_wsj_no_aux is already up-to-date!\n",
            "[nltk_data]    | Downloading package word2vec_sample to\n",
            "[nltk_data]    |     /root/nltk_data...\n",
            "[nltk_data]    |   Package word2vec_sample is already up-to-date!\n",
            "[nltk_data]    | Downloading package panlex_swadesh to\n",
            "[nltk_data]    |     /root/nltk_data...\n",
            "[nltk_data]    |   Package panlex_swadesh is already up-to-date!\n",
            "[nltk_data]    | Downloading package mte_teip5 to /root/nltk_data...\n",
            "[nltk_data]    |   Package mte_teip5 is already up-to-date!\n",
            "[nltk_data]    | Downloading package averaged_perceptron_tagger to\n",
            "[nltk_data]    |     /root/nltk_data...\n",
            "[nltk_data]    |   Package averaged_perceptron_tagger is already up-\n",
            "[nltk_data]    |       to-date!\n",
            "[nltk_data]    | Downloading package averaged_perceptron_tagger_ru to\n",
            "[nltk_data]    |     /root/nltk_data...\n",
            "[nltk_data]    |   Package averaged_perceptron_tagger_ru is already\n",
            "[nltk_data]    |       up-to-date!\n",
            "[nltk_data]    | Downloading package perluniprops to\n",
            "[nltk_data]    |     /root/nltk_data...\n",
            "[nltk_data]    |   Package perluniprops is already up-to-date!\n",
            "[nltk_data]    | Downloading package nonbreaking_prefixes to\n",
            "[nltk_data]    |     /root/nltk_data...\n",
            "[nltk_data]    |   Package nonbreaking_prefixes is already up-to-date!\n",
            "[nltk_data]    | Downloading package vader_lexicon to\n",
            "[nltk_data]    |     /root/nltk_data...\n",
            "[nltk_data]    |   Package vader_lexicon is already up-to-date!\n",
            "[nltk_data]    | Downloading package porter_test to /root/nltk_data...\n",
            "[nltk_data]    |   Package porter_test is already up-to-date!\n",
            "[nltk_data]    | Downloading package wmt15_eval to /root/nltk_data...\n",
            "[nltk_data]    |   Package wmt15_eval is already up-to-date!\n",
            "[nltk_data]    | Downloading package mwa_ppdb to /root/nltk_data...\n",
            "[nltk_data]    |   Package mwa_ppdb is already up-to-date!\n",
            "[nltk_data]    | \n",
            "[nltk_data]  Done downloading collection all\n"
          ]
        },
        {
          "output_type": "execute_result",
          "data": {
            "text/plain": [
              "True"
            ]
          },
          "metadata": {},
          "execution_count": 9
        }
      ]
    },
    {
      "cell_type": "code",
      "metadata": {
        "id": "TX5y7bbDi5Xb"
      },
      "source": [
        "# New Feature: Total number of sentences for each text in training and test dataset.\n",
        "\n",
        "def Tokenize(x):\n",
        "    return len(nltk.sent_tokenize(x))\n",
        "\n",
        "df_train['Senten_count'] = df_train['Sentence'].apply(lambda x: Tokenize(x))\n",
        "df_test['Senten_count'] = df_test['Sentence'].apply(lambda x: Tokenize(x))\n"
      ],
      "execution_count": 10,
      "outputs": []
    },
    {
      "cell_type": "code",
      "metadata": {
        "id": "-55T-1jY0Jwf"
      },
      "source": [
        "# New Feature: Total number of characters for each text in training and test dataset.\n",
        "\n",
        "def length(x):\n",
        "    return len(x)\n",
        "\n",
        "df_train['length'] = df_train['Sentence'].apply(lambda x: length(x))\n",
        "df_test['length'] = df_test['Sentence'].apply(lambda x: length(x))"
      ],
      "execution_count": 11,
      "outputs": []
    },
    {
      "cell_type": "code",
      "metadata": {
        "id": "rVngYg1gtLzV"
      },
      "source": [
        "# New Feature: Total number of words for each text in training and test dataset.\n",
        "\n",
        "import re\n",
        "from nltk.corpus import stopwords\n",
        "from nltk.stem import WordNetLemmatizer\n",
        "lemmatizer = WordNetLemmatizer()\n",
        "\n",
        "def counter(x):\n",
        "  r = re.sub('[^a-zA-Z]', ' ', x)\n",
        "  r = r.lower()\n",
        "  r = r.split()\n",
        "  word_count = len(r)\n",
        "  return word_count\n",
        "\n",
        "df_train[\"word_count\"] = df_train['Sentence'].apply(lambda x: counter(x))\n",
        "\n",
        "df_test[\"word_count\"] = df_test['Sentence'].apply(lambda x: counter(x))\n",
        "\n",
        "# New Feature: Total number of unique words for each text in training and test dataset.\n",
        "\n",
        "def UNQ_counter(x):\n",
        "  r = re.sub('[^a-zA-Z]', ' ', x)\n",
        "  r = r.lower()\n",
        "  r = r.split()\n",
        "  word_count = len(r)\n",
        "  unique_word_count = len(set(r))\n",
        "  return word_count\n",
        "\n",
        "df_train[\"UNQ_word_count\"] = df_train['Sentence'].apply(lambda x: UNQ_counter(x))\n",
        "\n",
        "df_test[\"UNQ_word_count\"] = df_test['Sentence'].apply(lambda x: UNQ_counter(x))\n",
        "\n",
        "# New Feature: Build processed text with following features:\n",
        "# 1. replace non alphabet text with spaces\n",
        "# 2. convert text in to lower case\n",
        "# 3. split in to tokens by using default (spaces)\n",
        "# 4. use lemmatizer to lemmatize words\n",
        "# 5. Remove stopwords\n",
        "# 6. re-join the remaining tokens using spaces\n",
        "# 7. Create a new feature called proc_text in training and text dataset \n",
        "\n",
        "\n",
        "def text_processing(x):\n",
        "  r = re.sub('[^a-zA-Z]', ' ', x)\n",
        "  r = r.lower()\n",
        "  r = r.split()\n",
        "  word_count = len(r)\n",
        "  unique_word_count = len(set(r))\n",
        "  r = [lemmatizer.lemmatize(word) for word in r]\n",
        "  r = [word for word in r if word not in stopwords.words('english')]\n",
        "  r = ' '.join(r)\n",
        "  return r\n",
        "\n",
        "df_train[\"proc_text\"] = df_train['Sentence'].apply(lambda x: text_processing(x))\n",
        "\n",
        "df_test[\"proc_text\"] = df_test['Sentence'].apply(lambda x: text_processing(x))\n"
      ],
      "execution_count": 12,
      "outputs": []
    },
    {
      "cell_type": "code",
      "metadata": {
        "colab": {
          "base_uri": "https://localhost:8080/",
          "height": 204
        },
        "id": "CN1nMnJL1tP3",
        "outputId": "bbff4143-a28d-47e1-eff8-bb2bc48772a9"
      },
      "source": [
        "df_train.head(5)"
      ],
      "execution_count": 13,
      "outputs": [
        {
          "output_type": "execute_result",
          "data": {
            "text/html": [
              "<div>\n",
              "<style scoped>\n",
              "    .dataframe tbody tr th:only-of-type {\n",
              "        vertical-align: middle;\n",
              "    }\n",
              "\n",
              "    .dataframe tbody tr th {\n",
              "        vertical-align: top;\n",
              "    }\n",
              "\n",
              "    .dataframe thead th {\n",
              "        text-align: right;\n",
              "    }\n",
              "</style>\n",
              "<table border=\"1\" class=\"dataframe\">\n",
              "  <thead>\n",
              "    <tr style=\"text-align: right;\">\n",
              "      <th></th>\n",
              "      <th>Sentence</th>\n",
              "      <th>Polarity</th>\n",
              "      <th>Senten_count</th>\n",
              "      <th>length</th>\n",
              "      <th>word_count</th>\n",
              "      <th>UNQ_word_count</th>\n",
              "      <th>proc_text</th>\n",
              "    </tr>\n",
              "  </thead>\n",
              "  <tbody>\n",
              "    <tr>\n",
              "      <th>0</th>\n",
              "      <td>Wow... Loved this place.</td>\n",
              "      <td>1</td>\n",
              "      <td>2</td>\n",
              "      <td>24</td>\n",
              "      <td>4</td>\n",
              "      <td>4</td>\n",
              "      <td>wow loved place</td>\n",
              "    </tr>\n",
              "    <tr>\n",
              "      <th>1</th>\n",
              "      <td>Crust is not good.</td>\n",
              "      <td>0</td>\n",
              "      <td>1</td>\n",
              "      <td>18</td>\n",
              "      <td>4</td>\n",
              "      <td>4</td>\n",
              "      <td>crust good</td>\n",
              "    </tr>\n",
              "    <tr>\n",
              "      <th>2</th>\n",
              "      <td>Not tasty and the texture was just nasty.</td>\n",
              "      <td>0</td>\n",
              "      <td>1</td>\n",
              "      <td>41</td>\n",
              "      <td>8</td>\n",
              "      <td>8</td>\n",
              "      <td>tasty texture wa nasty</td>\n",
              "    </tr>\n",
              "    <tr>\n",
              "      <th>3</th>\n",
              "      <td>Stopped by during the late May bank holiday of...</td>\n",
              "      <td>1</td>\n",
              "      <td>1</td>\n",
              "      <td>87</td>\n",
              "      <td>15</td>\n",
              "      <td>15</td>\n",
              "      <td>stopped late may bank holiday rick steve recom...</td>\n",
              "    </tr>\n",
              "    <tr>\n",
              "      <th>4</th>\n",
              "      <td>The selection on the menu was great and so wer...</td>\n",
              "      <td>1</td>\n",
              "      <td>1</td>\n",
              "      <td>59</td>\n",
              "      <td>12</td>\n",
              "      <td>12</td>\n",
              "      <td>selection menu wa great price</td>\n",
              "    </tr>\n",
              "  </tbody>\n",
              "</table>\n",
              "</div>"
            ],
            "text/plain": [
              "                                            Sentence  ...                                          proc_text\n",
              "0                           Wow... Loved this place.  ...                                    wow loved place\n",
              "1                                 Crust is not good.  ...                                         crust good\n",
              "2          Not tasty and the texture was just nasty.  ...                             tasty texture wa nasty\n",
              "3  Stopped by during the late May bank holiday of...  ...  stopped late may bank holiday rick steve recom...\n",
              "4  The selection on the menu was great and so wer...  ...                      selection menu wa great price\n",
              "\n",
              "[5 rows x 7 columns]"
            ]
          },
          "metadata": {},
          "execution_count": 13
        }
      ]
    },
    {
      "cell_type": "code",
      "metadata": {
        "colab": {
          "base_uri": "https://localhost:8080/",
          "height": 269
        },
        "id": "TSeWEfSDljRI",
        "outputId": "1d0650af-f1eb-4b5f-ece4-9da44922a460"
      },
      "source": [
        "# Analyse the histogram for length of text (characters in string) for each Polarity class\n",
        "import matplotlib.pyplot as plt\n",
        "%matplotlib inline\n",
        "\n",
        "plt.xscale('log')\n",
        "bins = 1.15**(np.arange(0,50))\n",
        "plt.hist(df_train[df_train['Polarity']==0]['length'],bins=bins,alpha=0.8)\n",
        "plt.hist(df_train[df_train['Polarity']==1]['length'],bins=bins,alpha=0.8)\n",
        "plt.legend(('class 0','class 1'))\n",
        "plt.show()\n",
        "\n",
        "# The histogram doesnt yield any distinguishable insights"
      ],
      "execution_count": 14,
      "outputs": [
        {
          "output_type": "display_data",
          "data": {
            "image/png": "[encoded data removed]",
            "text/plain": [
              "<Figure size 432x288 with 1 Axes>"
            ]
          },
          "metadata": {
            "needs_background": "light"
          }
        }
      ]
    },
    {
      "cell_type": "code",
      "metadata": {
        "colab": {
          "base_uri": "https://localhost:8080/",
          "height": 265
        },
        "id": "G-Rcgpn3oX6B",
        "outputId": "16ff349a-ab58-4f6b-8caf-3f4ea45d6504"
      },
      "source": [
        "# Analyse the histogram for word count for each Polarity class\n",
        "import matplotlib.pyplot as plt\n",
        "%matplotlib inline\n",
        "\n",
        "# plt.xscale('log')\n",
        "bins = 1.2**(np.arange(0,25))\n",
        "plt.hist(df_train[df_train['Polarity']==0]['word_count'],bins=bins,alpha=0.8)\n",
        "plt.hist(df_train[df_train['Polarity']==1]['word_count'],bins=bins,alpha=0.8)\n",
        "plt.legend(('class 0','class 1'))\n",
        "plt.show()\n",
        "\n",
        "# The histogram doesnt yield any distinguishable insights"
      ],
      "execution_count": 15,
      "outputs": [
        {
          "output_type": "display_data",
          "data": {
            "image/png": "[encoded data removed]",
            "text/plain": [
              "<Figure size 432x288 with 1 Axes>"
            ]
          },
          "metadata": {
            "needs_background": "light"
          }
        }
      ]
    },
    {
      "cell_type": "code",
      "metadata": {
        "colab": {
          "base_uri": "https://localhost:8080/",
          "height": 265
        },
        "id": "-OPftWAy1cDE",
        "outputId": "c620daf5-0084-4f68-e19d-26cc6f6a5e5f"
      },
      "source": [
        "# Analyse the histogram for unique word count for each Polarity class\n",
        "import matplotlib.pyplot as plt\n",
        "%matplotlib inline\n",
        "\n",
        "# plt.xscale('log')\n",
        "bins = 1.2**(np.arange(0,25))\n",
        "plt.hist(df_train[df_train['Polarity']==0]['UNQ_word_count'],bins=bins,alpha=0.8)\n",
        "plt.hist(df_train[df_train['Polarity']==1]['UNQ_word_count'],bins=bins,alpha=0.8)\n",
        "plt.legend(('class 0','class 1'))\n",
        "plt.show()\n",
        "\n",
        "# The histogram doesnt yield any distinguishable insights"
      ],
      "execution_count": 16,
      "outputs": [
        {
          "output_type": "display_data",
          "data": {
            "image/png": "[encoded data removed]",
            "text/plain": [
              "<Figure size 432x288 with 1 Axes>"
            ]
          },
          "metadata": {
            "needs_background": "light"
          }
        }
      ]
    },
    {
      "cell_type": "code",
      "metadata": {
        "colab": {
          "base_uri": "https://localhost:8080/",
          "height": 265
        },
        "id": "MokL4eH11cOv",
        "outputId": "51a5e986-33f8-42bd-e247-27f1daf7d7c3"
      },
      "source": [
        "# Analyse the histogram for number of sentences for each Polarity class\n",
        "import matplotlib.pyplot as plt\n",
        "%matplotlib inline\n",
        "\n",
        "# plt.xscale('log')\n",
        "bins = 1.2**(np.arange(0,10))\n",
        "plt.hist(df_train[df_train['Polarity']==0]['Senten_count'],bins=bins,alpha=0.5)\n",
        "plt.hist(df_train[df_train['Polarity']==1]['Senten_count'],bins=bins,alpha=0.5)\n",
        "plt.legend(('class 0','class 1'))\n",
        "plt.show()\n",
        "\n",
        "# The histogram doesnt yield any distinguishable insights"
      ],
      "execution_count": 17,
      "outputs": [
        {
          "output_type": "display_data",
          "data": {
            "image/png": "[encoded data removed]",
            "text/plain": [
              "<Figure size 432x288 with 1 Axes>"
            ]
          },
          "metadata": {
            "needs_background": "light"
          }
        }
      ]
    },
    {
      "cell_type": "markdown",
      "metadata": {
        "id": "CCHhkHKtaoH_"
      },
      "source": [
        "## Feature Scaling"
      ]
    },
    {
      "cell_type": "code",
      "metadata": {
        "colab": {
          "base_uri": "https://localhost:8080/",
          "height": 204
        },
        "id": "2nHFLm3Gaou_",
        "outputId": "6dcbcd15-d39c-42ba-b722-d9b3b8f59858"
      },
      "source": [
        "# Scale the new features as number of sentences range from 1 to 2 while the number of characters range to the 100's\n",
        "from sklearn.preprocessing import StandardScaler\n",
        "scaler = StandardScaler()\n",
        "\n",
        "df_train[[\"Senten_count\",\"length\",\"word_count\",\"UNQ_word_count\"]] = scaler.fit_transform(df_train[[\"Senten_count\",\"length\",\"word_count\",\"UNQ_word_count\"]])\n",
        "df_train.head()"
      ],
      "execution_count": 18,
      "outputs": [
        {
          "output_type": "execute_result",
          "data": {
            "text/html": [
              "<div>\n",
              "<style scoped>\n",
              "    .dataframe tbody tr th:only-of-type {\n",
              "        vertical-align: middle;\n",
              "    }\n",
              "\n",
              "    .dataframe tbody tr th {\n",
              "        vertical-align: top;\n",
              "    }\n",
              "\n",
              "    .dataframe thead th {\n",
              "        text-align: right;\n",
              "    }\n",
              "</style>\n",
              "<table border=\"1\" class=\"dataframe\">\n",
              "  <thead>\n",
              "    <tr style=\"text-align: right;\">\n",
              "      <th></th>\n",
              "      <th>Sentence</th>\n",
              "      <th>Polarity</th>\n",
              "      <th>Senten_count</th>\n",
              "      <th>length</th>\n",
              "      <th>word_count</th>\n",
              "      <th>UNQ_word_count</th>\n",
              "      <th>proc_text</th>\n",
              "    </tr>\n",
              "  </thead>\n",
              "  <tbody>\n",
              "    <tr>\n",
              "      <th>0</th>\n",
              "      <td>Wow... Loved this place.</td>\n",
              "      <td>1</td>\n",
              "      <td>5.296168</td>\n",
              "      <td>-0.953844</td>\n",
              "      <td>-1.011316</td>\n",
              "      <td>-1.011316</td>\n",
              "      <td>wow loved place</td>\n",
              "    </tr>\n",
              "    <tr>\n",
              "      <th>1</th>\n",
              "      <td>Crust is not good.</td>\n",
              "      <td>0</td>\n",
              "      <td>-0.184054</td>\n",
              "      <td>-1.111928</td>\n",
              "      <td>-1.011316</td>\n",
              "      <td>-1.011316</td>\n",
              "      <td>crust good</td>\n",
              "    </tr>\n",
              "    <tr>\n",
              "      <th>2</th>\n",
              "      <td>Not tasty and the texture was just nasty.</td>\n",
              "      <td>0</td>\n",
              "      <td>-0.184054</td>\n",
              "      <td>-0.505940</td>\n",
              "      <td>-0.452588</td>\n",
              "      <td>-0.452588</td>\n",
              "      <td>tasty texture wa nasty</td>\n",
              "    </tr>\n",
              "    <tr>\n",
              "      <th>3</th>\n",
              "      <td>Stopped by during the late May bank holiday of...</td>\n",
              "      <td>1</td>\n",
              "      <td>-0.184054</td>\n",
              "      <td>0.706034</td>\n",
              "      <td>0.525185</td>\n",
              "      <td>0.525185</td>\n",
              "      <td>stopped late may bank holiday rick steve recom...</td>\n",
              "    </tr>\n",
              "    <tr>\n",
              "      <th>4</th>\n",
              "      <td>The selection on the menu was great and so wer...</td>\n",
              "      <td>1</td>\n",
              "      <td>-0.184054</td>\n",
              "      <td>-0.031690</td>\n",
              "      <td>0.106140</td>\n",
              "      <td>0.106140</td>\n",
              "      <td>selection menu wa great price</td>\n",
              "    </tr>\n",
              "  </tbody>\n",
              "</table>\n",
              "</div>"
            ],
            "text/plain": [
              "                                            Sentence  ...                                          proc_text\n",
              "0                           Wow... Loved this place.  ...                                    wow loved place\n",
              "1                                 Crust is not good.  ...                                         crust good\n",
              "2          Not tasty and the texture was just nasty.  ...                             tasty texture wa nasty\n",
              "3  Stopped by during the late May bank holiday of...  ...  stopped late may bank holiday rick steve recom...\n",
              "4  The selection on the menu was great and so wer...  ...                      selection menu wa great price\n",
              "\n",
              "[5 rows x 7 columns]"
            ]
          },
          "metadata": {},
          "execution_count": 18
        }
      ]
    },
    {
      "cell_type": "code",
      "metadata": {
        "colab": {
          "base_uri": "https://localhost:8080/",
          "height": 204
        },
        "id": "RSUXshJCbYm-",
        "outputId": "dd6bf273-6bb9-40ea-ad19-a592b12bfdd2"
      },
      "source": [
        "df_test[[\"Senten_count\",\"length\",\"word_count\",\"UNQ_word_count\"]] = scaler.transform(df_test[[\"Senten_count\",\"length\",\"word_count\",\"UNQ_word_count\"]])\n",
        "df_test.head()"
      ],
      "execution_count": 19,
      "outputs": [
        {
          "output_type": "execute_result",
          "data": {
            "text/html": [
              "<div>\n",
              "<style scoped>\n",
              "    .dataframe tbody tr th:only-of-type {\n",
              "        vertical-align: middle;\n",
              "    }\n",
              "\n",
              "    .dataframe tbody tr th {\n",
              "        vertical-align: top;\n",
              "    }\n",
              "\n",
              "    .dataframe thead th {\n",
              "        text-align: right;\n",
              "    }\n",
              "</style>\n",
              "<table border=\"1\" class=\"dataframe\">\n",
              "  <thead>\n",
              "    <tr style=\"text-align: right;\">\n",
              "      <th></th>\n",
              "      <th>Sentence</th>\n",
              "      <th>Polarity</th>\n",
              "      <th>Senten_count</th>\n",
              "      <th>length</th>\n",
              "      <th>word_count</th>\n",
              "      <th>UNQ_word_count</th>\n",
              "      <th>proc_text</th>\n",
              "    </tr>\n",
              "  </thead>\n",
              "  <tbody>\n",
              "    <tr>\n",
              "      <th>0</th>\n",
              "      <td>A good commentary of today's love and undoubte...</td>\n",
              "      <td>1</td>\n",
              "      <td>-0.184054</td>\n",
              "      <td>0.310825</td>\n",
              "      <td>0.245822</td>\n",
              "      <td>0.245822</td>\n",
              "      <td>good commentary today love undoubtedly film wo...</td>\n",
              "    </tr>\n",
              "    <tr>\n",
              "      <th>1</th>\n",
              "      <td>For people who are first timers in film making...</td>\n",
              "      <td>1</td>\n",
              "      <td>5.296168</td>\n",
              "      <td>0.653339</td>\n",
              "      <td>0.664867</td>\n",
              "      <td>0.664867</td>\n",
              "      <td>people first timer film making think excellent...</td>\n",
              "    </tr>\n",
              "    <tr>\n",
              "      <th>2</th>\n",
              "      <td>It was very popular when I was in the cinema, ...</td>\n",
              "      <td>1</td>\n",
              "      <td>-0.184054</td>\n",
              "      <td>1.206632</td>\n",
              "      <td>1.363277</td>\n",
              "      <td>1.363277</td>\n",
              "      <td>wa popular wa cinema good house good reaction ...</td>\n",
              "    </tr>\n",
              "    <tr>\n",
              "      <th>3</th>\n",
              "      <td>It's a feel-good film and that's how I felt wh...</td>\n",
              "      <td>1</td>\n",
              "      <td>-0.184054</td>\n",
              "      <td>0.416214</td>\n",
              "      <td>1.083913</td>\n",
              "      <td>1.083913</td>\n",
              "      <td>feel good film felt came cinema</td>\n",
              "    </tr>\n",
              "    <tr>\n",
              "      <th>4</th>\n",
              "      <td>It has northern humour and positive about the ...</td>\n",
              "      <td>1</td>\n",
              "      <td>-0.184054</td>\n",
              "      <td>0.310825</td>\n",
              "      <td>-0.033542</td>\n",
              "      <td>-0.033542</td>\n",
              "      <td>ha northern humour positive community represents</td>\n",
              "    </tr>\n",
              "  </tbody>\n",
              "</table>\n",
              "</div>"
            ],
            "text/plain": [
              "                                            Sentence  ...                                          proc_text\n",
              "0  A good commentary of today's love and undoubte...  ...  good commentary today love undoubtedly film wo...\n",
              "1  For people who are first timers in film making...  ...  people first timer film making think excellent...\n",
              "2  It was very popular when I was in the cinema, ...  ...  wa popular wa cinema good house good reaction ...\n",
              "3  It's a feel-good film and that's how I felt wh...  ...                    feel good film felt came cinema\n",
              "4  It has northern humour and positive about the ...  ...   ha northern humour positive community represents\n",
              "\n",
              "[5 rows x 7 columns]"
            ]
          },
          "metadata": {},
          "execution_count": 19
        }
      ]
    },
    {
      "cell_type": "markdown",
      "metadata": {
        "id": "B7muH59HoiHG"
      },
      "source": [
        "## Test Train Split for baseline model"
      ]
    },
    {
      "cell_type": "code",
      "metadata": {
        "colab": {
          "base_uri": "https://localhost:8080/"
        },
        "id": "eb_AhGvfogzS",
        "outputId": "80064821-193f-4a79-ceb6-c9a79e3aebb8"
      },
      "source": [
        "# split the training set for training and validation\n",
        "from sklearn.model_selection import train_test_split\n",
        "\n",
        "y = df_train.Polarity\n",
        "X = df_train.drop(\"Polarity\",axis=1)\n",
        "\n",
        "\n",
        "X_train, X_test, y_train, y_test = train_test_split(X, y, test_size=0.25, \n",
        "                                                    random_state=666)\n",
        "\n",
        "print('Training Data :', X_train.shape)\n",
        "print('Testing Data : ', X_test.shape)"
      ],
      "execution_count": 20,
      "outputs": [
        {
          "output_type": "stream",
          "name": "stdout",
          "text": [
            "Training Data : (1786, 6)\n",
            "Testing Data :  (596, 6)\n"
          ]
        }
      ]
    },
    {
      "cell_type": "code",
      "metadata": {
        "colab": {
          "base_uri": "https://localhost:8080/",
          "height": 279
        },
        "id": "piKW2oK7ohDG",
        "outputId": "0ae0fb79-c456-4804-c978-ac274d0d869e"
      },
      "source": [
        "y_train.value_counts().plot.bar()\n"
      ],
      "execution_count": 21,
      "outputs": [
        {
          "output_type": "execute_result",
          "data": {
            "text/plain": [
              "<matplotlib.axes._subplots.AxesSubplot at 0x7f5656604950>"
            ]
          },
          "metadata": {},
          "execution_count": 21
        },
        {
          "output_type": "display_data",
          "data": {
            "image/png": "[encoded data removed]",
            "text/plain": [
              "<Figure size 432x288 with 1 Axes>"
            ]
          },
          "metadata": {
            "needs_background": "light"
          }
        }
      ]
    },
    {
      "cell_type": "code",
      "metadata": {
        "id": "xzdFmF2sPYQj"
      },
      "source": [
        "# Dataset for baseline splits\n",
        "X_train_b = X_train[[\"Senten_count\",\"length\",\"word_count\",\"UNQ_word_count\"]]\n",
        "X_test_b = X_test[[\"Senten_count\",\"length\",\"word_count\",\"UNQ_word_count\"]]"
      ],
      "execution_count": 22,
      "outputs": []
    },
    {
      "cell_type": "markdown",
      "metadata": {
        "id": "QaADA3HpO1wN"
      },
      "source": [
        "## Baseline Model \n",
        "using features like Length, nos of Sentences, nos of words and nos of unique words "
      ]
    },
    {
      "cell_type": "code",
      "metadata": {
        "colab": {
          "base_uri": "https://localhost:8080/"
        },
        "id": "7U7y-C7YO2at",
        "outputId": "38bc8296-0b8e-4575-92b3-45cb2fc1a190"
      },
      "source": [
        "# Logistics regression as baseline model with class weights as balanced\n",
        "from sklearn.linear_model import LogisticRegression\n",
        "lr = LogisticRegression(class_weight=\"balanced\",random_state=666)\n",
        "lr.fit(X_train_b, y_train)"
      ],
      "execution_count": 23,
      "outputs": [
        {
          "output_type": "execute_result",
          "data": {
            "text/plain": [
              "LogisticRegression(C=1.0, class_weight='balanced', dual=False,\n",
              "                   fit_intercept=True, intercept_scaling=1, l1_ratio=None,\n",
              "                   max_iter=100, multi_class='auto', n_jobs=None, penalty='l2',\n",
              "                   random_state=666, solver='lbfgs', tol=0.0001, verbose=0,\n",
              "                   warm_start=False)"
            ]
          },
          "metadata": {},
          "execution_count": 23
        }
      ]
    },
    {
      "cell_type": "code",
      "metadata": {
        "id": "N4QjAOHJPPD0"
      },
      "source": [
        "from sklearn import metrics\n",
        "\n",
        "# Create a prediction set:\n",
        "predictions = lr.predict(X_test_b)\n"
      ],
      "execution_count": 24,
      "outputs": []
    },
    {
      "cell_type": "code",
      "metadata": {
        "colab": {
          "base_uri": "https://localhost:8080/"
        },
        "id": "kFmHPvARPPP7",
        "outputId": "e37092f4-ead4-4b69-cab9-b93c49a64fe2"
      },
      "source": [
        "# classification report\n",
        "print(metrics.classification_report(y_test,predictions))"
      ],
      "execution_count": 25,
      "outputs": [
        {
          "output_type": "stream",
          "name": "stdout",
          "text": [
            "              precision    recall  f1-score   support\n",
            "\n",
            "           0       0.58      0.47      0.52       310\n",
            "           1       0.52      0.63      0.57       286\n",
            "\n",
            "    accuracy                           0.55       596\n",
            "   macro avg       0.55      0.55      0.55       596\n",
            "weighted avg       0.55      0.55      0.54       596\n",
            "\n"
          ]
        }
      ]
    },
    {
      "cell_type": "code",
      "metadata": {
        "colab": {
          "base_uri": "https://localhost:8080/"
        },
        "id": "hqSKjZQbP3Q5",
        "outputId": "4cfb8c13-7521-4098-bd39-fe7b451c8fda"
      },
      "source": [
        "from sklearn import metrics\n",
        "# Check AUC\n",
        "print(metrics.roc_auc_score(y_test,lr.predict_proba(X_test_b)[:, 1]))\n",
        "\n",
        "# the model is not good, just better than random guess"
      ],
      "execution_count": 26,
      "outputs": [
        {
          "output_type": "stream",
          "name": "stdout",
          "text": [
            "0.5712271599368374\n"
          ]
        }
      ]
    },
    {
      "cell_type": "code",
      "metadata": {
        "colab": {
          "base_uri": "https://localhost:8080/"
        },
        "id": "aUXgORXxSuDR",
        "outputId": "6befd815-c076-46e8-e798-8e083db27350"
      },
      "source": [
        "# Check F1 Score\n",
        "print(metrics.f1_score(y_test,predictions))"
      ],
      "execution_count": 27,
      "outputs": [
        {
          "output_type": "stream",
          "name": "stdout",
          "text": [
            "0.5727848101265823\n"
          ]
        }
      ]
    },
    {
      "cell_type": "code",
      "metadata": {
        "colab": {
          "base_uri": "https://localhost:8080/",
          "height": 427
        },
        "id": "v7NKxIZCP3Wn",
        "outputId": "975589a0-a076-4497-f6f8-5e805e68b5a0"
      },
      "source": [
        "from yellowbrick.classifier import ConfusionMatrix\n",
        "cm = ConfusionMatrix(lr, classes=[0,1])\n",
        "cm.fit(X_train_b, y_train)\n",
        "cm.score(X_test_b, y_test)\n",
        "cm.poof();"
      ],
      "execution_count": 28,
      "outputs": [
        {
          "output_type": "stream",
          "name": "stderr",
          "text": [
            "/usr/local/lib/python3.7/dist-packages/sklearn/utils/deprecation.py:144: FutureWarning: The sklearn.metrics.classification module is  deprecated in version 0.22 and will be removed in version 0.24. The corresponding classes / functions should instead be imported from sklearn.metrics. Anything that cannot be imported from sklearn.metrics is now part of the private API.\n",
            "  warnings.warn(message, FutureWarning)\n"
          ]
        },
        {
          "output_type": "display_data",
          "data": {
            "image/png": "[encoded data removed]",
            "text/plain": [
              "<Figure size 576x396 with 1 Axes>"
            ]
          },
          "metadata": {}
        }
      ]
    },
    {
      "cell_type": "markdown",
      "metadata": {
        "id": "pyFKGpNz6wcm"
      },
      "source": [
        "## Bag of Words"
      ]
    },
    {
      "cell_type": "code",
      "metadata": {
        "id": "sQXx8shveHFx"
      },
      "source": [
        "# Create new features: Bag of Words based on processed text (not on original text)\n",
        "y = df_train.Polarity\n",
        "X = df_train.proc_text\n",
        "\n",
        "test = df_test.proc_text"
      ],
      "execution_count": 29,
      "outputs": []
    },
    {
      "cell_type": "code",
      "metadata": {
        "id": "bcKGaxiQohMX"
      },
      "source": [
        "from sklearn.feature_extraction.text import CountVectorizer, TfidfVectorizer\n",
        "cv = CountVectorizer()\n",
        "# tfidf = TfidfVectorizer() \n",
        "# TFIDF model gave a lower auc and f1"
      ],
      "execution_count": 30,
      "outputs": []
    },
    {
      "cell_type": "code",
      "metadata": {
        "colab": {
          "base_uri": "https://localhost:8080/"
        },
        "id": "AVN4WkNaAGIf",
        "outputId": "3945b032-55b2-403e-ab26-72904993c19a"
      },
      "source": [
        "X.head(20)"
      ],
      "execution_count": 31,
      "outputs": [
        {
          "output_type": "execute_result",
          "data": {
            "text/plain": [
              "0                                       wow loved place\n",
              "1                                            crust good\n",
              "2                                tasty texture wa nasty\n",
              "3     stopped late may bank holiday rick steve recom...\n",
              "4                         selection menu wa great price\n",
              "5                           getting angry want damn pho\n",
              "6                                  honeslty taste fresh\n",
              "7     potato like rubber could tell made ahead time ...\n",
              "8                                             fry great\n",
              "9                                           great touch\n",
              "10                                    service wa prompt\n",
              "11                                        would go back\n",
              "12    cashier care ever say still ended wayyy overpr...\n",
              "13         tried cape cod ravoli chicken cranberry mmmm\n",
              "14            wa disgusted wa pretty sure wa human hair\n",
              "15                        wa shocked sign indicate cash\n",
              "16                                   highly recommended\n",
              "17                      waitress wa little slow service\n",
              "18                      place worth time let alone vega\n",
              "19                                                 like\n",
              "Name: proc_text, dtype: object"
            ]
          },
          "metadata": {},
          "execution_count": 31
        }
      ]
    },
    {
      "cell_type": "code",
      "metadata": {
        "id": "O0-QwEVci5aw"
      },
      "source": [
        "X_bow = cv.fit_transform(X)\n",
        "\n",
        "test_bow = cv.transform(test)"
      ],
      "execution_count": 32,
      "outputs": []
    },
    {
      "cell_type": "code",
      "metadata": {
        "id": "vBVxfmBqi5eI"
      },
      "source": [
        "# convert to array\n",
        "X_bow_arr = X_bow.toarray()\n",
        "test_bow_arr = test_bow.toarray()"
      ],
      "execution_count": 33,
      "outputs": []
    },
    {
      "cell_type": "code",
      "metadata": {
        "id": "sMv4xtqOi5k3"
      },
      "source": [
        "# convert to DataFrame\n",
        "X_bow_df = pd.DataFrame(X_bow_arr)\n",
        "\n",
        "test_bow_df = pd.DataFrame(test_bow_arr)"
      ],
      "execution_count": 34,
      "outputs": []
    },
    {
      "cell_type": "code",
      "metadata": {
        "id": "Tv9X4UL1i5oW"
      },
      "source": [
        "# Add column names\n",
        "X_bow_df.columns = cv.get_feature_names()\n",
        "test_bow_df.columns = cv.get_feature_names()"
      ],
      "execution_count": 35,
      "outputs": []
    },
    {
      "cell_type": "code",
      "metadata": {
        "colab": {
          "base_uri": "https://localhost:8080/",
          "height": 253
        },
        "id": "WcOC8MyuArT7",
        "outputId": "653e54ca-692d-4195-bccd-29e215d73828"
      },
      "source": [
        "X_bow_df.head()"
      ],
      "execution_count": 36,
      "outputs": [
        {
          "output_type": "execute_result",
          "data": {
            "text/html": [
              "<div>\n",
              "<style scoped>\n",
              "    .dataframe tbody tr th:only-of-type {\n",
              "        vertical-align: middle;\n",
              "    }\n",
              "\n",
              "    .dataframe tbody tr th {\n",
              "        vertical-align: top;\n",
              "    }\n",
              "\n",
              "    .dataframe thead th {\n",
              "        text-align: right;\n",
              "    }\n",
              "</style>\n",
              "<table border=\"1\" class=\"dataframe\">\n",
              "  <thead>\n",
              "    <tr style=\"text-align: right;\">\n",
              "      <th></th>\n",
              "      <th>abhor</th>\n",
              "      <th>ability</th>\n",
              "      <th>able</th>\n",
              "      <th>abound</th>\n",
              "      <th>absolute</th>\n",
              "      <th>absolutel</th>\n",
              "      <th>absolutely</th>\n",
              "      <th>absolutley</th>\n",
              "      <th>abstruse</th>\n",
              "      <th>ac</th>\n",
              "      <th>accept</th>\n",
              "      <th>acceptable</th>\n",
              "      <th>access</th>\n",
              "      <th>accessable</th>\n",
              "      <th>accessing</th>\n",
              "      <th>accessory</th>\n",
              "      <th>accessoryone</th>\n",
              "      <th>accident</th>\n",
              "      <th>accidentally</th>\n",
              "      <th>accommodation</th>\n",
              "      <th>accomodate</th>\n",
              "      <th>accompanied</th>\n",
              "      <th>according</th>\n",
              "      <th>accountant</th>\n",
              "      <th>accurately</th>\n",
              "      <th>accused</th>\n",
              "      <th>ache</th>\n",
              "      <th>acknowledged</th>\n",
              "      <th>across</th>\n",
              "      <th>acted</th>\n",
              "      <th>acting</th>\n",
              "      <th>action</th>\n",
              "      <th>activate</th>\n",
              "      <th>activated</th>\n",
              "      <th>activesync</th>\n",
              "      <th>actor</th>\n",
              "      <th>actress</th>\n",
              "      <th>actual</th>\n",
              "      <th>actually</th>\n",
              "      <th>ad</th>\n",
              "      <th>...</th>\n",
              "      <th>worker</th>\n",
              "      <th>working</th>\n",
              "      <th>world</th>\n",
              "      <th>worn</th>\n",
              "      <th>worry</th>\n",
              "      <th>worse</th>\n",
              "      <th>worst</th>\n",
              "      <th>worth</th>\n",
              "      <th>worthless</th>\n",
              "      <th>worthwhile</th>\n",
              "      <th>would</th>\n",
              "      <th>wound</th>\n",
              "      <th>wow</th>\n",
              "      <th>wrap</th>\n",
              "      <th>wrapped</th>\n",
              "      <th>writer</th>\n",
              "      <th>writing</th>\n",
              "      <th>written</th>\n",
              "      <th>wrong</th>\n",
              "      <th>wrongly</th>\n",
              "      <th>ya</th>\n",
              "      <th>yama</th>\n",
              "      <th>yawn</th>\n",
              "      <th>yay</th>\n",
              "      <th>yeah</th>\n",
              "      <th>year</th>\n",
              "      <th>yell</th>\n",
              "      <th>yellow</th>\n",
              "      <th>yellowtail</th>\n",
              "      <th>yelpers</th>\n",
              "      <th>yes</th>\n",
              "      <th>yet</th>\n",
              "      <th>young</th>\n",
              "      <th>youthful</th>\n",
              "      <th>yucky</th>\n",
              "      <th>yukon</th>\n",
              "      <th>yum</th>\n",
              "      <th>yummy</th>\n",
              "      <th>zero</th>\n",
              "      <th>zombiez</th>\n",
              "    </tr>\n",
              "  </thead>\n",
              "  <tbody>\n",
              "    <tr>\n",
              "      <th>0</th>\n",
              "      <td>0</td>\n",
              "      <td>0</td>\n",
              "      <td>0</td>\n",
              "      <td>0</td>\n",
              "      <td>0</td>\n",
              "      <td>0</td>\n",
              "      <td>0</td>\n",
              "      <td>0</td>\n",
              "      <td>0</td>\n",
              "      <td>0</td>\n",
              "      <td>0</td>\n",
              "      <td>0</td>\n",
              "      <td>0</td>\n",
              "      <td>0</td>\n",
              "      <td>0</td>\n",
              "      <td>0</td>\n",
              "      <td>0</td>\n",
              "      <td>0</td>\n",
              "      <td>0</td>\n",
              "      <td>0</td>\n",
              "      <td>0</td>\n",
              "      <td>0</td>\n",
              "      <td>0</td>\n",
              "      <td>0</td>\n",
              "      <td>0</td>\n",
              "      <td>0</td>\n",
              "      <td>0</td>\n",
              "      <td>0</td>\n",
              "      <td>0</td>\n",
              "      <td>0</td>\n",
              "      <td>0</td>\n",
              "      <td>0</td>\n",
              "      <td>0</td>\n",
              "      <td>0</td>\n",
              "      <td>0</td>\n",
              "      <td>0</td>\n",
              "      <td>0</td>\n",
              "      <td>0</td>\n",
              "      <td>0</td>\n",
              "      <td>0</td>\n",
              "      <td>...</td>\n",
              "      <td>0</td>\n",
              "      <td>0</td>\n",
              "      <td>0</td>\n",
              "      <td>0</td>\n",
              "      <td>0</td>\n",
              "      <td>0</td>\n",
              "      <td>0</td>\n",
              "      <td>0</td>\n",
              "      <td>0</td>\n",
              "      <td>0</td>\n",
              "      <td>0</td>\n",
              "      <td>0</td>\n",
              "      <td>1</td>\n",
              "      <td>0</td>\n",
              "      <td>0</td>\n",
              "      <td>0</td>\n",
              "      <td>0</td>\n",
              "      <td>0</td>\n",
              "      <td>0</td>\n",
              "      <td>0</td>\n",
              "      <td>0</td>\n",
              "      <td>0</td>\n",
              "      <td>0</td>\n",
              "      <td>0</td>\n",
              "      <td>0</td>\n",
              "      <td>0</td>\n",
              "      <td>0</td>\n",
              "      <td>0</td>\n",
              "      <td>0</td>\n",
              "      <td>0</td>\n",
              "      <td>0</td>\n",
              "      <td>0</td>\n",
              "      <td>0</td>\n",
              "      <td>0</td>\n",
              "      <td>0</td>\n",
              "      <td>0</td>\n",
              "      <td>0</td>\n",
              "      <td>0</td>\n",
              "      <td>0</td>\n",
              "      <td>0</td>\n",
              "    </tr>\n",
              "    <tr>\n",
              "      <th>1</th>\n",
              "      <td>0</td>\n",
              "      <td>0</td>\n",
              "      <td>0</td>\n",
              "      <td>0</td>\n",
              "      <td>0</td>\n",
              "      <td>0</td>\n",
              "      <td>0</td>\n",
              "      <td>0</td>\n",
              "      <td>0</td>\n",
              "      <td>0</td>\n",
              "      <td>0</td>\n",
              "      <td>0</td>\n",
              "      <td>0</td>\n",
              "      <td>0</td>\n",
              "      <td>0</td>\n",
              "      <td>0</td>\n",
              "      <td>0</td>\n",
              "      <td>0</td>\n",
              "      <td>0</td>\n",
              "      <td>0</td>\n",
              "      <td>0</td>\n",
              "      <td>0</td>\n",
              "      <td>0</td>\n",
              "      <td>0</td>\n",
              "      <td>0</td>\n",
              "      <td>0</td>\n",
              "      <td>0</td>\n",
              "      <td>0</td>\n",
              "      <td>0</td>\n",
              "      <td>0</td>\n",
              "      <td>0</td>\n",
              "      <td>0</td>\n",
              "      <td>0</td>\n",
              "      <td>0</td>\n",
              "      <td>0</td>\n",
              "      <td>0</td>\n",
              "      <td>0</td>\n",
              "      <td>0</td>\n",
              "      <td>0</td>\n",
              "      <td>0</td>\n",
              "      <td>...</td>\n",
              "      <td>0</td>\n",
              "      <td>0</td>\n",
              "      <td>0</td>\n",
              "      <td>0</td>\n",
              "      <td>0</td>\n",
              "      <td>0</td>\n",
              "      <td>0</td>\n",
              "      <td>0</td>\n",
              "      <td>0</td>\n",
              "      <td>0</td>\n",
              "      <td>0</td>\n",
              "      <td>0</td>\n",
              "      <td>0</td>\n",
              "      <td>0</td>\n",
              "      <td>0</td>\n",
              "      <td>0</td>\n",
              "      <td>0</td>\n",
              "      <td>0</td>\n",
              "      <td>0</td>\n",
              "      <td>0</td>\n",
              "      <td>0</td>\n",
              "      <td>0</td>\n",
              "      <td>0</td>\n",
              "      <td>0</td>\n",
              "      <td>0</td>\n",
              "      <td>0</td>\n",
              "      <td>0</td>\n",
              "      <td>0</td>\n",
              "      <td>0</td>\n",
              "      <td>0</td>\n",
              "      <td>0</td>\n",
              "      <td>0</td>\n",
              "      <td>0</td>\n",
              "      <td>0</td>\n",
              "      <td>0</td>\n",
              "      <td>0</td>\n",
              "      <td>0</td>\n",
              "      <td>0</td>\n",
              "      <td>0</td>\n",
              "      <td>0</td>\n",
              "    </tr>\n",
              "    <tr>\n",
              "      <th>2</th>\n",
              "      <td>0</td>\n",
              "      <td>0</td>\n",
              "      <td>0</td>\n",
              "      <td>0</td>\n",
              "      <td>0</td>\n",
              "      <td>0</td>\n",
              "      <td>0</td>\n",
              "      <td>0</td>\n",
              "      <td>0</td>\n",
              "      <td>0</td>\n",
              "      <td>0</td>\n",
              "      <td>0</td>\n",
              "      <td>0</td>\n",
              "      <td>0</td>\n",
              "      <td>0</td>\n",
              "      <td>0</td>\n",
              "      <td>0</td>\n",
              "      <td>0</td>\n",
              "      <td>0</td>\n",
              "      <td>0</td>\n",
              "      <td>0</td>\n",
              "      <td>0</td>\n",
              "      <td>0</td>\n",
              "      <td>0</td>\n",
              "      <td>0</td>\n",
              "      <td>0</td>\n",
              "      <td>0</td>\n",
              "      <td>0</td>\n",
              "      <td>0</td>\n",
              "      <td>0</td>\n",
              "      <td>0</td>\n",
              "      <td>0</td>\n",
              "      <td>0</td>\n",
              "      <td>0</td>\n",
              "      <td>0</td>\n",
              "      <td>0</td>\n",
              "      <td>0</td>\n",
              "      <td>0</td>\n",
              "      <td>0</td>\n",
              "      <td>0</td>\n",
              "      <td>...</td>\n",
              "      <td>0</td>\n",
              "      <td>0</td>\n",
              "      <td>0</td>\n",
              "      <td>0</td>\n",
              "      <td>0</td>\n",
              "      <td>0</td>\n",
              "      <td>0</td>\n",
              "      <td>0</td>\n",
              "      <td>0</td>\n",
              "      <td>0</td>\n",
              "      <td>0</td>\n",
              "      <td>0</td>\n",
              "      <td>0</td>\n",
              "      <td>0</td>\n",
              "      <td>0</td>\n",
              "      <td>0</td>\n",
              "      <td>0</td>\n",
              "      <td>0</td>\n",
              "      <td>0</td>\n",
              "      <td>0</td>\n",
              "      <td>0</td>\n",
              "      <td>0</td>\n",
              "      <td>0</td>\n",
              "      <td>0</td>\n",
              "      <td>0</td>\n",
              "      <td>0</td>\n",
              "      <td>0</td>\n",
              "      <td>0</td>\n",
              "      <td>0</td>\n",
              "      <td>0</td>\n",
              "      <td>0</td>\n",
              "      <td>0</td>\n",
              "      <td>0</td>\n",
              "      <td>0</td>\n",
              "      <td>0</td>\n",
              "      <td>0</td>\n",
              "      <td>0</td>\n",
              "      <td>0</td>\n",
              "      <td>0</td>\n",
              "      <td>0</td>\n",
              "    </tr>\n",
              "    <tr>\n",
              "      <th>3</th>\n",
              "      <td>0</td>\n",
              "      <td>0</td>\n",
              "      <td>0</td>\n",
              "      <td>0</td>\n",
              "      <td>0</td>\n",
              "      <td>0</td>\n",
              "      <td>0</td>\n",
              "      <td>0</td>\n",
              "      <td>0</td>\n",
              "      <td>0</td>\n",
              "      <td>0</td>\n",
              "      <td>0</td>\n",
              "      <td>0</td>\n",
              "      <td>0</td>\n",
              "      <td>0</td>\n",
              "      <td>0</td>\n",
              "      <td>0</td>\n",
              "      <td>0</td>\n",
              "      <td>0</td>\n",
              "      <td>0</td>\n",
              "      <td>0</td>\n",
              "      <td>0</td>\n",
              "      <td>0</td>\n",
              "      <td>0</td>\n",
              "      <td>0</td>\n",
              "      <td>0</td>\n",
              "      <td>0</td>\n",
              "      <td>0</td>\n",
              "      <td>0</td>\n",
              "      <td>0</td>\n",
              "      <td>0</td>\n",
              "      <td>0</td>\n",
              "      <td>0</td>\n",
              "      <td>0</td>\n",
              "      <td>0</td>\n",
              "      <td>0</td>\n",
              "      <td>0</td>\n",
              "      <td>0</td>\n",
              "      <td>0</td>\n",
              "      <td>0</td>\n",
              "      <td>...</td>\n",
              "      <td>0</td>\n",
              "      <td>0</td>\n",
              "      <td>0</td>\n",
              "      <td>0</td>\n",
              "      <td>0</td>\n",
              "      <td>0</td>\n",
              "      <td>0</td>\n",
              "      <td>0</td>\n",
              "      <td>0</td>\n",
              "      <td>0</td>\n",
              "      <td>0</td>\n",
              "      <td>0</td>\n",
              "      <td>0</td>\n",
              "      <td>0</td>\n",
              "      <td>0</td>\n",
              "      <td>0</td>\n",
              "      <td>0</td>\n",
              "      <td>0</td>\n",
              "      <td>0</td>\n",
              "      <td>0</td>\n",
              "      <td>0</td>\n",
              "      <td>0</td>\n",
              "      <td>0</td>\n",
              "      <td>0</td>\n",
              "      <td>0</td>\n",
              "      <td>0</td>\n",
              "      <td>0</td>\n",
              "      <td>0</td>\n",
              "      <td>0</td>\n",
              "      <td>0</td>\n",
              "      <td>0</td>\n",
              "      <td>0</td>\n",
              "      <td>0</td>\n",
              "      <td>0</td>\n",
              "      <td>0</td>\n",
              "      <td>0</td>\n",
              "      <td>0</td>\n",
              "      <td>0</td>\n",
              "      <td>0</td>\n",
              "      <td>0</td>\n",
              "    </tr>\n",
              "    <tr>\n",
              "      <th>4</th>\n",
              "      <td>0</td>\n",
              "      <td>0</td>\n",
              "      <td>0</td>\n",
              "      <td>0</td>\n",
              "      <td>0</td>\n",
              "      <td>0</td>\n",
              "      <td>0</td>\n",
              "      <td>0</td>\n",
              "      <td>0</td>\n",
              "      <td>0</td>\n",
              "      <td>0</td>\n",
              "      <td>0</td>\n",
              "      <td>0</td>\n",
              "      <td>0</td>\n",
              "      <td>0</td>\n",
              "      <td>0</td>\n",
              "      <td>0</td>\n",
              "      <td>0</td>\n",
              "      <td>0</td>\n",
              "      <td>0</td>\n",
              "      <td>0</td>\n",
              "      <td>0</td>\n",
              "      <td>0</td>\n",
              "      <td>0</td>\n",
              "      <td>0</td>\n",
              "      <td>0</td>\n",
              "      <td>0</td>\n",
              "      <td>0</td>\n",
              "      <td>0</td>\n",
              "      <td>0</td>\n",
              "      <td>0</td>\n",
              "      <td>0</td>\n",
              "      <td>0</td>\n",
              "      <td>0</td>\n",
              "      <td>0</td>\n",
              "      <td>0</td>\n",
              "      <td>0</td>\n",
              "      <td>0</td>\n",
              "      <td>0</td>\n",
              "      <td>0</td>\n",
              "      <td>...</td>\n",
              "      <td>0</td>\n",
              "      <td>0</td>\n",
              "      <td>0</td>\n",
              "      <td>0</td>\n",
              "      <td>0</td>\n",
              "      <td>0</td>\n",
              "      <td>0</td>\n",
              "      <td>0</td>\n",
              "      <td>0</td>\n",
              "      <td>0</td>\n",
              "      <td>0</td>\n",
              "      <td>0</td>\n",
              "      <td>0</td>\n",
              "      <td>0</td>\n",
              "      <td>0</td>\n",
              "      <td>0</td>\n",
              "      <td>0</td>\n",
              "      <td>0</td>\n",
              "      <td>0</td>\n",
              "      <td>0</td>\n",
              "      <td>0</td>\n",
              "      <td>0</td>\n",
              "      <td>0</td>\n",
              "      <td>0</td>\n",
              "      <td>0</td>\n",
              "      <td>0</td>\n",
              "      <td>0</td>\n",
              "      <td>0</td>\n",
              "      <td>0</td>\n",
              "      <td>0</td>\n",
              "      <td>0</td>\n",
              "      <td>0</td>\n",
              "      <td>0</td>\n",
              "      <td>0</td>\n",
              "      <td>0</td>\n",
              "      <td>0</td>\n",
              "      <td>0</td>\n",
              "      <td>0</td>\n",
              "      <td>0</td>\n",
              "      <td>0</td>\n",
              "    </tr>\n",
              "  </tbody>\n",
              "</table>\n",
              "<p>5 rows × 3494 columns</p>\n",
              "</div>"
            ],
            "text/plain": [
              "   abhor  ability  able  abound  absolute  ...  yukon  yum  yummy  zero  zombiez\n",
              "0      0        0     0       0         0  ...      0    0      0     0        0\n",
              "1      0        0     0       0         0  ...      0    0      0     0        0\n",
              "2      0        0     0       0         0  ...      0    0      0     0        0\n",
              "3      0        0     0       0         0  ...      0    0      0     0        0\n",
              "4      0        0     0       0         0  ...      0    0      0     0        0\n",
              "\n",
              "[5 rows x 3494 columns]"
            ]
          },
          "metadata": {},
          "execution_count": 36
        }
      ]
    },
    {
      "cell_type": "code",
      "metadata": {
        "colab": {
          "base_uri": "https://localhost:8080/"
        },
        "id": "rbC8sUsygXf8",
        "outputId": "66cccf65-6038-4306-d964-27dfef4a9a60"
      },
      "source": [
        "X_bow_df.isna().sum().sum()"
      ],
      "execution_count": 37,
      "outputs": [
        {
          "output_type": "execute_result",
          "data": {
            "text/plain": [
              "0"
            ]
          },
          "metadata": {},
          "execution_count": 37
        }
      ]
    },
    {
      "cell_type": "markdown",
      "metadata": {
        "id": "nQ3uT0nCSgIX"
      },
      "source": [
        "## Train Test Split for Model"
      ]
    },
    {
      "cell_type": "code",
      "metadata": {
        "colab": {
          "base_uri": "https://localhost:8080/"
        },
        "id": "ULpkOc8mSIcP",
        "outputId": "45d02377-6ebd-4870-ec7f-603903c135c7"
      },
      "source": [
        "# split the training set for training and validation\n",
        "X = X_bow_df\n",
        "X_train, X_test, y_train, y_test = train_test_split(X, y, test_size=0.25, \n",
        "                                                    random_state=666)\n",
        "\n",
        "print('Training Data :', X_train.shape)\n",
        "print('Testing Data : ', X_test.shape)"
      ],
      "execution_count": 38,
      "outputs": [
        {
          "output_type": "stream",
          "name": "stdout",
          "text": [
            "Training Data : (1786, 3494)\n",
            "Testing Data :  (596, 3494)\n"
          ]
        }
      ]
    },
    {
      "cell_type": "code",
      "metadata": {
        "colab": {
          "base_uri": "https://localhost:8080/",
          "height": 253
        },
        "id": "BWg89TLwSIgO",
        "outputId": "83d043cc-3eab-45f7-eea3-14569a4dc731"
      },
      "source": [
        "X_train.head()"
      ],
      "execution_count": 39,
      "outputs": [
        {
          "output_type": "execute_result",
          "data": {
            "text/html": [
              "<div>\n",
              "<style scoped>\n",
              "    .dataframe tbody tr th:only-of-type {\n",
              "        vertical-align: middle;\n",
              "    }\n",
              "\n",
              "    .dataframe tbody tr th {\n",
              "        vertical-align: top;\n",
              "    }\n",
              "\n",
              "    .dataframe thead th {\n",
              "        text-align: right;\n",
              "    }\n",
              "</style>\n",
              "<table border=\"1\" class=\"dataframe\">\n",
              "  <thead>\n",
              "    <tr style=\"text-align: right;\">\n",
              "      <th></th>\n",
              "      <th>abhor</th>\n",
              "      <th>ability</th>\n",
              "      <th>able</th>\n",
              "      <th>abound</th>\n",
              "      <th>absolute</th>\n",
              "      <th>absolutel</th>\n",
              "      <th>absolutely</th>\n",
              "      <th>absolutley</th>\n",
              "      <th>abstruse</th>\n",
              "      <th>ac</th>\n",
              "      <th>accept</th>\n",
              "      <th>acceptable</th>\n",
              "      <th>access</th>\n",
              "      <th>accessable</th>\n",
              "      <th>accessing</th>\n",
              "      <th>accessory</th>\n",
              "      <th>accessoryone</th>\n",
              "      <th>accident</th>\n",
              "      <th>accidentally</th>\n",
              "      <th>accommodation</th>\n",
              "      <th>accomodate</th>\n",
              "      <th>accompanied</th>\n",
              "      <th>according</th>\n",
              "      <th>accountant</th>\n",
              "      <th>accurately</th>\n",
              "      <th>accused</th>\n",
              "      <th>ache</th>\n",
              "      <th>acknowledged</th>\n",
              "      <th>across</th>\n",
              "      <th>acted</th>\n",
              "      <th>acting</th>\n",
              "      <th>action</th>\n",
              "      <th>activate</th>\n",
              "      <th>activated</th>\n",
              "      <th>activesync</th>\n",
              "      <th>actor</th>\n",
              "      <th>actress</th>\n",
              "      <th>actual</th>\n",
              "      <th>actually</th>\n",
              "      <th>ad</th>\n",
              "      <th>...</th>\n",
              "      <th>worker</th>\n",
              "      <th>working</th>\n",
              "      <th>world</th>\n",
              "      <th>worn</th>\n",
              "      <th>worry</th>\n",
              "      <th>worse</th>\n",
              "      <th>worst</th>\n",
              "      <th>worth</th>\n",
              "      <th>worthless</th>\n",
              "      <th>worthwhile</th>\n",
              "      <th>would</th>\n",
              "      <th>wound</th>\n",
              "      <th>wow</th>\n",
              "      <th>wrap</th>\n",
              "      <th>wrapped</th>\n",
              "      <th>writer</th>\n",
              "      <th>writing</th>\n",
              "      <th>written</th>\n",
              "      <th>wrong</th>\n",
              "      <th>wrongly</th>\n",
              "      <th>ya</th>\n",
              "      <th>yama</th>\n",
              "      <th>yawn</th>\n",
              "      <th>yay</th>\n",
              "      <th>yeah</th>\n",
              "      <th>year</th>\n",
              "      <th>yell</th>\n",
              "      <th>yellow</th>\n",
              "      <th>yellowtail</th>\n",
              "      <th>yelpers</th>\n",
              "      <th>yes</th>\n",
              "      <th>yet</th>\n",
              "      <th>young</th>\n",
              "      <th>youthful</th>\n",
              "      <th>yucky</th>\n",
              "      <th>yukon</th>\n",
              "      <th>yum</th>\n",
              "      <th>yummy</th>\n",
              "      <th>zero</th>\n",
              "      <th>zombiez</th>\n",
              "    </tr>\n",
              "  </thead>\n",
              "  <tbody>\n",
              "    <tr>\n",
              "      <th>971</th>\n",
              "      <td>0</td>\n",
              "      <td>0</td>\n",
              "      <td>0</td>\n",
              "      <td>0</td>\n",
              "      <td>0</td>\n",
              "      <td>0</td>\n",
              "      <td>0</td>\n",
              "      <td>0</td>\n",
              "      <td>0</td>\n",
              "      <td>0</td>\n",
              "      <td>0</td>\n",
              "      <td>0</td>\n",
              "      <td>0</td>\n",
              "      <td>0</td>\n",
              "      <td>0</td>\n",
              "      <td>0</td>\n",
              "      <td>0</td>\n",
              "      <td>0</td>\n",
              "      <td>0</td>\n",
              "      <td>0</td>\n",
              "      <td>0</td>\n",
              "      <td>0</td>\n",
              "      <td>0</td>\n",
              "      <td>0</td>\n",
              "      <td>0</td>\n",
              "      <td>0</td>\n",
              "      <td>0</td>\n",
              "      <td>0</td>\n",
              "      <td>0</td>\n",
              "      <td>0</td>\n",
              "      <td>0</td>\n",
              "      <td>0</td>\n",
              "      <td>0</td>\n",
              "      <td>0</td>\n",
              "      <td>0</td>\n",
              "      <td>0</td>\n",
              "      <td>0</td>\n",
              "      <td>0</td>\n",
              "      <td>0</td>\n",
              "      <td>0</td>\n",
              "      <td>...</td>\n",
              "      <td>0</td>\n",
              "      <td>0</td>\n",
              "      <td>0</td>\n",
              "      <td>0</td>\n",
              "      <td>0</td>\n",
              "      <td>0</td>\n",
              "      <td>0</td>\n",
              "      <td>0</td>\n",
              "      <td>0</td>\n",
              "      <td>0</td>\n",
              "      <td>0</td>\n",
              "      <td>0</td>\n",
              "      <td>0</td>\n",
              "      <td>0</td>\n",
              "      <td>0</td>\n",
              "      <td>0</td>\n",
              "      <td>0</td>\n",
              "      <td>0</td>\n",
              "      <td>0</td>\n",
              "      <td>0</td>\n",
              "      <td>0</td>\n",
              "      <td>0</td>\n",
              "      <td>0</td>\n",
              "      <td>0</td>\n",
              "      <td>0</td>\n",
              "      <td>0</td>\n",
              "      <td>0</td>\n",
              "      <td>0</td>\n",
              "      <td>0</td>\n",
              "      <td>0</td>\n",
              "      <td>0</td>\n",
              "      <td>0</td>\n",
              "      <td>0</td>\n",
              "      <td>0</td>\n",
              "      <td>0</td>\n",
              "      <td>0</td>\n",
              "      <td>0</td>\n",
              "      <td>0</td>\n",
              "      <td>0</td>\n",
              "      <td>0</td>\n",
              "    </tr>\n",
              "    <tr>\n",
              "      <th>1672</th>\n",
              "      <td>0</td>\n",
              "      <td>0</td>\n",
              "      <td>0</td>\n",
              "      <td>0</td>\n",
              "      <td>0</td>\n",
              "      <td>0</td>\n",
              "      <td>0</td>\n",
              "      <td>0</td>\n",
              "      <td>0</td>\n",
              "      <td>0</td>\n",
              "      <td>0</td>\n",
              "      <td>0</td>\n",
              "      <td>0</td>\n",
              "      <td>0</td>\n",
              "      <td>0</td>\n",
              "      <td>0</td>\n",
              "      <td>0</td>\n",
              "      <td>0</td>\n",
              "      <td>0</td>\n",
              "      <td>0</td>\n",
              "      <td>0</td>\n",
              "      <td>0</td>\n",
              "      <td>0</td>\n",
              "      <td>0</td>\n",
              "      <td>0</td>\n",
              "      <td>0</td>\n",
              "      <td>0</td>\n",
              "      <td>0</td>\n",
              "      <td>0</td>\n",
              "      <td>0</td>\n",
              "      <td>0</td>\n",
              "      <td>0</td>\n",
              "      <td>0</td>\n",
              "      <td>0</td>\n",
              "      <td>0</td>\n",
              "      <td>0</td>\n",
              "      <td>0</td>\n",
              "      <td>0</td>\n",
              "      <td>0</td>\n",
              "      <td>0</td>\n",
              "      <td>...</td>\n",
              "      <td>0</td>\n",
              "      <td>0</td>\n",
              "      <td>0</td>\n",
              "      <td>0</td>\n",
              "      <td>0</td>\n",
              "      <td>0</td>\n",
              "      <td>0</td>\n",
              "      <td>0</td>\n",
              "      <td>0</td>\n",
              "      <td>0</td>\n",
              "      <td>0</td>\n",
              "      <td>0</td>\n",
              "      <td>0</td>\n",
              "      <td>0</td>\n",
              "      <td>0</td>\n",
              "      <td>0</td>\n",
              "      <td>0</td>\n",
              "      <td>0</td>\n",
              "      <td>0</td>\n",
              "      <td>0</td>\n",
              "      <td>0</td>\n",
              "      <td>0</td>\n",
              "      <td>0</td>\n",
              "      <td>0</td>\n",
              "      <td>0</td>\n",
              "      <td>0</td>\n",
              "      <td>0</td>\n",
              "      <td>0</td>\n",
              "      <td>0</td>\n",
              "      <td>0</td>\n",
              "      <td>0</td>\n",
              "      <td>0</td>\n",
              "      <td>0</td>\n",
              "      <td>0</td>\n",
              "      <td>0</td>\n",
              "      <td>0</td>\n",
              "      <td>0</td>\n",
              "      <td>0</td>\n",
              "      <td>0</td>\n",
              "      <td>0</td>\n",
              "    </tr>\n",
              "    <tr>\n",
              "      <th>520</th>\n",
              "      <td>0</td>\n",
              "      <td>0</td>\n",
              "      <td>0</td>\n",
              "      <td>0</td>\n",
              "      <td>0</td>\n",
              "      <td>0</td>\n",
              "      <td>0</td>\n",
              "      <td>0</td>\n",
              "      <td>0</td>\n",
              "      <td>0</td>\n",
              "      <td>0</td>\n",
              "      <td>0</td>\n",
              "      <td>0</td>\n",
              "      <td>0</td>\n",
              "      <td>0</td>\n",
              "      <td>0</td>\n",
              "      <td>0</td>\n",
              "      <td>0</td>\n",
              "      <td>0</td>\n",
              "      <td>0</td>\n",
              "      <td>0</td>\n",
              "      <td>0</td>\n",
              "      <td>0</td>\n",
              "      <td>0</td>\n",
              "      <td>0</td>\n",
              "      <td>0</td>\n",
              "      <td>0</td>\n",
              "      <td>0</td>\n",
              "      <td>0</td>\n",
              "      <td>0</td>\n",
              "      <td>0</td>\n",
              "      <td>0</td>\n",
              "      <td>0</td>\n",
              "      <td>0</td>\n",
              "      <td>0</td>\n",
              "      <td>0</td>\n",
              "      <td>0</td>\n",
              "      <td>0</td>\n",
              "      <td>0</td>\n",
              "      <td>0</td>\n",
              "      <td>...</td>\n",
              "      <td>0</td>\n",
              "      <td>0</td>\n",
              "      <td>0</td>\n",
              "      <td>0</td>\n",
              "      <td>0</td>\n",
              "      <td>0</td>\n",
              "      <td>0</td>\n",
              "      <td>0</td>\n",
              "      <td>0</td>\n",
              "      <td>0</td>\n",
              "      <td>0</td>\n",
              "      <td>0</td>\n",
              "      <td>0</td>\n",
              "      <td>0</td>\n",
              "      <td>0</td>\n",
              "      <td>0</td>\n",
              "      <td>0</td>\n",
              "      <td>0</td>\n",
              "      <td>0</td>\n",
              "      <td>0</td>\n",
              "      <td>0</td>\n",
              "      <td>0</td>\n",
              "      <td>0</td>\n",
              "      <td>0</td>\n",
              "      <td>0</td>\n",
              "      <td>0</td>\n",
              "      <td>0</td>\n",
              "      <td>0</td>\n",
              "      <td>0</td>\n",
              "      <td>0</td>\n",
              "      <td>0</td>\n",
              "      <td>0</td>\n",
              "      <td>0</td>\n",
              "      <td>0</td>\n",
              "      <td>0</td>\n",
              "      <td>0</td>\n",
              "      <td>0</td>\n",
              "      <td>0</td>\n",
              "      <td>0</td>\n",
              "      <td>0</td>\n",
              "    </tr>\n",
              "    <tr>\n",
              "      <th>980</th>\n",
              "      <td>0</td>\n",
              "      <td>0</td>\n",
              "      <td>0</td>\n",
              "      <td>0</td>\n",
              "      <td>0</td>\n",
              "      <td>0</td>\n",
              "      <td>0</td>\n",
              "      <td>0</td>\n",
              "      <td>0</td>\n",
              "      <td>0</td>\n",
              "      <td>0</td>\n",
              "      <td>0</td>\n",
              "      <td>0</td>\n",
              "      <td>0</td>\n",
              "      <td>0</td>\n",
              "      <td>0</td>\n",
              "      <td>0</td>\n",
              "      <td>0</td>\n",
              "      <td>0</td>\n",
              "      <td>0</td>\n",
              "      <td>0</td>\n",
              "      <td>0</td>\n",
              "      <td>0</td>\n",
              "      <td>0</td>\n",
              "      <td>0</td>\n",
              "      <td>0</td>\n",
              "      <td>0</td>\n",
              "      <td>0</td>\n",
              "      <td>0</td>\n",
              "      <td>0</td>\n",
              "      <td>0</td>\n",
              "      <td>0</td>\n",
              "      <td>0</td>\n",
              "      <td>0</td>\n",
              "      <td>0</td>\n",
              "      <td>0</td>\n",
              "      <td>0</td>\n",
              "      <td>0</td>\n",
              "      <td>0</td>\n",
              "      <td>0</td>\n",
              "      <td>...</td>\n",
              "      <td>0</td>\n",
              "      <td>0</td>\n",
              "      <td>0</td>\n",
              "      <td>0</td>\n",
              "      <td>0</td>\n",
              "      <td>0</td>\n",
              "      <td>0</td>\n",
              "      <td>0</td>\n",
              "      <td>0</td>\n",
              "      <td>0</td>\n",
              "      <td>0</td>\n",
              "      <td>0</td>\n",
              "      <td>0</td>\n",
              "      <td>0</td>\n",
              "      <td>0</td>\n",
              "      <td>0</td>\n",
              "      <td>0</td>\n",
              "      <td>0</td>\n",
              "      <td>0</td>\n",
              "      <td>0</td>\n",
              "      <td>0</td>\n",
              "      <td>0</td>\n",
              "      <td>0</td>\n",
              "      <td>0</td>\n",
              "      <td>0</td>\n",
              "      <td>0</td>\n",
              "      <td>0</td>\n",
              "      <td>0</td>\n",
              "      <td>0</td>\n",
              "      <td>0</td>\n",
              "      <td>0</td>\n",
              "      <td>0</td>\n",
              "      <td>0</td>\n",
              "      <td>0</td>\n",
              "      <td>0</td>\n",
              "      <td>0</td>\n",
              "      <td>0</td>\n",
              "      <td>0</td>\n",
              "      <td>0</td>\n",
              "      <td>0</td>\n",
              "    </tr>\n",
              "    <tr>\n",
              "      <th>1846</th>\n",
              "      <td>0</td>\n",
              "      <td>0</td>\n",
              "      <td>0</td>\n",
              "      <td>0</td>\n",
              "      <td>0</td>\n",
              "      <td>0</td>\n",
              "      <td>0</td>\n",
              "      <td>0</td>\n",
              "      <td>0</td>\n",
              "      <td>0</td>\n",
              "      <td>0</td>\n",
              "      <td>0</td>\n",
              "      <td>0</td>\n",
              "      <td>0</td>\n",
              "      <td>0</td>\n",
              "      <td>0</td>\n",
              "      <td>0</td>\n",
              "      <td>0</td>\n",
              "      <td>0</td>\n",
              "      <td>0</td>\n",
              "      <td>0</td>\n",
              "      <td>0</td>\n",
              "      <td>0</td>\n",
              "      <td>0</td>\n",
              "      <td>0</td>\n",
              "      <td>0</td>\n",
              "      <td>0</td>\n",
              "      <td>0</td>\n",
              "      <td>0</td>\n",
              "      <td>0</td>\n",
              "      <td>0</td>\n",
              "      <td>0</td>\n",
              "      <td>0</td>\n",
              "      <td>0</td>\n",
              "      <td>0</td>\n",
              "      <td>0</td>\n",
              "      <td>0</td>\n",
              "      <td>0</td>\n",
              "      <td>0</td>\n",
              "      <td>0</td>\n",
              "      <td>...</td>\n",
              "      <td>0</td>\n",
              "      <td>0</td>\n",
              "      <td>0</td>\n",
              "      <td>0</td>\n",
              "      <td>0</td>\n",
              "      <td>0</td>\n",
              "      <td>0</td>\n",
              "      <td>0</td>\n",
              "      <td>0</td>\n",
              "      <td>0</td>\n",
              "      <td>0</td>\n",
              "      <td>0</td>\n",
              "      <td>0</td>\n",
              "      <td>0</td>\n",
              "      <td>0</td>\n",
              "      <td>0</td>\n",
              "      <td>0</td>\n",
              "      <td>0</td>\n",
              "      <td>0</td>\n",
              "      <td>0</td>\n",
              "      <td>0</td>\n",
              "      <td>0</td>\n",
              "      <td>0</td>\n",
              "      <td>0</td>\n",
              "      <td>0</td>\n",
              "      <td>0</td>\n",
              "      <td>0</td>\n",
              "      <td>0</td>\n",
              "      <td>0</td>\n",
              "      <td>0</td>\n",
              "      <td>0</td>\n",
              "      <td>0</td>\n",
              "      <td>0</td>\n",
              "      <td>0</td>\n",
              "      <td>0</td>\n",
              "      <td>0</td>\n",
              "      <td>0</td>\n",
              "      <td>0</td>\n",
              "      <td>0</td>\n",
              "      <td>0</td>\n",
              "    </tr>\n",
              "  </tbody>\n",
              "</table>\n",
              "<p>5 rows × 3494 columns</p>\n",
              "</div>"
            ],
            "text/plain": [
              "      abhor  ability  able  abound  absolute  ...  yukon  yum  yummy  zero  zombiez\n",
              "971       0        0     0       0         0  ...      0    0      0     0        0\n",
              "1672      0        0     0       0         0  ...      0    0      0     0        0\n",
              "520       0        0     0       0         0  ...      0    0      0     0        0\n",
              "980       0        0     0       0         0  ...      0    0      0     0        0\n",
              "1846      0        0     0       0         0  ...      0    0      0     0        0\n",
              "\n",
              "[5 rows x 3494 columns]"
            ]
          },
          "metadata": {},
          "execution_count": 39
        }
      ]
    },
    {
      "cell_type": "markdown",
      "metadata": {
        "id": "lknzAnzDfe5X"
      },
      "source": [
        "## Logitics Regression"
      ]
    },
    {
      "cell_type": "code",
      "metadata": {
        "colab": {
          "base_uri": "https://localhost:8080/"
        },
        "id": "ROS-O5NVSIjq",
        "outputId": "0f24f01b-18ab-426d-d93e-003e8c58b44e"
      },
      "source": [
        "# Logistics regression as baseline model with class weights as balanced\n",
        "from sklearn.linear_model import LogisticRegression\n",
        "lr = LogisticRegression(class_weight=\"balanced\",random_state=666)\n",
        "lr.fit(X_train, y_train)"
      ],
      "execution_count": 40,
      "outputs": [
        {
          "output_type": "execute_result",
          "data": {
            "text/plain": [
              "LogisticRegression(C=1.0, class_weight='balanced', dual=False,\n",
              "                   fit_intercept=True, intercept_scaling=1, l1_ratio=None,\n",
              "                   max_iter=100, multi_class='auto', n_jobs=None, penalty='l2',\n",
              "                   random_state=666, solver='lbfgs', tol=0.0001, verbose=0,\n",
              "                   warm_start=False)"
            ]
          },
          "metadata": {},
          "execution_count": 40
        }
      ]
    },
    {
      "cell_type": "code",
      "metadata": {
        "id": "F3dfCxb-SInE"
      },
      "source": [
        "# Create a prediction set:\n",
        "predictions = lr.predict(X_test)"
      ],
      "execution_count": 41,
      "outputs": []
    },
    {
      "cell_type": "code",
      "metadata": {
        "colab": {
          "base_uri": "https://localhost:8080/"
        },
        "id": "rxzw8nOVSIqV",
        "outputId": "3fb8c236-7f2c-4a04-97e6-660d076a641c"
      },
      "source": [
        "# classification report\n",
        "print(metrics.classification_report(y_test,predictions))\n",
        "# Accuracy is 77%"
      ],
      "execution_count": 42,
      "outputs": [
        {
          "output_type": "stream",
          "name": "stdout",
          "text": [
            "              precision    recall  f1-score   support\n",
            "\n",
            "           0       0.76      0.82      0.79       310\n",
            "           1       0.79      0.72      0.75       286\n",
            "\n",
            "    accuracy                           0.77       596\n",
            "   macro avg       0.77      0.77      0.77       596\n",
            "weighted avg       0.77      0.77      0.77       596\n",
            "\n"
          ]
        }
      ]
    },
    {
      "cell_type": "code",
      "metadata": {
        "colab": {
          "base_uri": "https://localhost:8080/"
        },
        "id": "B_pHzhUffx5E",
        "outputId": "0153d558-6ba1-4d88-eae9-5b316785a900"
      },
      "source": [
        "from sklearn import metrics\n",
        "# Check AUC\n",
        "print(metrics.roc_auc_score(y_test,lr.predict_proba(X_test)[:, 1]))\n",
        "\n",
        "# AUC 0.8425 is big improvement over the baseline model. "
      ],
      "execution_count": 43,
      "outputs": [
        {
          "output_type": "stream",
          "name": "stdout",
          "text": [
            "0.8424881570042859\n"
          ]
        }
      ]
    },
    {
      "cell_type": "code",
      "metadata": {
        "colab": {
          "base_uri": "https://localhost:8080/"
        },
        "id": "SZe1I7TzfyFk",
        "outputId": "a36f1972-babe-4067-8f0b-bf076e90a0d3"
      },
      "source": [
        "# Check F1 Score\n",
        "print(metrics.f1_score(y_test,predictions))\n",
        "\n",
        "# F1 0.7541 is big improvement over the baseline model. "
      ],
      "execution_count": 44,
      "outputs": [
        {
          "output_type": "stream",
          "name": "stdout",
          "text": [
            "0.7540983606557377\n"
          ]
        }
      ]
    },
    {
      "cell_type": "code",
      "metadata": {
        "colab": {
          "base_uri": "https://localhost:8080/",
          "height": 373
        },
        "id": "J0HJxrD3fyP2",
        "outputId": "e0d780d9-3cf2-4994-df03-6a5c8dcccf01"
      },
      "source": [
        "from yellowbrick.classifier import ConfusionMatrix\n",
        "cm = ConfusionMatrix(lr, classes=[0,1])\n",
        "cm.fit(X_train, y_train)\n",
        "cm.score(X_test, y_test)\n",
        "cm.poof();"
      ],
      "execution_count": 45,
      "outputs": [
        {
          "output_type": "display_data",
          "data": {
            "image/png": "[encoded data removed]",
            "text/plain": [
              "<Figure size 576x396 with 1 Axes>"
            ]
          },
          "metadata": {}
        }
      ]
    },
    {
      "cell_type": "markdown",
      "metadata": {
        "id": "TzNpNc4JNw77"
      },
      "source": [
        "## Cross Validation"
      ]
    },
    {
      "cell_type": "code",
      "metadata": {
        "colab": {
          "base_uri": "https://localhost:8080/"
        },
        "id": "c0A-2Di3fyhd",
        "outputId": "3c1ee549-9f73-4dcf-cc61-00e264fff66e"
      },
      "source": [
        "from sklearn.model_selection import cross_val_score, cross_validate\n",
        "lr = LogisticRegression(class_weight=\"balanced\",random_state=666)\n",
        "\n",
        "scores = cross_validate(lr, X_train, y_train, cv=5, scoring=['f1','f1_weighted',\n",
        "                                                             'roc_auc','accuracy'])\n",
        "\n",
        "sorted(scores.keys())\n",
        "\n",
        "#print the mean for 5 fold cross validation\n",
        "print(\"the f1 mean for 5 fold cross validation is {}\".format(\n",
        "    scores[\"test_f1\"].mean()))\n",
        "print(\"the f1_weighted mean for 5 fold cross validation is {}\".format(\n",
        "    scores[\"test_f1_weighted\"].mean()))\n",
        "print(\"the ROC AUC mean for 5 fold cross validation is {}\".format(\n",
        "    scores[\"test_roc_auc\"].mean()))\n",
        "print(\"the Accuracy mean for 5 fold cross validation is {}\".format(\n",
        "    scores[\"test_accuracy\"].mean()))"
      ],
      "execution_count": 46,
      "outputs": [
        {
          "output_type": "stream",
          "name": "stdout",
          "text": [
            "the f1 mean for 5 fold cross validation is 0.7890302338882266\n",
            "the f1_weighted mean for 5 fold cross validation is 0.7979971665712041\n",
            "the ROC AUC mean for 5 fold cross validation is 0.8671912030353119\n",
            "the Accuracy mean for 5 fold cross validation is 0.7984273038824468\n"
          ]
        }
      ]
    },
    {
      "cell_type": "markdown",
      "metadata": {
        "id": "flUnQGDTN8Cy"
      },
      "source": [
        "## Hyper parameter Tunning"
      ]
    },
    {
      "cell_type": "code",
      "metadata": {
        "id": "n4sVecaXX6Ks"
      },
      "source": [
        "# Grid Search hyper-parameter tuning\n",
        "\n",
        "from sklearn.model_selection import GridSearchCV, RandomizedSearchCV\n",
        "\n",
        "lr = LogisticRegression(random_state=666)\n",
        "\n",
        "\n",
        "solvers = ['newton-cg', 'lbfgs', 'liblinear']\n",
        "penalty = ['l2']\n",
        "class_weight = ['balanced',None] \n",
        "c_values = [100, 10, 1.0, 0.1, 0.01]\n",
        "max_iter = [1000,500]\n",
        "\n",
        "grid = dict(solver=solvers,penalty=penalty,C=c_values,max_iter=max_iter,\n",
        "            class_weight=class_weight)\n",
        "\n",
        "# param_grid = dict(penalty=penalty,\n",
        "#                   c=C,\n",
        "#                   class_weight=class_weight,\n",
        "#                   solver=solver,\n",
        "#                   max_iter = max_iter)"
      ],
      "execution_count": 47,
      "outputs": []
    },
    {
      "cell_type": "code",
      "metadata": {
        "colab": {
          "base_uri": "https://localhost:8080/"
        },
        "id": "WLpnSg6uYLYM",
        "outputId": "94d51540-15a9-42ac-ae75-4795696d1b1f"
      },
      "source": [
        "search = GridSearchCV(lr, param_grid=grid, n_jobs=-1, cv=5, scoring='f1_weighted',\n",
        "                      error_score=0, verbose=1)\n",
        "search = search.fit(X_train, y_train)"
      ],
      "execution_count": null,
      "outputs": [
        {
          "output_type": "stream",
          "name": "stdout",
          "text": [
            "Fitting 5 folds for each of 60 candidates, totalling 300 fits\n"
          ]
        },
        {
          "output_type": "stream",
          "name": "stderr",
          "text": [
            "[Parallel(n_jobs=-1)]: Using backend LokyBackend with 2 concurrent workers.\n",
            "[Parallel(n_jobs=-1)]: Done  46 tasks      | elapsed:   36.4s\n"
          ]
        }
      ]
    },
    {
      "cell_type": "code",
      "metadata": {
        "id": "GMYTc14uZAU_"
      },
      "source": [
        "print('Best Score: ', search.best_score_)\n",
        "print('Best Params: ', search.best_params_)\n",
        "\n",
        "# the F1 score increased from 0.7977 to 0.7986"
      ],
      "execution_count": null,
      "outputs": []
    },
    {
      "cell_type": "code",
      "metadata": {
        "colab": {
          "base_uri": "https://localhost:8080/"
        },
        "id": "_bucqS4OOk9n",
        "outputId": "f354d6e4-098c-4ad5-aac4-d093a98dbabb"
      },
      "source": [
        "search = GridSearchCV(lr, param_grid=grid, n_jobs=-1, cv=5, scoring='accuracy',\n",
        "                      error_score=0, verbose=1)\n",
        "search = search.fit(X_train, y_train)"
      ],
      "execution_count": null,
      "outputs": [
        {
          "metadata": {
            "tags": null
          },
          "name": "stderr",
          "output_type": "stream",
          "text": [
            "[Parallel(n_jobs=-1)]: Using backend LokyBackend with 2 concurrent workers.\n"
          ]
        },
        {
          "metadata": {
            "tags": null
          },
          "name": "stdout",
          "output_type": "stream",
          "text": [
            "Fitting 5 folds for each of 60 candidates, totalling 300 fits\n"
          ]
        },
        {
          "metadata": {
            "tags": null
          },
          "name": "stderr",
          "output_type": "stream",
          "text": [
            "[Parallel(n_jobs=-1)]: Done  46 tasks      | elapsed:   35.4s\n"
          ]
        }
      ]
    },
    {
      "cell_type": "code",
      "metadata": {
        "id": "ewX4DQm4OlRl"
      },
      "source": [
        "print('Best Score: ', search.best_score_)\n",
        "print('Best Params: ', search.best_params_)\n",
        "\n",
        "# the accuracy and F1 score hyperparameter tunning best score configurations are the same.\n",
        "# the accuracy increased from 0.7985 to 0.7990"
      ],
      "execution_count": null,
      "outputs": []
    },
    {
      "cell_type": "markdown",
      "metadata": {
        "id": "WS49UoJZrxfu"
      },
      "source": [
        "## Re-Train the model on whole dataset with Tuned Hyper Parameters"
      ]
    },
    {
      "cell_type": "code",
      "metadata": {
        "id": "JdgZvl_oZArA"
      },
      "source": [
        "lr = LogisticRegression(random_state=666,C = 1.0, class_weight= 'balanced', \n",
        "                        max_iter = 1000, penalty= 'l2', solver= 'liblinear')\n",
        "\n",
        "lr = lr.fit(X_train, y_train)"
      ],
      "execution_count": null,
      "outputs": []
    },
    {
      "cell_type": "code",
      "metadata": {
        "id": "2vCXftB2soHb"
      },
      "source": [
        "# Create a prediction set:\n",
        "predictions = lr.predict(test_bow_df)\n",
        "prob = lr.predict_proba(test_bow_df)"
      ],
      "execution_count": null,
      "outputs": []
    },
    {
      "cell_type": "code",
      "metadata": {
        "id": "OwrHehcMs9w7"
      },
      "source": [
        "y_df_test = df_test.Polarity"
      ],
      "execution_count": null,
      "outputs": []
    },
    {
      "cell_type": "code",
      "metadata": {
        "id": "RGzcS1T-Vd2_"
      },
      "source": [
        "print(lr.coef_, lr.intercept_)\n",
        "coef = pd.DataFrame(lr.coef_,columns=X_train.columns)\n",
        "\n",
        "coef = pd.concat([pd.DataFrame(lr.intercept_),coef],axis=1)\n",
        "coef.head()\n",
        "\n",
        "#0 is the intercept"
      ],
      "execution_count": null,
      "outputs": []
    },
    {
      "cell_type": "markdown",
      "metadata": {
        "id": "FHrdNytFd1M0"
      },
      "source": [
        "### Part 1.c. Assessing\n",
        "\n",
        "Use the testing data to measure the accuracy and F1-score of your model.  "
      ]
    },
    {
      "cell_type": "code",
      "metadata": {
        "id": "GiS4GXCSs94m"
      },
      "source": [
        "# classification report\n",
        "print(metrics.classification_report(y_df_test,predictions))\n",
        "\n",
        "# Accuracy is 75% which is lower than hyper parameter tunning. F1 score is 0.7353 \n",
        "# is lower than hyperparameter tunning model. There is a possibility of over \n",
        "# fitting or sometype of drift."
      ],
      "execution_count": null,
      "outputs": []
    },
    {
      "cell_type": "code",
      "metadata": {
        "id": "dagJC29stOEK"
      },
      "source": [
        "from sklearn import metrics\n",
        "# Check AUC\n",
        "print(metrics.roc_auc_score(y_df_test,lr.predict_proba(test_bow_df)[:, 1]))"
      ],
      "execution_count": null,
      "outputs": []
    },
    {
      "cell_type": "code",
      "metadata": {
        "id": "u-n37Kzfs-AP"
      },
      "source": [
        "# Check F1 Score\n",
        "print(metrics.f1_score(y_df_test,predictions))"
      ],
      "execution_count": null,
      "outputs": []
    },
    {
      "cell_type": "code",
      "metadata": {
        "id": "xFQgYh9rtgg4"
      },
      "source": [
        "from yellowbrick.classifier import ConfusionMatrix\n",
        "cm = ConfusionMatrix(lr, classes=[0,1])\n",
        "cm.fit(X_train, y_train)\n",
        "cm.score(test_bow_df, y_df_test)\n",
        "cm.poof();"
      ],
      "execution_count": null,
      "outputs": []
    },
    {
      "cell_type": "markdown",
      "metadata": {
        "id": "40hmco7wd1M1"
      },
      "source": [
        "### Part 2. Given the accuracy and F1-score of your model, are you satisfied with the results, from a business point of view? Explain."
      ]
    },
    {
      "cell_type": "code",
      "metadata": {
        "id": "Yaa02kpMijO6"
      },
      "source": [
        "# NLTK Sentiment Analyser\n",
        "from nltk.sentiment.vader import SentimentIntensityAnalyzer\n",
        "sent = SentimentIntensityAnalyzer()\n",
        "\n",
        "def check_sentiment(x):\n",
        "    if sent.polarity_scores(x)['compound']>0:\n",
        "      result = 1\n",
        "    else:\n",
        "      result=0\n",
        "    return result\n",
        "\n"
      ],
      "execution_count": null,
      "outputs": []
    },
    {
      "cell_type": "code",
      "metadata": {
        "id": "6TEhhoWhtG5N"
      },
      "source": [
        "# Textblob Sentiment Analyser\n",
        "from textblob import TextBlob\n",
        "import textwrap\n",
        "\n",
        "def check_sentiment_tb(x):\n",
        "    if TextBlob(x).polarity > 0:\n",
        "      result = 1\n",
        "    else:\n",
        "      result=0\n",
        "    return result\n",
        "\n",
        "np.set_printoptions(linewidth=160)"
      ],
      "execution_count": null,
      "outputs": []
    },
    {
      "cell_type": "code",
      "metadata": {
        "id": "oI04Lr5a9-O_"
      },
      "source": [
        "# Check pre-trained models on training data and measure metric performance\n",
        "df_train[\"NLTK_Pol\"]=df_train[\"Sentence\"].apply(lambda x: check_sentiment(x))\n",
        "df_train[\"TB_Pol\"]=df_train[\"Sentence\"].apply(lambda x: check_sentiment_tb(x))"
      ],
      "execution_count": null,
      "outputs": []
    },
    {
      "cell_type": "code",
      "metadata": {
        "id": "vjvytSVB9-Tu"
      },
      "source": [
        " # classification report\n",
        "print(metrics.classification_report(df_train[\"Polarity\"],df_train[\"NLTK_Pol\"]))"
      ],
      "execution_count": null,
      "outputs": []
    },
    {
      "cell_type": "code",
      "metadata": {
        "id": "yglZlsW_9-Xj"
      },
      "source": [
        "# classification report\n",
        "print(metrics.classification_report(df_train[\"Polarity\"],df_train[\"TB_Pol\"]))"
      ],
      "execution_count": null,
      "outputs": []
    },
    {
      "cell_type": "code",
      "metadata": {
        "id": "Vu_JuOiU9-mL"
      },
      "source": [
        "# Check F1 Score\n",
        "print(metrics.f1_score(df_train[\"Polarity\"],df_train[\"NLTK_Pol\"]))"
      ],
      "execution_count": null,
      "outputs": []
    },
    {
      "cell_type": "code",
      "metadata": {
        "id": "IYqKFErl-D4Z"
      },
      "source": [
        "# Check F1 Score \n",
        "print(metrics.f1_score(df_train[\"Polarity\"],df_train[\"TB_Pol\"]))"
      ],
      "execution_count": null,
      "outputs": []
    },
    {
      "cell_type": "code",
      "metadata": {
        "id": "VNWYARF88Vre"
      },
      "source": [
        "# Check pre-trained models on test data and measure metric performance\n",
        "# Entire text \n",
        "df_test[\"NLTK_Pol\"]=df_test[\"Sentence\"].apply(lambda x: check_sentiment(x))\n",
        "df_test[\"TB_Pol\"]=df_test[\"Sentence\"].apply(lambda x: check_sentiment_tb(x))"
      ],
      "execution_count": null,
      "outputs": []
    },
    {
      "cell_type": "code",
      "metadata": {
        "id": "hVLPFoZZA7aT"
      },
      "source": [
        "# classification report\n",
        "print(metrics.confusion_matrix(y_df_test,df_test[\"NLTK_Pol\"]))"
      ],
      "execution_count": null,
      "outputs": []
    },
    {
      "cell_type": "code",
      "metadata": {
        "id": "HlABCoD0A7QS"
      },
      "source": [
        "# classification report\n",
        "print(metrics.confusion_matrix(y_df_test,df_test[\"TB_Pol\"]))"
      ],
      "execution_count": null,
      "outputs": []
    },
    {
      "cell_type": "code",
      "metadata": {
        "id": "bQ0olwxa8ZQs"
      },
      "source": [
        "# classification report\n",
        "print(metrics.classification_report(y_df_test,df_test[\"NLTK_Pol\"]))"
      ],
      "execution_count": null,
      "outputs": []
    },
    {
      "cell_type": "code",
      "metadata": {
        "id": "DKCRwjyU8ZVx"
      },
      "source": [
        "# classification report\n",
        "print(metrics.classification_report(y_df_test,df_test[\"TB_Pol\"]))"
      ],
      "execution_count": null,
      "outputs": []
    },
    {
      "cell_type": "code",
      "metadata": {
        "id": "8S0s5iog8ZZg"
      },
      "source": [
        "# Check F1 Score\n",
        "print(metrics.f1_score(y_df_test,df_test[\"NLTK_Pol\"]))"
      ],
      "execution_count": null,
      "outputs": []
    },
    {
      "cell_type": "code",
      "metadata": {
        "id": "3f21iBw38ZdI"
      },
      "source": [
        "# Check F1 Score \n",
        "print(metrics.f1_score(y_df_test,df_test[\"TB_Pol\"]))"
      ],
      "execution_count": null,
      "outputs": []
    },
    {
      "cell_type": "code",
      "metadata": {
        "id": "5jIbgveM0LzK"
      },
      "source": [
        "# Check pre-trained models on test data and measure metric performance\n",
        "# Entire tex\n",
        "df_test[\"NLTK_Pol\"]=df_test[\"proc_text\"].apply(lambda x: check_sentiment(x))\n",
        "df_test[\"TB_Pol\"]=df_test[\"proc_text\"].apply(lambda x: check_sentiment_tb(x))"
      ],
      "execution_count": null,
      "outputs": []
    },
    {
      "cell_type": "code",
      "metadata": {
        "id": "CJh70fVeBHsv"
      },
      "source": [
        "# classification report\n",
        "print(metrics.confusion_matrix(y_df_test,df_test[\"NLTK_Pol\"]))"
      ],
      "execution_count": null,
      "outputs": []
    },
    {
      "cell_type": "code",
      "metadata": {
        "id": "1RrfjUM2BIG7"
      },
      "source": [
        "# classification report\n",
        "print(metrics.confusion_matrix(y_df_test,df_test[\"TB_Pol\"]))"
      ],
      "execution_count": null,
      "outputs": []
    },
    {
      "cell_type": "code",
      "metadata": {
        "id": "MSN39SEv1xEZ"
      },
      "source": [
        "# classification report\n",
        "print(metrics.classification_report(y_df_test,df_test[\"NLTK_Pol\"]))"
      ],
      "execution_count": null,
      "outputs": []
    },
    {
      "cell_type": "code",
      "metadata": {
        "id": "OOHtfQOE1xlA"
      },
      "source": [
        "# classification report\n",
        "print(metrics.classification_report(y_df_test,df_test[\"TB_Pol\"]))"
      ],
      "execution_count": null,
      "outputs": []
    },
    {
      "cell_type": "code",
      "metadata": {
        "id": "PemZ9Kb62TqH"
      },
      "source": [
        "# Check F1 Score\n",
        "print(metrics.f1_score(y_df_test,df_test[\"NLTK_Pol\"]))"
      ],
      "execution_count": null,
      "outputs": []
    },
    {
      "cell_type": "code",
      "metadata": {
        "id": "4aJDcpCH2Us-"
      },
      "source": [
        "# Check F1 Score \n",
        "print(metrics.f1_score(y_df_test,df_test[\"TB_Pol\"]))"
      ],
      "execution_count": null,
      "outputs": []
    },
    {
      "cell_type": "markdown",
      "metadata": {
        "id": "izVASTQ6d1M1"
      },
      "source": [
        "The best way to evaluate a model is to define a customised payoff/ cost matrix and helps to understand how to value false positive and false negatives. In the absense of cost payoff matrix I will assume the cost of False negatives are very high as we are trying to convert the detractors to promoters which require time, resource and moentary investment.\n",
        "\n",
        "- The accuracy of Logistic Regression model (df_test) is 0.75\n",
        "- The AUC of Logistic Regression model (df_test) is 0.844\n",
        "- The f1 score of Logistic Regression model (df_test) is 0.735\n",
        "\n",
        "\n",
        "- The accuracy of NLTK Sentiment Analysis model (df_test) is 0.78 increases to 0.80 with entire text versus processed text (very close to training set metrics)\n",
        "- The f1 score of NLTK Sentiment Analysis model (df_test) is 0.786 increases to 0.806 with entire text versus processed text (very close to training set metrics)\n",
        "\n",
        "\n",
        "- The accuracy of Textblob Sentiment Analysis model (df_test) is 0.75 increases to 0.76 with entire text versus processed text. (close to training set metrics)\n",
        "- The f1 score of Textblob Sentiment Analysis model (df_test) is 0.757 increases to 0.770 with entire text versus processed text.(close to training set metrics)\n",
        "\n",
        "Ideally unless I believe that my input data is significantly different from training data or pre-trained model training data i.e. specific to my industry or organisation I would rather use pre-trained models. The accuracy and f1 scores are slightly better and I can work off the shelf to deploy the solution faster wihtout really increaase to the compute or storage needs. The pre-trained model does reduce the False Negatives from 106 (LR model) to 68 with NLTK and 75 with TextBlob.\n",
        "\n",
        "\n",
        "Lets assume that we can not use the pre-trained models for building this analysis. I think my model has good accuracy (75%), great AUC score of 0.844, great precision for class positive (1) of 0.83 though we can improve the recall by balancing the trade off between recall and precision by adjusting the thresholds. As the custom metric is heavily focused on precision for class 0 before deployment I would like to optimize the model based on the custom metric.\n",
        "\n",
        "\n",
        "\n"
      ]
    },
    {
      "cell_type": "markdown",
      "metadata": {
        "id": "5HVFjHlfd1M1"
      },
      "source": [
        "### Part 3. Show five example instances in which your model’s predictions were incorrect. Describe why you think the model was wrong. Don’t just guess: dig deep to figure out the root cause."
      ]
    },
    {
      "cell_type": "code",
      "metadata": {
        "id": "9IAUXUQt1AAH"
      },
      "source": [
        "def check_sentiment(x):\n",
        "    return sent.polarity_scores(x)['compound']"
      ],
      "execution_count": null,
      "outputs": []
    },
    {
      "cell_type": "code",
      "metadata": {
        "id": "sN737Ypg1Av8"
      },
      "source": [
        "def check_sentiment_tb(x):\n",
        "    return TextBlob(x).polarity"
      ],
      "execution_count": null,
      "outputs": []
    },
    {
      "cell_type": "code",
      "metadata": {
        "id": "ad7SWEHwd1M2"
      },
      "source": [
        "# Concaternate the test dataset with predictions and probabilities\n",
        "data = pd.concat([df_test,pd.DataFrame(predictions),pd.DataFrame(prob)],axis=1)\n",
        "data.head()"
      ],
      "execution_count": null,
      "outputs": []
    },
    {
      "cell_type": "code",
      "metadata": {
        "id": "BkISHSiH6aUY"
      },
      "source": [
        "# rename the columns\n",
        "data.columns = ['Sentence','Polarity','Senten_count','length','word_count','UNQ_word_count','proc_text',\"NLTK_Pol\",\"TB_Pol\",\"Prediction\",\"Prob_Class_0\",\"Prob_Class_1\"]\n",
        "data.head()"
      ],
      "execution_count": null,
      "outputs": []
    },
    {
      "cell_type": "code",
      "metadata": {
        "id": "VEIXERhtCexw"
      },
      "source": [
        "# build a dataset for misclassified instances\n",
        "data_analyse = data[((data[\"Polarity\"]==1) & (data[\"Prediction\"]==0)) | \n",
        "                    ((data[\"Polarity\"]==0) & (data[\"Prediction\"]==1)) ]\n",
        "\n",
        "data_analyse.reset_index(drop=True,inplace=True)\n",
        "data_analyse.head(20)"
      ],
      "execution_count": null,
      "outputs": []
    },
    {
      "cell_type": "code",
      "metadata": {
        "id": "4DRzVT48wfgh"
      },
      "source": [
        "# Analyse Wrong classification Use case 1\n",
        "\n",
        "print(check_sentiment_tb(data_analyse.loc[8,\"Sentence\"]),\n",
        "      check_sentiment(data_analyse.loc[8,\"Sentence\"]))\n",
        "\n",
        "print(check_sentiment_tb(data_analyse.loc[8,\"proc_text\"]),\n",
        "      check_sentiment(data_analyse.loc[8,\"proc_text\"]))\n",
        "\n",
        "print(data_analyse.loc[8,:],data_analyse.loc[8,\"Sentence\"])\n",
        "# Sentence Analysis\n",
        "# NLTK Sentiment analysis predicts positive \n",
        "# Textblob Sentiment analysis predicts neutral \n",
        "\n",
        "# Processed Text Analysis\n",
        "# NLTK Sentiment analysis predicts positive \n",
        "# Textblob Sentiment analysis predicts positive \n",
        "\n",
        "# Actual Polarity negative\n",
        "# Logistic Regression prediction positive\n",
        "# \n",
        "print(lr.intercept_,coef.loc[:,\"even\"],coef.loc[:,\"good\"],coef.loc[:,\"value\"])\n",
        "\n",
        "# Reason: Stopwords removed not which changes the tone of the text.\n",
        "# camp: not in BoW"
      ],
      "execution_count": null,
      "outputs": []
    },
    {
      "cell_type": "code",
      "metadata": {
        "id": "qyA8_hD2hCvu"
      },
      "source": [
        "# Analyse Wrong classification Use case 2\n",
        "\n",
        "print(check_sentiment_tb(data_analyse.loc[5,\"Sentence\"]),\n",
        "      check_sentiment(data_analyse.loc[5,\"Sentence\"]))\n",
        "\n",
        "print(check_sentiment_tb(data_analyse.loc[5,\"proc_text\"]),\n",
        "      check_sentiment(data_analyse.loc[5,\"proc_text\"]))\n",
        "\n",
        "print(data_analyse.loc[5,:],data_analyse.loc[5,\"Sentence\"])\n",
        "\n",
        "print(data_analyse.loc[5,\"proc_text\"])\n",
        "\n",
        "# Sentence Analysis\n",
        "# NLTK Sentiment analysis predicts positive \n",
        "# Textblob Sentiment analysis predicts positive \n",
        "\n",
        "# Processed Text Analysis\n",
        "# NLTK Sentiment analysis predicts positive \n",
        "# Textblob Sentiment analysis predicts positive \n",
        "\n",
        "# Actual Polarity positive\n",
        "# Logistic Regression prediction negative\n",
        "print(lr.intercept_,coef.loc[:,\"like\"],coef.loc[:,\"cable\"],coef.loc[:,\"company\"],\n",
        "      coef.loc[:,\"summary\"],coef.loc[:,\"sounded\"],coef.loc[:,\"interesting\"],\n",
        "      coef.loc[:,\"watched\"],coef.loc[:,\"twice\"],coef.loc[:,\"already\"],\n",
        "      coef.loc[:,\"probably\"])\n",
        "\n",
        "already_df = df_train.loc[df_train['Sentence'].str.contains(\"already\", case=False)]\n",
        "print(already_df.shape)\n",
        "already_df.Polarity.value_counts().plot.bar()\n",
        "\n",
        "# Reason: already has a very high negative coefficient. In the training dataset, \n",
        "# already was a feature only in 1 instance with polarity 0 thus coefficient was \n",
        "# negative A pre-trained model like NLTK, Textblob predicts the sentiment correctly\n",
        "# armand, assante: not in BoW"
      ],
      "execution_count": null,
      "outputs": []
    },
    {
      "cell_type": "code",
      "metadata": {
        "id": "0jLkSdpntfvW"
      },
      "source": [
        "# Analyse Wrong classification Use case 3\n",
        "\n",
        "print(check_sentiment_tb(data_analyse.loc[2,\"Sentence\"]),\n",
        "      check_sentiment(data_analyse.loc[2,\"Sentence\"]))\n",
        "\n",
        "print(check_sentiment_tb(data_analyse.loc[2,\"proc_text\"]),\n",
        "      check_sentiment(data_analyse.loc[2,\"proc_text\"]))\n",
        "\n",
        "\n",
        "print(data_analyse.loc[2,:],data_analyse.loc[2,\"Sentence\"])\n",
        "\n",
        "print(data_analyse.loc[2,\"proc_text\"])\n",
        "\n",
        "# Sentence Analysis\n",
        "# NLTK Sentiment analysis predicts positive \n",
        "# Textblob Sentiment analysis predicts negative \n",
        "\n",
        "# Processed Text Analysis\n",
        "# NLTK Sentiment analysis predicts negative\n",
        "# Textblob Sentiment analysis predicts negative \n",
        "\n",
        "# Actual Polarity positive\n",
        "# Logistic Regression prediction negative\n",
        "print(lr.intercept_,coef.loc[:,\"soundtrack\"],coef.loc[:,\"terrible\"],coef.loc[:,\"either\"]) \n",
        "\n",
        "inp_df = df_train.loc[df_train['Sentence'].str.contains(\"soundtrack\", case=False)]\n",
        "print(inp_df.shape)\n",
        "# inp_df.Polarity.value_counts().plot.bar()\n",
        "# soundtrack has 2 instances: 1 with Polarity 1 and 1 with Polarity 0\n",
        "\n",
        "inp_df = df_train.loc[df_train['Sentence'].str.contains(\"terrible\", case=False)]\n",
        "print(inp_df.shape)\n",
        "inp_df.Polarity.value_counts().plot.bar()\n",
        "# terrible has 24 instances all with Polarity 0 \n",
        "\n",
        "# Reason: both soundtrack and terrible have negative coefficients. As keyword \n",
        "# wasnt was taken out due to stop word removal the pre-trained models are not \n",
        "# classifying the text correctly"
      ],
      "execution_count": null,
      "outputs": []
    },
    {
      "cell_type": "code",
      "metadata": {
        "id": "AcSoe2lh-PyK"
      },
      "source": [
        "# Analyse Wrong classification Use case 4\n",
        "\n",
        "print(check_sentiment_tb(data_analyse.loc[12,\"Sentence\"]),\n",
        "      check_sentiment(data_analyse.loc[12,\"Sentence\"]))\n",
        "\n",
        "print(check_sentiment_tb(data_analyse.loc[12,\"proc_text\"]),\n",
        "      check_sentiment(data_analyse.loc[12,\"proc_text\"]))\n",
        "\n",
        "print(data_analyse.loc[12,:],data_analyse.loc[12,[\"Sentence\"]])\n",
        "\n",
        "print(data_analyse.loc[12,\"proc_text\"])\n",
        "\n",
        "# Sentence Analysis\n",
        "# NLTK Sentiment analysis predicts positive \n",
        "# Textblob Sentiment analysis predicts positive \n",
        "\n",
        "# Processed Text Analysis\n",
        "# NLTK Sentiment analysis predicts positive \n",
        "# Textblob Sentiment analysis predicts positive \n",
        "\n",
        "# Actual Polarity negative\n",
        "# Logistic Regression prediction positive\n",
        "print(lr.intercept_,coef.loc[:,\"finally\"],coef.loc[:,\"get\"],coef.loc[:,\"ending\"],\n",
        "      coef.loc[:,\"would\"],coef.loc[:,\"great\"],coef.loc[:,\"handled\"],\n",
        "      coef.loc[:,\"handle\"],coef.loc[:,\"people\"])\n",
        "\n",
        "inp_df = df_train.loc[df_train['Sentence'].str.contains(\"would\", case=False)]\n",
        "print(inp_df.shape)\n",
        "inp_df.Polarity.value_counts().plot.bar()\n",
        "# would has 80 instances 52 with Polarity 0 and 28 with polarity 1\n",
        "\n",
        "# Reason: Would and get have high positive coefficients ideally I would expect \n",
        "# would post lemmatizer and stop word would be removed. A pre-trained model \n",
        "# like NLTK, Textblob predicts the sentiment correctly\n",
        "# jerry, falwell: not in BoW\n"
      ],
      "execution_count": null,
      "outputs": []
    },
    {
      "cell_type": "code",
      "metadata": {
        "id": "m2E68wzS-QRi"
      },
      "source": [
        "# Analyse Wrong classification Use case 5\n",
        "\n",
        "print(check_sentiment_tb(data_analyse.loc[30,\"Sentence\"]),\n",
        "      check_sentiment(data_analyse.loc[30,\"Sentence\"]))\n",
        "\n",
        "print(check_sentiment_tb(data_analyse.loc[30,\"proc_text\"]),\n",
        "      check_sentiment(data_analyse.loc[30,\"proc_text\"]))\n",
        "\n",
        "print(data_analyse.loc[30,:],data_analyse.loc[30,[\"Sentence\"]])\n",
        "\n",
        "print(data_analyse.loc[30,\"proc_text\"])\n",
        "\n",
        "# Sentence Analysis\n",
        "# NLTK Sentiment analysis predicts negative \n",
        "# Textblob Sentiment analysis predicts neutral \n",
        "\n",
        "# Processed Text Analysis\n",
        "# NLTK Sentiment analysis predicts positive \n",
        "# Textblob Sentiment analysis predicts neutral \n",
        "\n",
        "# Actual Polarity negative\n",
        "# Logistic Regression prediction positive\n",
        "print(lr.intercept_,coef.loc[:,\"recommended\"])\n",
        "\n",
        "rec_df = df_train.loc[df_train['Sentence'].str.contains(\"recommended\", case=False)]\n",
        "print(rec_df.shape)\n",
        "rec_df.Polarity.value_counts().plot.bar()\n",
        "\n",
        "# Reason: Not removed during stopword removal process which changes the meaning \n",
        "# of the sentence from not recommended to recommended. The pre-trained model may \n",
        "# be able to correctly predict the tone for the sentence but not for processed \n",
        "# text as the keyword is removed.\n"
      ],
      "execution_count": null,
      "outputs": []
    }
  ]
}