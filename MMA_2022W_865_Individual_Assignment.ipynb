{
  "nbformat": 4,
  "nbformat_minor": 0,
  "metadata": {
    "kernelspec": {
      "display_name": "MMA865",
      "language": "python",
      "name": "mma865"
    },
    "language_info": {
      "codemirror_mode": {
        "name": "ipython",
        "version": 3
      },
      "file_extension": ".py",
      "mimetype": "text/x-python",
      "name": "python",
      "nbconvert_exporter": "python",
      "pygments_lexer": "ipython3",
      "version": "3.8.8"
    },
    "colab": {
      "name": "MMA 2022W 865 Individual Assignment.ipynb",
      "provenance": [],
      "collapsed_sections": [],
      "include_colab_link": true
    }
  },
  "cells": [
    {
      "cell_type": "markdown",
      "metadata": {
        "id": "view-in-github",
        "colab_type": "text"
      },
      "source": [
        "<a href=\"https://colab.research.google.com/github/ankxl/MMA865_Individual_Assignment/blob/main/MMA_2022W_865_Individual_Assignment.ipynb\" target=\"_parent\"><img src=\"https://colab.research.google.com/assets/colab-badge.svg\" alt=\"Open In Colab\"/></a>"
      ]
    },
    {
      "cell_type": "markdown",
      "metadata": {
        "id": "QyZCMR6td1Mr"
      },
      "source": [
        "# MMA 2021S 865, Individual Assignment 1\n",
        "\n",
        "Version 2: Updated Janurary 13, 2021.\n",
        "\n",
        "- ANKIT RAI\n",
        "- 20254135\n",
        "- SECTION II\n",
        "- What The Ceo Really Wants From You by R Gopalakrishnan \n",
        "- 15 OCTOBER 2021"
      ]
    },
    {
      "cell_type": "markdown",
      "metadata": {
        "id": "mlGJQOaad1Ms"
      },
      "source": [
        "# Question 1 - ELI5\n",
        "\n",
        "_“If you can't explain it simply, you don't understand it well enough.” – Albert Einstein_\n",
        "\n",
        "Explaining technical concepts to a non-technical audience is an underappreciated skill; one which the MMA program aims to give its students; and one that will truly set you apart in the job market. The only way to gain a skill is by practice, so here we go.\n",
        "\n",
        "Answer each question below as though you were talking to a 5 year old (equivalently: a grandma, or a completely non-technical manager, or an Ivey grad). Use your own words. Use analogies where possible. Examples are better than theory. Keep it short, but be complete. Use simple, plain English. Do not use business buzzwords like _actualize, empower, fungible, leverage, or synergize_. Do not use technical buzzwords that most people don’t know like _model, agile, bandwidth, IoT, blockchain, AR, VR, actionable insights_. Inform the audience without going into too much technical detail, and without embarrassing yourself. Your goal is to truly help them understand, not to give what you feel is a “technically precise” answer and move on (but they still don’t understand!). Don’t be that guy!\n",
        "\n",
        "Please keep each answer to 1000 characters or less.\n",
        "\n",
        "Finally, feel free to use [Markdown syntax](https://www.markdownguide.org/basic-syntax/) to format your answer.\n"
      ]
    },
    {
      "cell_type": "markdown",
      "metadata": {
        "id": "o9lm1L9bd1Mt"
      },
      "source": [
        "### Part 1: What is “Big Data” and how is it different than “regular data”?"
      ]
    },
    {
      "cell_type": "markdown",
      "metadata": {
        "id": "yvoA1AICd1Mu"
      },
      "source": [
        "\n",
        "1. As the word describes 'Big' data is often referring to the size of the data (Volume). Just imagine we want to record all conversations between a customer and retailer for a year. The conversations would be in hundreds of thousand or millions.\n",
        "2. Big data also is used to describe data which can not be stored in tabular format like text, images, etc. e.g., children story books or interaction that a person may have throughout the day or week or month. Variety in data.\n",
        "3. Data points collect every second or milisecond (almost realtime) also indicate big data (Velocity). e.g., commentary during a hockey or cricket match.\n",
        "4. Veracity: With large amount of data, checking for quality and consistencies is important like commentrator mentions some incorrect fact but might get missed in the volume or speed of incoming data.\n",
        "5. Value: There is no point in collecting big data unless we can derive value from it. Can we analyse the cricket match commentary and player data to devise a framework to get a batsman out (win the match)?\n",
        "\n",
        "- Examples of regular data: household budget or account statement. The budget can be depicted in columns with say date, description, transaction type and amount say 1st of month (date) received salary (description) in account (credited transaction type) and amount. Regular data is often not high volume or collected real time (not high velocity) and can be setup in tabular format like budget.\n",
        "\n"
      ]
    },
    {
      "cell_type": "markdown",
      "metadata": {
        "id": "bEKsagXWd1Mu"
      },
      "source": [
        "### Part 2: What is Hadoop? Hint: What problems in previous data storage and processing was Hadoop designed to solve? How did Hadoop accomplish that?"
      ]
    },
    {
      "cell_type": "markdown",
      "metadata": {
        "id": "F_0Fzj-od1Mu"
      },
      "source": [
        "We are planning a party for large number of guests. Hadoop is like the party planner which allows everyone to help to prepare for the party (open source) and doesnt need specific training from workers (community hardware). \n",
        "The usual problems that host face while planning party are:\n",
        "1. If the number of guest change at last minute, can planners accommodate without huge increase in bill (scale out).\n",
        "2. Things go wrong, like ingredients get spoiled, chef doesnt showup, will the party planner still deliver (fault tolerant).\n",
        "3. Will the planner move the ingredients from different locations to one cook station or setup different cooking stations near ingredient storage or serving location? (Move processing to data). \n",
        "4. While preparing salad does the chef preparing dressing need to worry about vegetable cut? (abstraction). \n",
        "\n",
        "Hadoop\n",
        "- Hadoop supports multiple chefs so the food is cooked simultanesouly (distributed compute). \n",
        "- If the hosts request to accommodate more guests or prepare food faster, Hadoop can add more chefs (scalability). \n",
        "- Hadoop gets more set of smaller pans versus large pans so that they can cook food simultaneously and makes it easier for them to carry and store. Depending upon need Hadoop adds pans (scale out).\n",
        "- Hadoop stores the ingredients at multiple locations so it is easier for chefs to cook in parallel (HDFS). \n",
        "-If for what ever reason the ingredients go bad, Hadoop stores ingredients in other locations and can easily get more (fault tolerant). \n",
        "- Hadoop has a party planning manager (YARN) which is responsible for identifying a lead for each item. e.g., for salad the manager identifies the chef 1 to be responsible for salad prep, chef 1 will ask chef 2 to cut veges, chef 4 to prepare dressing and chef 8 to toss the salad. In case chef 1 is unavailable, party manager will replace him.\n",
        "- If we are serving hot grilled fish for 100 guests, we can’t do it with 1 cook. Hadoop splits this into 10 cook station (map it across multiple compute) and waiters bring the fish from different location to one serving locations (reduce function).\n"
      ]
    },
    {
      "cell_type": "markdown",
      "metadata": {
        "id": "jWesjpN8d1Mv"
      },
      "source": [
        "### Part 3: How does Big Data and the cloud help Machine Learning? "
      ]
    },
    {
      "cell_type": "markdown",
      "metadata": {
        "id": "AAJS3UzNd1Mv"
      },
      "source": [
        "- Lets imaginge we need to move house. We need to book a truck to move goods and if we need to store for a day, we will need to rent a storage for a week. This is a costly investment and inefficient - truck used for an hour but paid for per day.\n",
        "- Let’s imagine cloud like a moving service which allows you to choose the level of support\n",
        ">- Basic (IaaS): where you pay only for amount of time you use the truck and storage unit.\n",
        ">- Advanced (PaaS): where you only get your furniture and dont must worry about loading/ unloading or refueling the truck.\n",
        ">- Complete (SaaS): where provider manages task end to end as desired by you. \n",
        "\n",
        "The key advantages of using Big Data and Cloud in ML are:\n",
        ">- Cost effective: billing is dependent on truck and storage usage per time unit instead of having to rent the truck and storage for day(s). You can also choose your truck depending upon need.\n",
        ">- As the services are cost effective one can start with a small pilot and then scale up if satisfied with performance.\n",
        ">- AI/ ML tools by public cloud providers: moving services company provides differnt services for different user (disabled versus professional movers) but support everyone.\n",
        ">- Ecosystem: lot of other companies offering different add ons like move furtniture through stairs of specific product for rent to move threadmill, etc.\n",
        ">- End to End pipeline: Cloud provides tools not just for building ML solutions but also visualise the output so in our analogy not just move the furniture but unwrap and place it in the right room as desired by user.\n",
        ">- Volume, Variety and Velocity (Big Data): Increase in data can increase the accuracy of machine learning e.g., the more books you read about a topic the more you will understand. Most of real-world data resides in unstructured format like audio or natural text or images and we can take advantage of AI/ML tools by public cloud providers and power of ecosystem to analyse data (described above). "
      ]
    },
    {
      "cell_type": "markdown",
      "metadata": {
        "id": "blzNZpsKd1Mw"
      },
      "source": [
        "### Part 4: What is NoSQL?"
      ]
    },
    {
      "cell_type": "markdown",
      "metadata": {
        "id": "euQZjTFDd1Mx"
      },
      "source": [
        "NoSQL is also referred as non-relational database. If we can not store data in rows and columns - like bank account statement can be represented in a table- then we need NoSQL e.g.  commentary of a match. There are 4 kinds of NoSQL based on use cases:\n",
        "- Key-value datastore: The easiest example to describe this is dictionary. The dictionary has a key word we are looking up and value is the definition. The keys are indexed alphabetically so its very easy to find the key.\n",
        "- Graph datastore: optimised for network analytics use case. Let say we want to build a family tree and identify the people family knows this datastore would be recommended. \n",
        "- Document datastore: Is a variant of the key value datastore with key difference being in value which is a file format. This is used extensively in applications like storing resume information. The key may be your name and value will be skills, education details, certifications and experience but saved in defined format like XML or JSON.\n",
        "- Columnar: Is very similar to relational database. Let’s take example of bank statement to highlight the advantage of columnar datastore. If user wants to understand all withdrawls from account in the last 1 year, the bank clerk will pull all the data with date of transaction on rows along with amount credited/ debited and transaction type. The computer will have to read through all the rows and columns before sharing result but in columnar data there is one row for date, amount transacted, transaction type and description. The query will only read through rows of interest like transaction amount and type. These speeds up the querying process.\n"
      ]
    },
    {
      "cell_type": "markdown",
      "metadata": {
        "id": "RgbTZ0exbUk4"
      },
      "source": [
        "### Part 5: Name three ways topic modeling could help a bank."
      ]
    },
    {
      "cell_type": "markdown",
      "metadata": {
        "id": "etDOfiIud1Mx"
      },
      "source": [
        "Topic Modelling is the ability of algorithm/ machine to understand general idea of the message without having the ability to understand the message.\n",
        "\n",
        "1. Organise customer reviews (website, social media, telephonic chat) to identify key themes. The bank may be able to seperate the feedback specific to product or service improvement, bank operations, customer experience, etc. and appropriately act or not to act.\n",
        "2. Customers tend to read about investment products like MF report or equity research report before they invest. Topic modelling based on previous reading patterns can recommend investment products. If a customer is reading research on energy and banking stocks, the model may recommend an MF/ ETF on dividend stocks.\n",
        "3. Data reduction and Information Retrieval: Bank request their customer to call an agent to cancel specific services but sometimes customer to get a better deal (negotiating tactics) call the agent claiming to cancel not intending to cancel. Topic Modelling can mine for specific words or phrases in conversation that will indicate to agent if the customer has a high likelihood to cancel thus should offer discounted services or just negotiating for a better deal."
      ]
    },
    {
      "cell_type": "markdown",
      "metadata": {
        "id": "2raqwCjwd1My"
      },
      "source": [
        "### Part 6: What is Apache Spark, exactly, and what are its pros and cons?"
      ]
    },
    {
      "cell_type": "markdown",
      "metadata": {
        "id": "q4Bc2UBRd1My"
      },
      "source": [
        "Spark is an open-source framework (describe above) that is used for data processing on large datasets leveraging multiple languages. \n",
        "\n",
        "Pros\n",
        "- Support multiple languages like Python, R, Scala, and SQL. e.g., let’s say the system understands French, German, and English; anyone who knows any of the languages can communicate with the system without translation. Spark can distribute python/ R code through user defined functions.\n",
        "- Reduces the number of read and write to/ from memory to reduce the speed of operations. Support all in memory. e.g., like trying to find something in a book without an index and we dont know which book or section of the library the book is in versus finding something in the book in front of you which has an index.\n",
        "- Easier to write applications. Earlier to get compute to execute map-reduce function was multiple lines of complex code whereas with spark it in 2-3 lines of simple code. E.g., we can divide two numbers using the long division route which may take a couple of minutes or just evaluate on a calculator which will be milliseconds.\n",
        "- Support for Big Data. Natural language processing and graph processing capabilities.\n",
        "Cons\n",
        "- requires re-learn python as pyspark. It can be a steep learning curve for new analyst as the code is not exactly same for python and pyspark. E.g., cricket player becoming a baseball player, there will be steep learning curve to understand the rules of the game and develop skill to excel.\n",
        "- Fewer ML algorithm. E.g., imagine a calculator with only + and – operations so if you want to calculate a square root it may be beyond the capability and may want to focus on another way to perform desired operation."
      ]
    },
    {
      "cell_type": "markdown",
      "metadata": {
        "id": "Uiuc0Wa2d1My"
      },
      "source": [
        "# Question 2: Sentiment Analysis via the ML-based approach\n",
        "\n",
        "Download the “Product Sentiment” dataset from the course portal: sentiment_train.csv and sentiment_test.csv."
      ]
    },
    {
      "cell_type": "markdown",
      "metadata": {
        "id": "jv5daIZld1My"
      },
      "source": [
        "### Part 1.a. Loading and Prep\n",
        "\n",
        "Load, clean, and preprocess the data as you find necessary."
      ]
    },
    {
      "cell_type": "code",
      "metadata": {
        "id": "xjmNEojQd1Mz",
        "colab": {
          "base_uri": "https://localhost:8080/",
          "height": 0
        },
        "outputId": "8a430c48-f5e3-45f4-ddce-6cd4ed133b62"
      },
      "source": [
        "import pandas as pd\n",
        "import numpy as np\n",
        "# TODO: import other libraries as necessary\n",
        "\n",
        "# Load the training set data\n",
        "df_train = pd.read_csv(\"sentiment_train.csv\")\n",
        "# Analyse the training data: Columns and data type; first 5 rows of data\n",
        "print(df_train.info())\n",
        "print(df_train.head())\n",
        "\n",
        "# Load the testing data\n",
        "df_test = pd.read_csv(\"sentiment_test.csv\")\n",
        "\n",
        "# Analyse the testing data: Columns and data type; first 5 rows of data\n",
        "print(df_test.info())\n",
        "print(df_test.head())\n"
      ],
      "execution_count": 91,
      "outputs": [
        {
          "output_type": "stream",
          "name": "stdout",
          "text": [
            "<class 'pandas.core.frame.DataFrame'>\n",
            "RangeIndex: 2400 entries, 0 to 2399\n",
            "Data columns (total 2 columns):\n",
            " #   Column    Non-Null Count  Dtype \n",
            "---  ------    --------------  ----- \n",
            " 0   Sentence  2400 non-null   object\n",
            " 1   Polarity  2400 non-null   int64 \n",
            "dtypes: int64(1), object(1)\n",
            "memory usage: 37.6+ KB\n",
            "None\n",
            "                                            Sentence  Polarity\n",
            "0                           Wow... Loved this place.         1\n",
            "1                                 Crust is not good.         0\n",
            "2          Not tasty and the texture was just nasty.         0\n",
            "3  Stopped by during the late May bank holiday of...         1\n",
            "4  The selection on the menu was great and so wer...         1\n",
            "<class 'pandas.core.frame.DataFrame'>\n",
            "RangeIndex: 600 entries, 0 to 599\n",
            "Data columns (total 2 columns):\n",
            " #   Column    Non-Null Count  Dtype \n",
            "---  ------    --------------  ----- \n",
            " 0   Sentence  600 non-null    object\n",
            " 1   Polarity  600 non-null    int64 \n",
            "dtypes: int64(1), object(1)\n",
            "memory usage: 9.5+ KB\n",
            "None\n",
            "                                            Sentence  Polarity\n",
            "0  A good commentary of today's love and undoubte...         1\n",
            "1  For people who are first timers in film making...         1\n",
            "2  It was very popular when I was in the cinema, ...         1\n",
            "3  It's a feel-good film and that's how I felt wh...         1\n",
            "4  It has northern humour and positive about the ...         1\n"
          ]
        }
      ]
    },
    {
      "cell_type": "markdown",
      "metadata": {
        "id": "COPEmCCSd1M0"
      },
      "source": [
        "### Part 1.b. Modeling\n",
        "\n",
        "Use your favorite ML algorithm to train a classification model.  Don’t forget everything that we’ve learned in our ML course: hyperparameter tuning, cross validation, handling imbalanced data, etc. Make reasonable decisions and try to create the best-performing classifier that you can."
      ]
    },
    {
      "cell_type": "markdown",
      "metadata": {
        "id": "GNbnyhF_in7K"
      },
      "source": [
        "## Basic Data check"
      ]
    },
    {
      "cell_type": "code",
      "metadata": {
        "id": "dY0wtbVwd1M0",
        "colab": {
          "base_uri": "https://localhost:8080/",
          "height": 0
        },
        "outputId": "13ccdad6-8320-48fd-a2c6-aaac6b022b0f"
      },
      "source": [
        "# Check for Missing values in data\n",
        "df_train.isna().sum()\n",
        "# df_test.isna().sum()"
      ],
      "execution_count": 92,
      "outputs": [
        {
          "output_type": "execute_result",
          "data": {
            "text/plain": [
              "Sentence    0\n",
              "Polarity    0\n",
              "dtype: int64"
            ]
          },
          "metadata": {},
          "execution_count": 92
        }
      ]
    },
    {
      "cell_type": "code",
      "metadata": {
        "colab": {
          "base_uri": "https://localhost:8080/",
          "height": 0
        },
        "id": "qkPQTGFyfk_s",
        "outputId": "71635519-20f2-4f1f-fc6c-1f41621f8ff9"
      },
      "source": [
        "# Check for balance in train dataset\n",
        "df_train[\"Polarity\"].value_counts()\n",
        "# df_test.groupby(\"Polarity\").count()\n",
        "\n",
        "# The weights are almost equal, will leverage class weight of ML algorithm"
      ],
      "execution_count": 93,
      "outputs": [
        {
          "output_type": "execute_result",
          "data": {
            "text/plain": [
              "0    1213\n",
              "1    1187\n",
              "Name: Polarity, dtype: int64"
            ]
          },
          "metadata": {},
          "execution_count": 93
        }
      ]
    },
    {
      "cell_type": "code",
      "metadata": {
        "colab": {
          "base_uri": "https://localhost:8080/",
          "height": 360
        },
        "id": "6YVk30CewiMa",
        "outputId": "88a703db-5aa8-481e-df50-7affc4049062"
      },
      "source": [
        "df_train[\"Polarity\"].value_counts().plot.bar()"
      ],
      "execution_count": 94,
      "outputs": [
        {
          "output_type": "execute_result",
          "data": {
            "text/plain": [
              "<matplotlib.axes._subplots.AxesSubplot at 0x7fb6932f3890>"
            ]
          },
          "metadata": {},
          "execution_count": 94
        },
        {
          "output_type": "display_data",
          "data": {
            "image/png": "[encoded data removed]",
            "text/plain": [
              "<Figure size 576x396 with 1 Axes>"
            ]
          },
          "metadata": {}
        }
      ]
    },
    {
      "cell_type": "code",
      "metadata": {
        "colab": {
          "base_uri": "https://localhost:8080/",
          "height": 0
        },
        "id": "qd4fYOaoflwu",
        "outputId": "401e328c-a138-474e-ebcc-059689b1fc84"
      },
      "source": [
        "# check for duplicate sentences\n",
        "df_train.duplicated(subset=[\"Sentence\"]).sum()\n",
        "# df_test.duplicated(subset=[\"Sentence\"]).sum()\n",
        "\n",
        "# There are 18 duplicates in the training dataset"
      ],
      "execution_count": 95,
      "outputs": [
        {
          "output_type": "execute_result",
          "data": {
            "text/plain": [
              "18"
            ]
          },
          "metadata": {},
          "execution_count": 95
        }
      ]
    },
    {
      "cell_type": "code",
      "metadata": {
        "id": "xMuv1q81LrPs"
      },
      "source": [
        "# drop the 18 duplicates indentified in previous step\n",
        "df_train = df_train.drop_duplicates(subset=[\"Sentence\"],keep=\"last\")"
      ],
      "execution_count": 96,
      "outputs": []
    },
    {
      "cell_type": "code",
      "metadata": {
        "colab": {
          "base_uri": "https://localhost:8080/",
          "height": 0
        },
        "id": "YKB5QA2Ofl09",
        "outputId": "86078e79-d83e-4430-c5f3-6e3c9929f696"
      },
      "source": [
        "# Re-Check for balance in train dataset after deleting duplicate sentences\n",
        "df_train[\"Polarity\"].value_counts()\n",
        "\n",
        "# The weights are still almost equal, will leverage class weight of ML algorithm. \n",
        "# 7 instances from class 0 were dropped and 11 instances for class 1 were dropped "
      ],
      "execution_count": 97,
      "outputs": [
        {
          "output_type": "execute_result",
          "data": {
            "text/plain": [
              "0    1206\n",
              "1    1176\n",
              "Name: Polarity, dtype: int64"
            ]
          },
          "metadata": {},
          "execution_count": 97
        }
      ]
    },
    {
      "cell_type": "code",
      "metadata": {
        "colab": {
          "base_uri": "https://localhost:8080/",
          "height": 80
        },
        "id": "zJdcvyKKfl4B",
        "outputId": "05d005e2-74da-441c-fd1c-27f79157e845"
      },
      "source": [
        "df_train.describe().transpose()"
      ],
      "execution_count": 98,
      "outputs": [
        {
          "output_type": "execute_result",
          "data": {
            "text/html": [
              "<div>\n",
              "<style scoped>\n",
              "    .dataframe tbody tr th:only-of-type {\n",
              "        vertical-align: middle;\n",
              "    }\n",
              "\n",
              "    .dataframe tbody tr th {\n",
              "        vertical-align: top;\n",
              "    }\n",
              "\n",
              "    .dataframe thead th {\n",
              "        text-align: right;\n",
              "    }\n",
              "</style>\n",
              "<table border=\"1\" class=\"dataframe\">\n",
              "  <thead>\n",
              "    <tr style=\"text-align: right;\">\n",
              "      <th></th>\n",
              "      <th>count</th>\n",
              "      <th>mean</th>\n",
              "      <th>std</th>\n",
              "      <th>min</th>\n",
              "      <th>25%</th>\n",
              "      <th>50%</th>\n",
              "      <th>75%</th>\n",
              "      <th>max</th>\n",
              "    </tr>\n",
              "  </thead>\n",
              "  <tbody>\n",
              "    <tr>\n",
              "      <th>Polarity</th>\n",
              "      <td>2382.0</td>\n",
              "      <td>0.493703</td>\n",
              "      <td>0.500065</td>\n",
              "      <td>0.0</td>\n",
              "      <td>0.0</td>\n",
              "      <td>0.0</td>\n",
              "      <td>1.0</td>\n",
              "      <td>1.0</td>\n",
              "    </tr>\n",
              "  </tbody>\n",
              "</table>\n",
              "</div>"
            ],
            "text/plain": [
              "           count      mean       std  min  25%  50%  75%  max\n",
              "Polarity  2382.0  0.493703  0.500065  0.0  0.0  0.0  1.0  1.0"
            ]
          },
          "metadata": {},
          "execution_count": 98
        }
      ]
    },
    {
      "cell_type": "markdown",
      "metadata": {
        "id": "k5eHc4JTiyq3"
      },
      "source": [
        "## Feature Engineering"
      ]
    },
    {
      "cell_type": "code",
      "metadata": {
        "id": "-UEXfbx8fl7H"
      },
      "source": [
        "# Import NLTK module and download the necessary collections \n",
        "# (commenting download for output generation)\n",
        "import nltk\n",
        "# nltk.download('all')"
      ],
      "execution_count": 99,
      "outputs": []
    },
    {
      "cell_type": "code",
      "metadata": {
        "id": "TX5y7bbDi5Xb"
      },
      "source": [
        "# New Feature: Total number of sentences for each text in training and test dataset.\n",
        "\n",
        "def Tokenize(x):\n",
        "    return len(nltk.sent_tokenize(x))\n",
        "\n",
        "df_train['Senten_count'] = df_train['Sentence'].apply(lambda x: Tokenize(x))\n",
        "df_test['Senten_count'] = df_test['Sentence'].apply(lambda x: Tokenize(x))\n"
      ],
      "execution_count": 100,
      "outputs": []
    },
    {
      "cell_type": "code",
      "metadata": {
        "id": "-55T-1jY0Jwf"
      },
      "source": [
        "# New Feature: Total number of characters for each text in training and test dataset.\n",
        "\n",
        "def length(x):\n",
        "    return len(x)\n",
        "\n",
        "df_train['length'] = df_train['Sentence'].apply(lambda x: length(x))\n",
        "df_test['length'] = df_test['Sentence'].apply(lambda x: length(x))"
      ],
      "execution_count": 101,
      "outputs": []
    },
    {
      "cell_type": "code",
      "metadata": {
        "id": "rVngYg1gtLzV"
      },
      "source": [
        "# New Feature: Total number of words for each text in training and test dataset.\n",
        "\n",
        "import re\n",
        "from nltk.corpus import stopwords\n",
        "from nltk.stem import WordNetLemmatizer\n",
        "lemmatizer = WordNetLemmatizer()\n",
        "\n",
        "def counter(x):\n",
        "  r = re.sub('[^a-zA-Z]', ' ', x)\n",
        "  r = r.lower()\n",
        "  r = r.split()\n",
        "  word_count = len(r)\n",
        "  return word_count\n",
        "\n",
        "df_train[\"word_count\"] = df_train['Sentence'].apply(lambda x: counter(x))\n",
        "\n",
        "df_test[\"word_count\"] = df_test['Sentence'].apply(lambda x: counter(x))\n",
        "\n",
        "# New Feature: Total number of unique words for each text in training and test dataset.\n",
        "\n",
        "def UNQ_counter(x):\n",
        "  r = re.sub('[^a-zA-Z]', ' ', x)\n",
        "  r = r.lower()\n",
        "  r = r.split()\n",
        "  word_count = len(r)\n",
        "  unique_word_count = len(set(r))\n",
        "  return word_count\n",
        "\n",
        "df_train[\"UNQ_word_count\"] = df_train['Sentence'].apply(lambda x: UNQ_counter(x))\n",
        "\n",
        "df_test[\"UNQ_word_count\"] = df_test['Sentence'].apply(lambda x: UNQ_counter(x))\n",
        "\n",
        "# New Feature: Build processed text with following features:\n",
        "# 1. replace non alphabet text with spaces\n",
        "# 2. convert text in to lower case\n",
        "# 3. split in to tokens by using default (spaces)\n",
        "# 4. use lemmatizer to lemmatize words\n",
        "# 5. Remove stopwords\n",
        "# 6. re-join the remaining tokens using spaces\n",
        "# 7. Create a new feature called proc_text in training and text dataset \n",
        "\n",
        "\n",
        "def text_processing(x):\n",
        "  r = re.sub('[^a-zA-Z]', ' ', x)\n",
        "  r = r.lower()\n",
        "  r = r.split()\n",
        "  word_count = len(r)\n",
        "  unique_word_count = len(set(r))\n",
        "  r = [lemmatizer.lemmatize(word) for word in r]\n",
        "  r = [word for word in r if word not in stopwords.words('english')]\n",
        "  r = ' '.join(r)\n",
        "  return r\n",
        "\n",
        "df_train[\"proc_text\"] = df_train['Sentence'].apply(lambda x: text_processing(x))\n",
        "\n",
        "df_test[\"proc_text\"] = df_test['Sentence'].apply(lambda x: text_processing(x))\n"
      ],
      "execution_count": 102,
      "outputs": []
    },
    {
      "cell_type": "code",
      "metadata": {
        "colab": {
          "base_uri": "https://localhost:8080/",
          "height": 204
        },
        "id": "CN1nMnJL1tP3",
        "outputId": "91356e7f-4bdc-4a68-c401-35dc5cbddd35"
      },
      "source": [
        "df_train.head(5)"
      ],
      "execution_count": 103,
      "outputs": [
        {
          "output_type": "execute_result",
          "data": {
            "text/html": [
              "<div>\n",
              "<style scoped>\n",
              "    .dataframe tbody tr th:only-of-type {\n",
              "        vertical-align: middle;\n",
              "    }\n",
              "\n",
              "    .dataframe tbody tr th {\n",
              "        vertical-align: top;\n",
              "    }\n",
              "\n",
              "    .dataframe thead th {\n",
              "        text-align: right;\n",
              "    }\n",
              "</style>\n",
              "<table border=\"1\" class=\"dataframe\">\n",
              "  <thead>\n",
              "    <tr style=\"text-align: right;\">\n",
              "      <th></th>\n",
              "      <th>Sentence</th>\n",
              "      <th>Polarity</th>\n",
              "      <th>Senten_count</th>\n",
              "      <th>length</th>\n",
              "      <th>word_count</th>\n",
              "      <th>UNQ_word_count</th>\n",
              "      <th>proc_text</th>\n",
              "    </tr>\n",
              "  </thead>\n",
              "  <tbody>\n",
              "    <tr>\n",
              "      <th>0</th>\n",
              "      <td>Wow... Loved this place.</td>\n",
              "      <td>1</td>\n",
              "      <td>2</td>\n",
              "      <td>24</td>\n",
              "      <td>4</td>\n",
              "      <td>4</td>\n",
              "      <td>wow loved place</td>\n",
              "    </tr>\n",
              "    <tr>\n",
              "      <th>1</th>\n",
              "      <td>Crust is not good.</td>\n",
              "      <td>0</td>\n",
              "      <td>1</td>\n",
              "      <td>18</td>\n",
              "      <td>4</td>\n",
              "      <td>4</td>\n",
              "      <td>crust good</td>\n",
              "    </tr>\n",
              "    <tr>\n",
              "      <th>2</th>\n",
              "      <td>Not tasty and the texture was just nasty.</td>\n",
              "      <td>0</td>\n",
              "      <td>1</td>\n",
              "      <td>41</td>\n",
              "      <td>8</td>\n",
              "      <td>8</td>\n",
              "      <td>tasty texture wa nasty</td>\n",
              "    </tr>\n",
              "    <tr>\n",
              "      <th>3</th>\n",
              "      <td>Stopped by during the late May bank holiday of...</td>\n",
              "      <td>1</td>\n",
              "      <td>1</td>\n",
              "      <td>87</td>\n",
              "      <td>15</td>\n",
              "      <td>15</td>\n",
              "      <td>stopped late may bank holiday rick steve recom...</td>\n",
              "    </tr>\n",
              "    <tr>\n",
              "      <th>4</th>\n",
              "      <td>The selection on the menu was great and so wer...</td>\n",
              "      <td>1</td>\n",
              "      <td>1</td>\n",
              "      <td>59</td>\n",
              "      <td>12</td>\n",
              "      <td>12</td>\n",
              "      <td>selection menu wa great price</td>\n",
              "    </tr>\n",
              "  </tbody>\n",
              "</table>\n",
              "</div>"
            ],
            "text/plain": [
              "                                            Sentence  ...                                          proc_text\n",
              "0                           Wow... Loved this place.  ...                                    wow loved place\n",
              "1                                 Crust is not good.  ...                                         crust good\n",
              "2          Not tasty and the texture was just nasty.  ...                             tasty texture wa nasty\n",
              "3  Stopped by during the late May bank holiday of...  ...  stopped late may bank holiday rick steve recom...\n",
              "4  The selection on the menu was great and so wer...  ...                      selection menu wa great price\n",
              "\n",
              "[5 rows x 7 columns]"
            ]
          },
          "metadata": {},
          "execution_count": 103
        }
      ]
    },
    {
      "cell_type": "code",
      "metadata": {
        "colab": {
          "base_uri": "https://localhost:8080/",
          "height": 269
        },
        "id": "TSeWEfSDljRI",
        "outputId": "5c73b416-1efe-43ef-ead7-4078d459e2ac"
      },
      "source": [
        "# Analyse the histogram for length of text (characters in string) for each Polarity class\n",
        "import matplotlib.pyplot as plt\n",
        "%matplotlib inline\n",
        "\n",
        "plt.xscale('log')\n",
        "bins = 1.15**(np.arange(0,50))\n",
        "plt.hist(df_train[df_train['Polarity']==0]['length'],bins=bins,alpha=0.8)\n",
        "plt.hist(df_train[df_train['Polarity']==1]['length'],bins=bins,alpha=0.8)\n",
        "plt.legend(('class 0','class 1'))\n",
        "plt.show()\n",
        "\n",
        "# The histogram doesnt yield any distinguishable insights"
      ],
      "execution_count": 104,
      "outputs": [
        {
          "output_type": "display_data",
          "data": {
            "image/png": "[encoded data removed]",
            "text/plain": [
              "<Figure size 432x288 with 1 Axes>"
            ]
          },
          "metadata": {
            "needs_background": "light"
          }
        }
      ]
    },
    {
      "cell_type": "code",
      "metadata": {
        "colab": {
          "base_uri": "https://localhost:8080/",
          "height": 265
        },
        "id": "G-Rcgpn3oX6B",
        "outputId": "e2158d92-d2b0-40c3-ebe7-0606d3179578"
      },
      "source": [
        "# Analyse the histogram for word count for each Polarity class\n",
        "import matplotlib.pyplot as plt\n",
        "%matplotlib inline\n",
        "\n",
        "# plt.xscale('log')\n",
        "bins = 1.2**(np.arange(0,25))\n",
        "plt.hist(df_train[df_train['Polarity']==0]['word_count'],bins=bins,alpha=0.8)\n",
        "plt.hist(df_train[df_train['Polarity']==1]['word_count'],bins=bins,alpha=0.8)\n",
        "plt.legend(('class 0','class 1'))\n",
        "plt.show()\n",
        "\n",
        "# The histogram doesnt yield any distinguishable insights"
      ],
      "execution_count": 105,
      "outputs": [
        {
          "output_type": "display_data",
          "data": {
            "image/png": "[encoded data removed]",
            "text/plain": [
              "<Figure size 432x288 with 1 Axes>"
            ]
          },
          "metadata": {
            "needs_background": "light"
          }
        }
      ]
    },
    {
      "cell_type": "code",
      "metadata": {
        "colab": {
          "base_uri": "https://localhost:8080/",
          "height": 265
        },
        "id": "-OPftWAy1cDE",
        "outputId": "b06850b4-39ca-4b9c-e4e6-40288dc0cdb8"
      },
      "source": [
        "# Analyse the histogram for unique word count for each Polarity class\n",
        "import matplotlib.pyplot as plt\n",
        "%matplotlib inline\n",
        "\n",
        "# plt.xscale('log')\n",
        "bins = 1.2**(np.arange(0,25))\n",
        "plt.hist(df_train[df_train['Polarity']==0]['UNQ_word_count'],bins=bins,alpha=0.8)\n",
        "plt.hist(df_train[df_train['Polarity']==1]['UNQ_word_count'],bins=bins,alpha=0.8)\n",
        "plt.legend(('class 0','class 1'))\n",
        "plt.show()\n",
        "\n",
        "# The histogram doesnt yield any distinguishable insights"
      ],
      "execution_count": 106,
      "outputs": [
        {
          "output_type": "display_data",
          "data": {
            "image/png": "[encoded data removed]",
            "text/plain": [
              "<Figure size 432x288 with 1 Axes>"
            ]
          },
          "metadata": {
            "needs_background": "light"
          }
        }
      ]
    },
    {
      "cell_type": "code",
      "metadata": {
        "colab": {
          "base_uri": "https://localhost:8080/",
          "height": 265
        },
        "id": "MokL4eH11cOv",
        "outputId": "626d3957-37c2-40e7-80d7-5a97bc50759e"
      },
      "source": [
        "# Analyse the histogram for number of sentences for each Polarity class\n",
        "import matplotlib.pyplot as plt\n",
        "%matplotlib inline\n",
        "\n",
        "# plt.xscale('log')\n",
        "bins = 1.2**(np.arange(0,10))\n",
        "plt.hist(df_train[df_train['Polarity']==0]['Senten_count'],bins=bins,alpha=0.5)\n",
        "plt.hist(df_train[df_train['Polarity']==1]['Senten_count'],bins=bins,alpha=0.5)\n",
        "plt.legend(('class 0','class 1'))\n",
        "plt.show()\n",
        "\n",
        "# The histogram doesnt yield any distinguishable insights"
      ],
      "execution_count": 107,
      "outputs": [
        {
          "output_type": "display_data",
          "data": {
            "image/png": "[encoded data removed]",
            "text/plain": [
              "<Figure size 432x288 with 1 Axes>"
            ]
          },
          "metadata": {
            "needs_background": "light"
          }
        }
      ]
    },
    {
      "cell_type": "markdown",
      "metadata": {
        "id": "CCHhkHKtaoH_"
      },
      "source": [
        "## Feature Scaling"
      ]
    },
    {
      "cell_type": "code",
      "metadata": {
        "colab": {
          "base_uri": "https://localhost:8080/",
          "height": 204
        },
        "id": "2nHFLm3Gaou_",
        "outputId": "49e9cfe3-f9c5-4cdf-d968-29e61b3aef60"
      },
      "source": [
        "# Scale the new features as number of sentences range from 1 to 2 while the number of characters range to the 100's\n",
        "from sklearn.preprocessing import StandardScaler\n",
        "scaler = StandardScaler()\n",
        "\n",
        "df_train[[\"Senten_count\",\"length\",\"word_count\",\"UNQ_word_count\"]] = scaler.fit_transform(df_train[[\"Senten_count\",\"length\",\"word_count\",\"UNQ_word_count\"]])\n",
        "df_train.head()"
      ],
      "execution_count": 108,
      "outputs": [
        {
          "output_type": "execute_result",
          "data": {
            "text/html": [
              "<div>\n",
              "<style scoped>\n",
              "    .dataframe tbody tr th:only-of-type {\n",
              "        vertical-align: middle;\n",
              "    }\n",
              "\n",
              "    .dataframe tbody tr th {\n",
              "        vertical-align: top;\n",
              "    }\n",
              "\n",
              "    .dataframe thead th {\n",
              "        text-align: right;\n",
              "    }\n",
              "</style>\n",
              "<table border=\"1\" class=\"dataframe\">\n",
              "  <thead>\n",
              "    <tr style=\"text-align: right;\">\n",
              "      <th></th>\n",
              "      <th>Sentence</th>\n",
              "      <th>Polarity</th>\n",
              "      <th>Senten_count</th>\n",
              "      <th>length</th>\n",
              "      <th>word_count</th>\n",
              "      <th>UNQ_word_count</th>\n",
              "      <th>proc_text</th>\n",
              "    </tr>\n",
              "  </thead>\n",
              "  <tbody>\n",
              "    <tr>\n",
              "      <th>0</th>\n",
              "      <td>Wow... Loved this place.</td>\n",
              "      <td>1</td>\n",
              "      <td>5.296168</td>\n",
              "      <td>-0.953844</td>\n",
              "      <td>-1.011316</td>\n",
              "      <td>-1.011316</td>\n",
              "      <td>wow loved place</td>\n",
              "    </tr>\n",
              "    <tr>\n",
              "      <th>1</th>\n",
              "      <td>Crust is not good.</td>\n",
              "      <td>0</td>\n",
              "      <td>-0.184054</td>\n",
              "      <td>-1.111928</td>\n",
              "      <td>-1.011316</td>\n",
              "      <td>-1.011316</td>\n",
              "      <td>crust good</td>\n",
              "    </tr>\n",
              "    <tr>\n",
              "      <th>2</th>\n",
              "      <td>Not tasty and the texture was just nasty.</td>\n",
              "      <td>0</td>\n",
              "      <td>-0.184054</td>\n",
              "      <td>-0.505940</td>\n",
              "      <td>-0.452588</td>\n",
              "      <td>-0.452588</td>\n",
              "      <td>tasty texture wa nasty</td>\n",
              "    </tr>\n",
              "    <tr>\n",
              "      <th>3</th>\n",
              "      <td>Stopped by during the late May bank holiday of...</td>\n",
              "      <td>1</td>\n",
              "      <td>-0.184054</td>\n",
              "      <td>0.706034</td>\n",
              "      <td>0.525185</td>\n",
              "      <td>0.525185</td>\n",
              "      <td>stopped late may bank holiday rick steve recom...</td>\n",
              "    </tr>\n",
              "    <tr>\n",
              "      <th>4</th>\n",
              "      <td>The selection on the menu was great and so wer...</td>\n",
              "      <td>1</td>\n",
              "      <td>-0.184054</td>\n",
              "      <td>-0.031690</td>\n",
              "      <td>0.106140</td>\n",
              "      <td>0.106140</td>\n",
              "      <td>selection menu wa great price</td>\n",
              "    </tr>\n",
              "  </tbody>\n",
              "</table>\n",
              "</div>"
            ],
            "text/plain": [
              "                                            Sentence  ...                                          proc_text\n",
              "0                           Wow... Loved this place.  ...                                    wow loved place\n",
              "1                                 Crust is not good.  ...                                         crust good\n",
              "2          Not tasty and the texture was just nasty.  ...                             tasty texture wa nasty\n",
              "3  Stopped by during the late May bank holiday of...  ...  stopped late may bank holiday rick steve recom...\n",
              "4  The selection on the menu was great and so wer...  ...                      selection menu wa great price\n",
              "\n",
              "[5 rows x 7 columns]"
            ]
          },
          "metadata": {},
          "execution_count": 108
        }
      ]
    },
    {
      "cell_type": "code",
      "metadata": {
        "colab": {
          "base_uri": "https://localhost:8080/",
          "height": 204
        },
        "id": "RSUXshJCbYm-",
        "outputId": "33c6d6fe-da1e-4ac3-cac6-377153fe0e34"
      },
      "source": [
        "df_test[[\"Senten_count\",\"length\",\"word_count\",\"UNQ_word_count\"]] = scaler.transform(df_test[[\"Senten_count\",\"length\",\"word_count\",\"UNQ_word_count\"]])\n",
        "df_test.head()"
      ],
      "execution_count": 109,
      "outputs": [
        {
          "output_type": "execute_result",
          "data": {
            "text/html": [
              "<div>\n",
              "<style scoped>\n",
              "    .dataframe tbody tr th:only-of-type {\n",
              "        vertical-align: middle;\n",
              "    }\n",
              "\n",
              "    .dataframe tbody tr th {\n",
              "        vertical-align: top;\n",
              "    }\n",
              "\n",
              "    .dataframe thead th {\n",
              "        text-align: right;\n",
              "    }\n",
              "</style>\n",
              "<table border=\"1\" class=\"dataframe\">\n",
              "  <thead>\n",
              "    <tr style=\"text-align: right;\">\n",
              "      <th></th>\n",
              "      <th>Sentence</th>\n",
              "      <th>Polarity</th>\n",
              "      <th>Senten_count</th>\n",
              "      <th>length</th>\n",
              "      <th>word_count</th>\n",
              "      <th>UNQ_word_count</th>\n",
              "      <th>proc_text</th>\n",
              "    </tr>\n",
              "  </thead>\n",
              "  <tbody>\n",
              "    <tr>\n",
              "      <th>0</th>\n",
              "      <td>A good commentary of today's love and undoubte...</td>\n",
              "      <td>1</td>\n",
              "      <td>-0.184054</td>\n",
              "      <td>0.310825</td>\n",
              "      <td>0.245822</td>\n",
              "      <td>0.245822</td>\n",
              "      <td>good commentary today love undoubtedly film wo...</td>\n",
              "    </tr>\n",
              "    <tr>\n",
              "      <th>1</th>\n",
              "      <td>For people who are first timers in film making...</td>\n",
              "      <td>1</td>\n",
              "      <td>5.296168</td>\n",
              "      <td>0.653339</td>\n",
              "      <td>0.664867</td>\n",
              "      <td>0.664867</td>\n",
              "      <td>people first timer film making think excellent...</td>\n",
              "    </tr>\n",
              "    <tr>\n",
              "      <th>2</th>\n",
              "      <td>It was very popular when I was in the cinema, ...</td>\n",
              "      <td>1</td>\n",
              "      <td>-0.184054</td>\n",
              "      <td>1.206632</td>\n",
              "      <td>1.363277</td>\n",
              "      <td>1.363277</td>\n",
              "      <td>wa popular wa cinema good house good reaction ...</td>\n",
              "    </tr>\n",
              "    <tr>\n",
              "      <th>3</th>\n",
              "      <td>It's a feel-good film and that's how I felt wh...</td>\n",
              "      <td>1</td>\n",
              "      <td>-0.184054</td>\n",
              "      <td>0.416214</td>\n",
              "      <td>1.083913</td>\n",
              "      <td>1.083913</td>\n",
              "      <td>feel good film felt came cinema</td>\n",
              "    </tr>\n",
              "    <tr>\n",
              "      <th>4</th>\n",
              "      <td>It has northern humour and positive about the ...</td>\n",
              "      <td>1</td>\n",
              "      <td>-0.184054</td>\n",
              "      <td>0.310825</td>\n",
              "      <td>-0.033542</td>\n",
              "      <td>-0.033542</td>\n",
              "      <td>ha northern humour positive community represents</td>\n",
              "    </tr>\n",
              "  </tbody>\n",
              "</table>\n",
              "</div>"
            ],
            "text/plain": [
              "                                            Sentence  ...                                          proc_text\n",
              "0  A good commentary of today's love and undoubte...  ...  good commentary today love undoubtedly film wo...\n",
              "1  For people who are first timers in film making...  ...  people first timer film making think excellent...\n",
              "2  It was very popular when I was in the cinema, ...  ...  wa popular wa cinema good house good reaction ...\n",
              "3  It's a feel-good film and that's how I felt wh...  ...                    feel good film felt came cinema\n",
              "4  It has northern humour and positive about the ...  ...   ha northern humour positive community represents\n",
              "\n",
              "[5 rows x 7 columns]"
            ]
          },
          "metadata": {},
          "execution_count": 109
        }
      ]
    },
    {
      "cell_type": "markdown",
      "metadata": {
        "id": "B7muH59HoiHG"
      },
      "source": [
        "## Test Train Split for baseline model"
      ]
    },
    {
      "cell_type": "code",
      "metadata": {
        "colab": {
          "base_uri": "https://localhost:8080/",
          "height": 0
        },
        "id": "eb_AhGvfogzS",
        "outputId": "ab1fdf91-3442-4fbc-d7c0-e8a43765fee4"
      },
      "source": [
        "# split the training set for training and validation\n",
        "from sklearn.model_selection import train_test_split\n",
        "\n",
        "y = df_train.Polarity\n",
        "X = df_train.drop(\"Polarity\",axis=1)\n",
        "\n",
        "\n",
        "X_train, X_test, y_train, y_test = train_test_split(X, y, test_size=0.25, \n",
        "                                                    random_state=666)\n",
        "\n",
        "print('Training Data :', X_train.shape)\n",
        "print('Testing Data : ', X_test.shape)"
      ],
      "execution_count": 110,
      "outputs": [
        {
          "output_type": "stream",
          "name": "stdout",
          "text": [
            "Training Data : (1786, 6)\n",
            "Testing Data :  (596, 6)\n"
          ]
        }
      ]
    },
    {
      "cell_type": "code",
      "metadata": {
        "colab": {
          "base_uri": "https://localhost:8080/",
          "height": 278
        },
        "id": "piKW2oK7ohDG",
        "outputId": "4c770127-faf3-4110-e681-dcd65ae7a3c9"
      },
      "source": [
        "y_train.value_counts().plot.bar()\n"
      ],
      "execution_count": 111,
      "outputs": [
        {
          "output_type": "execute_result",
          "data": {
            "text/plain": [
              "<matplotlib.axes._subplots.AxesSubplot at 0x7fb69dcaebd0>"
            ]
          },
          "metadata": {},
          "execution_count": 111
        },
        {
          "output_type": "display_data",
          "data": {
            "image/png": "[encoded data removed]",
            "text/plain": [
              "<Figure size 432x288 with 1 Axes>"
            ]
          },
          "metadata": {
            "needs_background": "light"
          }
        }
      ]
    },
    {
      "cell_type": "code",
      "metadata": {
        "id": "xzdFmF2sPYQj"
      },
      "source": [
        "# Dataset for baseline splits\n",
        "X_train_b = X_train[[\"Senten_count\",\"length\",\"word_count\",\"UNQ_word_count\"]]\n",
        "X_test_b = X_test[[\"Senten_count\",\"length\",\"word_count\",\"UNQ_word_count\"]]"
      ],
      "execution_count": 112,
      "outputs": []
    },
    {
      "cell_type": "markdown",
      "metadata": {
        "id": "QaADA3HpO1wN"
      },
      "source": [
        "## Baseline Model \n",
        "using features like Length, nos of Sentences, nos of words and nos of unique words "
      ]
    },
    {
      "cell_type": "code",
      "metadata": {
        "colab": {
          "base_uri": "https://localhost:8080/",
          "height": 0
        },
        "id": "7U7y-C7YO2at",
        "outputId": "74b0a714-36ce-4922-9041-51dddad80df8"
      },
      "source": [
        "# Logistics regression as baseline model with class weights as balanced\n",
        "from sklearn.linear_model import LogisticRegression\n",
        "lr = LogisticRegression(class_weight=\"balanced\",random_state=666)\n",
        "lr.fit(X_train_b, y_train)"
      ],
      "execution_count": 113,
      "outputs": [
        {
          "output_type": "execute_result",
          "data": {
            "text/plain": [
              "LogisticRegression(C=1.0, class_weight='balanced', dual=False,\n",
              "                   fit_intercept=True, intercept_scaling=1, l1_ratio=None,\n",
              "                   max_iter=100, multi_class='auto', n_jobs=None, penalty='l2',\n",
              "                   random_state=666, solver='lbfgs', tol=0.0001, verbose=0,\n",
              "                   warm_start=False)"
            ]
          },
          "metadata": {},
          "execution_count": 113
        }
      ]
    },
    {
      "cell_type": "code",
      "metadata": {
        "id": "N4QjAOHJPPD0"
      },
      "source": [
        "from sklearn import metrics\n",
        "\n",
        "# Create a prediction set:\n",
        "predictions = lr.predict(X_test_b)\n"
      ],
      "execution_count": 114,
      "outputs": []
    },
    {
      "cell_type": "code",
      "metadata": {
        "colab": {
          "base_uri": "https://localhost:8080/",
          "height": 0
        },
        "id": "kFmHPvARPPP7",
        "outputId": "dab39ba3-819b-43f6-b735-5bd037d2caf1"
      },
      "source": [
        "# classification report\n",
        "print(metrics.classification_report(y_test,predictions))"
      ],
      "execution_count": 115,
      "outputs": [
        {
          "output_type": "stream",
          "name": "stdout",
          "text": [
            "              precision    recall  f1-score   support\n",
            "\n",
            "           0       0.58      0.47      0.52       310\n",
            "           1       0.52      0.63      0.57       286\n",
            "\n",
            "    accuracy                           0.55       596\n",
            "   macro avg       0.55      0.55      0.55       596\n",
            "weighted avg       0.55      0.55      0.54       596\n",
            "\n"
          ]
        }
      ]
    },
    {
      "cell_type": "code",
      "metadata": {
        "colab": {
          "base_uri": "https://localhost:8080/",
          "height": 0
        },
        "id": "hqSKjZQbP3Q5",
        "outputId": "9f8e28a0-8cb1-4f38-c2ef-7a2a089d967d"
      },
      "source": [
        "from sklearn import metrics\n",
        "# Check AUC\n",
        "print(metrics.roc_auc_score(y_test,lr.predict_proba(X_test_b)[:, 1]))\n",
        "\n",
        "# the model is not good, just better than random guess"
      ],
      "execution_count": 116,
      "outputs": [
        {
          "output_type": "stream",
          "name": "stdout",
          "text": [
            "0.5712271599368374\n"
          ]
        }
      ]
    },
    {
      "cell_type": "code",
      "metadata": {
        "colab": {
          "base_uri": "https://localhost:8080/",
          "height": 0
        },
        "id": "aUXgORXxSuDR",
        "outputId": "0a8c2a13-fb51-4f95-fc98-9d788e46a159"
      },
      "source": [
        "# Check F1 Score\n",
        "print(metrics.f1_score(y_test,predictions))"
      ],
      "execution_count": 117,
      "outputs": [
        {
          "output_type": "stream",
          "name": "stdout",
          "text": [
            "0.5727848101265823\n"
          ]
        }
      ]
    },
    {
      "cell_type": "code",
      "metadata": {
        "colab": {
          "base_uri": "https://localhost:8080/",
          "height": 290
        },
        "id": "v7NKxIZCP3Wn",
        "outputId": "f12d9427-5808-4a7d-f8cd-344ddaa11733"
      },
      "source": [
        "from yellowbrick.classifier import ConfusionMatrix\n",
        "cm = ConfusionMatrix(lr, classes=[0,1])\n",
        "cm.fit(X_train_b, y_train)\n",
        "cm.score(X_test_b, y_test)\n",
        "cm.poof();"
      ],
      "execution_count": 118,
      "outputs": [
        {
          "output_type": "display_data",
          "data": {
            "image/png": "[encoded data removed]",
            "text/plain": [
              "<Figure size 432x288 with 1 Axes>"
            ]
          },
          "metadata": {
            "needs_background": "light"
          }
        }
      ]
    },
    {
      "cell_type": "markdown",
      "metadata": {
        "id": "pyFKGpNz6wcm"
      },
      "source": [
        "## Bag of Words"
      ]
    },
    {
      "cell_type": "code",
      "metadata": {
        "id": "sQXx8shveHFx"
      },
      "source": [
        "# Create new features: Bag of Words based on processed text (not on original text)\n",
        "y = df_train.Polarity\n",
        "X = df_train.proc_text\n",
        "\n",
        "test = df_test.proc_text"
      ],
      "execution_count": 119,
      "outputs": []
    },
    {
      "cell_type": "code",
      "metadata": {
        "id": "bcKGaxiQohMX"
      },
      "source": [
        "from sklearn.feature_extraction.text import CountVectorizer, TfidfVectorizer\n",
        "cv = CountVectorizer()\n",
        "# tfidf = TfidfVectorizer() \n",
        "# TFIDF model gave a lower auc and f1"
      ],
      "execution_count": 120,
      "outputs": []
    },
    {
      "cell_type": "code",
      "metadata": {
        "colab": {
          "base_uri": "https://localhost:8080/",
          "height": 0
        },
        "id": "AVN4WkNaAGIf",
        "outputId": "b348ad73-2318-44e9-e69f-21f8f7a14b4e"
      },
      "source": [
        "X.head(20)"
      ],
      "execution_count": 121,
      "outputs": [
        {
          "output_type": "execute_result",
          "data": {
            "text/plain": [
              "0                                       wow loved place\n",
              "1                                            crust good\n",
              "2                                tasty texture wa nasty\n",
              "3     stopped late may bank holiday rick steve recom...\n",
              "4                         selection menu wa great price\n",
              "5                           getting angry want damn pho\n",
              "6                                  honeslty taste fresh\n",
              "7     potato like rubber could tell made ahead time ...\n",
              "8                                             fry great\n",
              "9                                           great touch\n",
              "10                                    service wa prompt\n",
              "11                                        would go back\n",
              "12    cashier care ever say still ended wayyy overpr...\n",
              "13         tried cape cod ravoli chicken cranberry mmmm\n",
              "14            wa disgusted wa pretty sure wa human hair\n",
              "15                        wa shocked sign indicate cash\n",
              "16                                   highly recommended\n",
              "17                      waitress wa little slow service\n",
              "18                      place worth time let alone vega\n",
              "19                                                 like\n",
              "Name: proc_text, dtype: object"
            ]
          },
          "metadata": {},
          "execution_count": 121
        }
      ]
    },
    {
      "cell_type": "code",
      "metadata": {
        "id": "O0-QwEVci5aw"
      },
      "source": [
        "X_bow = cv.fit_transform(X)\n",
        "\n",
        "test_bow = cv.transform(test)"
      ],
      "execution_count": 122,
      "outputs": []
    },
    {
      "cell_type": "code",
      "metadata": {
        "id": "vBVxfmBqi5eI"
      },
      "source": [
        "# convert to array\n",
        "X_bow_arr = X_bow.toarray()\n",
        "test_bow_arr = test_bow.toarray()"
      ],
      "execution_count": 123,
      "outputs": []
    },
    {
      "cell_type": "code",
      "metadata": {
        "id": "sMv4xtqOi5k3"
      },
      "source": [
        "# convert to DataFrame\n",
        "X_bow_df = pd.DataFrame(X_bow_arr)\n",
        "\n",
        "test_bow_df = pd.DataFrame(test_bow_arr)"
      ],
      "execution_count": 124,
      "outputs": []
    },
    {
      "cell_type": "code",
      "metadata": {
        "id": "Tv9X4UL1i5oW"
      },
      "source": [
        "# Add column names\n",
        "X_bow_df.columns = cv.get_feature_names()\n",
        "test_bow_df.columns = cv.get_feature_names()"
      ],
      "execution_count": 125,
      "outputs": []
    },
    {
      "cell_type": "code",
      "metadata": {
        "colab": {
          "base_uri": "https://localhost:8080/",
          "height": 253
        },
        "id": "WcOC8MyuArT7",
        "outputId": "c793cfca-01c9-4eb2-cf27-8532fad12934"
      },
      "source": [
        "X_bow_df.head()"
      ],
      "execution_count": 126,
      "outputs": [
        {
          "output_type": "execute_result",
          "data": {
            "text/html": [
              "<div>\n",
              "<style scoped>\n",
              "    .dataframe tbody tr th:only-of-type {\n",
              "        vertical-align: middle;\n",
              "    }\n",
              "\n",
              "    .dataframe tbody tr th {\n",
              "        vertical-align: top;\n",
              "    }\n",
              "\n",
              "    .dataframe thead th {\n",
              "        text-align: right;\n",
              "    }\n",
              "</style>\n",
              "<table border=\"1\" class=\"dataframe\">\n",
              "  <thead>\n",
              "    <tr style=\"text-align: right;\">\n",
              "      <th></th>\n",
              "      <th>abhor</th>\n",
              "      <th>ability</th>\n",
              "      <th>able</th>\n",
              "      <th>abound</th>\n",
              "      <th>absolute</th>\n",
              "      <th>absolutel</th>\n",
              "      <th>absolutely</th>\n",
              "      <th>absolutley</th>\n",
              "      <th>abstruse</th>\n",
              "      <th>ac</th>\n",
              "      <th>accept</th>\n",
              "      <th>acceptable</th>\n",
              "      <th>access</th>\n",
              "      <th>accessable</th>\n",
              "      <th>accessing</th>\n",
              "      <th>accessory</th>\n",
              "      <th>accessoryone</th>\n",
              "      <th>accident</th>\n",
              "      <th>accidentally</th>\n",
              "      <th>accommodation</th>\n",
              "      <th>accomodate</th>\n",
              "      <th>accompanied</th>\n",
              "      <th>according</th>\n",
              "      <th>accountant</th>\n",
              "      <th>accurately</th>\n",
              "      <th>accused</th>\n",
              "      <th>ache</th>\n",
              "      <th>acknowledged</th>\n",
              "      <th>across</th>\n",
              "      <th>acted</th>\n",
              "      <th>acting</th>\n",
              "      <th>action</th>\n",
              "      <th>activate</th>\n",
              "      <th>activated</th>\n",
              "      <th>activesync</th>\n",
              "      <th>actor</th>\n",
              "      <th>actress</th>\n",
              "      <th>actual</th>\n",
              "      <th>actually</th>\n",
              "      <th>ad</th>\n",
              "      <th>...</th>\n",
              "      <th>worker</th>\n",
              "      <th>working</th>\n",
              "      <th>world</th>\n",
              "      <th>worn</th>\n",
              "      <th>worry</th>\n",
              "      <th>worse</th>\n",
              "      <th>worst</th>\n",
              "      <th>worth</th>\n",
              "      <th>worthless</th>\n",
              "      <th>worthwhile</th>\n",
              "      <th>would</th>\n",
              "      <th>wound</th>\n",
              "      <th>wow</th>\n",
              "      <th>wrap</th>\n",
              "      <th>wrapped</th>\n",
              "      <th>writer</th>\n",
              "      <th>writing</th>\n",
              "      <th>written</th>\n",
              "      <th>wrong</th>\n",
              "      <th>wrongly</th>\n",
              "      <th>ya</th>\n",
              "      <th>yama</th>\n",
              "      <th>yawn</th>\n",
              "      <th>yay</th>\n",
              "      <th>yeah</th>\n",
              "      <th>year</th>\n",
              "      <th>yell</th>\n",
              "      <th>yellow</th>\n",
              "      <th>yellowtail</th>\n",
              "      <th>yelpers</th>\n",
              "      <th>yes</th>\n",
              "      <th>yet</th>\n",
              "      <th>young</th>\n",
              "      <th>youthful</th>\n",
              "      <th>yucky</th>\n",
              "      <th>yukon</th>\n",
              "      <th>yum</th>\n",
              "      <th>yummy</th>\n",
              "      <th>zero</th>\n",
              "      <th>zombiez</th>\n",
              "    </tr>\n",
              "  </thead>\n",
              "  <tbody>\n",
              "    <tr>\n",
              "      <th>0</th>\n",
              "      <td>0</td>\n",
              "      <td>0</td>\n",
              "      <td>0</td>\n",
              "      <td>0</td>\n",
              "      <td>0</td>\n",
              "      <td>0</td>\n",
              "      <td>0</td>\n",
              "      <td>0</td>\n",
              "      <td>0</td>\n",
              "      <td>0</td>\n",
              "      <td>0</td>\n",
              "      <td>0</td>\n",
              "      <td>0</td>\n",
              "      <td>0</td>\n",
              "      <td>0</td>\n",
              "      <td>0</td>\n",
              "      <td>0</td>\n",
              "      <td>0</td>\n",
              "      <td>0</td>\n",
              "      <td>0</td>\n",
              "      <td>0</td>\n",
              "      <td>0</td>\n",
              "      <td>0</td>\n",
              "      <td>0</td>\n",
              "      <td>0</td>\n",
              "      <td>0</td>\n",
              "      <td>0</td>\n",
              "      <td>0</td>\n",
              "      <td>0</td>\n",
              "      <td>0</td>\n",
              "      <td>0</td>\n",
              "      <td>0</td>\n",
              "      <td>0</td>\n",
              "      <td>0</td>\n",
              "      <td>0</td>\n",
              "      <td>0</td>\n",
              "      <td>0</td>\n",
              "      <td>0</td>\n",
              "      <td>0</td>\n",
              "      <td>0</td>\n",
              "      <td>...</td>\n",
              "      <td>0</td>\n",
              "      <td>0</td>\n",
              "      <td>0</td>\n",
              "      <td>0</td>\n",
              "      <td>0</td>\n",
              "      <td>0</td>\n",
              "      <td>0</td>\n",
              "      <td>0</td>\n",
              "      <td>0</td>\n",
              "      <td>0</td>\n",
              "      <td>0</td>\n",
              "      <td>0</td>\n",
              "      <td>1</td>\n",
              "      <td>0</td>\n",
              "      <td>0</td>\n",
              "      <td>0</td>\n",
              "      <td>0</td>\n",
              "      <td>0</td>\n",
              "      <td>0</td>\n",
              "      <td>0</td>\n",
              "      <td>0</td>\n",
              "      <td>0</td>\n",
              "      <td>0</td>\n",
              "      <td>0</td>\n",
              "      <td>0</td>\n",
              "      <td>0</td>\n",
              "      <td>0</td>\n",
              "      <td>0</td>\n",
              "      <td>0</td>\n",
              "      <td>0</td>\n",
              "      <td>0</td>\n",
              "      <td>0</td>\n",
              "      <td>0</td>\n",
              "      <td>0</td>\n",
              "      <td>0</td>\n",
              "      <td>0</td>\n",
              "      <td>0</td>\n",
              "      <td>0</td>\n",
              "      <td>0</td>\n",
              "      <td>0</td>\n",
              "    </tr>\n",
              "    <tr>\n",
              "      <th>1</th>\n",
              "      <td>0</td>\n",
              "      <td>0</td>\n",
              "      <td>0</td>\n",
              "      <td>0</td>\n",
              "      <td>0</td>\n",
              "      <td>0</td>\n",
              "      <td>0</td>\n",
              "      <td>0</td>\n",
              "      <td>0</td>\n",
              "      <td>0</td>\n",
              "      <td>0</td>\n",
              "      <td>0</td>\n",
              "      <td>0</td>\n",
              "      <td>0</td>\n",
              "      <td>0</td>\n",
              "      <td>0</td>\n",
              "      <td>0</td>\n",
              "      <td>0</td>\n",
              "      <td>0</td>\n",
              "      <td>0</td>\n",
              "      <td>0</td>\n",
              "      <td>0</td>\n",
              "      <td>0</td>\n",
              "      <td>0</td>\n",
              "      <td>0</td>\n",
              "      <td>0</td>\n",
              "      <td>0</td>\n",
              "      <td>0</td>\n",
              "      <td>0</td>\n",
              "      <td>0</td>\n",
              "      <td>0</td>\n",
              "      <td>0</td>\n",
              "      <td>0</td>\n",
              "      <td>0</td>\n",
              "      <td>0</td>\n",
              "      <td>0</td>\n",
              "      <td>0</td>\n",
              "      <td>0</td>\n",
              "      <td>0</td>\n",
              "      <td>0</td>\n",
              "      <td>...</td>\n",
              "      <td>0</td>\n",
              "      <td>0</td>\n",
              "      <td>0</td>\n",
              "      <td>0</td>\n",
              "      <td>0</td>\n",
              "      <td>0</td>\n",
              "      <td>0</td>\n",
              "      <td>0</td>\n",
              "      <td>0</td>\n",
              "      <td>0</td>\n",
              "      <td>0</td>\n",
              "      <td>0</td>\n",
              "      <td>0</td>\n",
              "      <td>0</td>\n",
              "      <td>0</td>\n",
              "      <td>0</td>\n",
              "      <td>0</td>\n",
              "      <td>0</td>\n",
              "      <td>0</td>\n",
              "      <td>0</td>\n",
              "      <td>0</td>\n",
              "      <td>0</td>\n",
              "      <td>0</td>\n",
              "      <td>0</td>\n",
              "      <td>0</td>\n",
              "      <td>0</td>\n",
              "      <td>0</td>\n",
              "      <td>0</td>\n",
              "      <td>0</td>\n",
              "      <td>0</td>\n",
              "      <td>0</td>\n",
              "      <td>0</td>\n",
              "      <td>0</td>\n",
              "      <td>0</td>\n",
              "      <td>0</td>\n",
              "      <td>0</td>\n",
              "      <td>0</td>\n",
              "      <td>0</td>\n",
              "      <td>0</td>\n",
              "      <td>0</td>\n",
              "    </tr>\n",
              "    <tr>\n",
              "      <th>2</th>\n",
              "      <td>0</td>\n",
              "      <td>0</td>\n",
              "      <td>0</td>\n",
              "      <td>0</td>\n",
              "      <td>0</td>\n",
              "      <td>0</td>\n",
              "      <td>0</td>\n",
              "      <td>0</td>\n",
              "      <td>0</td>\n",
              "      <td>0</td>\n",
              "      <td>0</td>\n",
              "      <td>0</td>\n",
              "      <td>0</td>\n",
              "      <td>0</td>\n",
              "      <td>0</td>\n",
              "      <td>0</td>\n",
              "      <td>0</td>\n",
              "      <td>0</td>\n",
              "      <td>0</td>\n",
              "      <td>0</td>\n",
              "      <td>0</td>\n",
              "      <td>0</td>\n",
              "      <td>0</td>\n",
              "      <td>0</td>\n",
              "      <td>0</td>\n",
              "      <td>0</td>\n",
              "      <td>0</td>\n",
              "      <td>0</td>\n",
              "      <td>0</td>\n",
              "      <td>0</td>\n",
              "      <td>0</td>\n",
              "      <td>0</td>\n",
              "      <td>0</td>\n",
              "      <td>0</td>\n",
              "      <td>0</td>\n",
              "      <td>0</td>\n",
              "      <td>0</td>\n",
              "      <td>0</td>\n",
              "      <td>0</td>\n",
              "      <td>0</td>\n",
              "      <td>...</td>\n",
              "      <td>0</td>\n",
              "      <td>0</td>\n",
              "      <td>0</td>\n",
              "      <td>0</td>\n",
              "      <td>0</td>\n",
              "      <td>0</td>\n",
              "      <td>0</td>\n",
              "      <td>0</td>\n",
              "      <td>0</td>\n",
              "      <td>0</td>\n",
              "      <td>0</td>\n",
              "      <td>0</td>\n",
              "      <td>0</td>\n",
              "      <td>0</td>\n",
              "      <td>0</td>\n",
              "      <td>0</td>\n",
              "      <td>0</td>\n",
              "      <td>0</td>\n",
              "      <td>0</td>\n",
              "      <td>0</td>\n",
              "      <td>0</td>\n",
              "      <td>0</td>\n",
              "      <td>0</td>\n",
              "      <td>0</td>\n",
              "      <td>0</td>\n",
              "      <td>0</td>\n",
              "      <td>0</td>\n",
              "      <td>0</td>\n",
              "      <td>0</td>\n",
              "      <td>0</td>\n",
              "      <td>0</td>\n",
              "      <td>0</td>\n",
              "      <td>0</td>\n",
              "      <td>0</td>\n",
              "      <td>0</td>\n",
              "      <td>0</td>\n",
              "      <td>0</td>\n",
              "      <td>0</td>\n",
              "      <td>0</td>\n",
              "      <td>0</td>\n",
              "    </tr>\n",
              "    <tr>\n",
              "      <th>3</th>\n",
              "      <td>0</td>\n",
              "      <td>0</td>\n",
              "      <td>0</td>\n",
              "      <td>0</td>\n",
              "      <td>0</td>\n",
              "      <td>0</td>\n",
              "      <td>0</td>\n",
              "      <td>0</td>\n",
              "      <td>0</td>\n",
              "      <td>0</td>\n",
              "      <td>0</td>\n",
              "      <td>0</td>\n",
              "      <td>0</td>\n",
              "      <td>0</td>\n",
              "      <td>0</td>\n",
              "      <td>0</td>\n",
              "      <td>0</td>\n",
              "      <td>0</td>\n",
              "      <td>0</td>\n",
              "      <td>0</td>\n",
              "      <td>0</td>\n",
              "      <td>0</td>\n",
              "      <td>0</td>\n",
              "      <td>0</td>\n",
              "      <td>0</td>\n",
              "      <td>0</td>\n",
              "      <td>0</td>\n",
              "      <td>0</td>\n",
              "      <td>0</td>\n",
              "      <td>0</td>\n",
              "      <td>0</td>\n",
              "      <td>0</td>\n",
              "      <td>0</td>\n",
              "      <td>0</td>\n",
              "      <td>0</td>\n",
              "      <td>0</td>\n",
              "      <td>0</td>\n",
              "      <td>0</td>\n",
              "      <td>0</td>\n",
              "      <td>0</td>\n",
              "      <td>...</td>\n",
              "      <td>0</td>\n",
              "      <td>0</td>\n",
              "      <td>0</td>\n",
              "      <td>0</td>\n",
              "      <td>0</td>\n",
              "      <td>0</td>\n",
              "      <td>0</td>\n",
              "      <td>0</td>\n",
              "      <td>0</td>\n",
              "      <td>0</td>\n",
              "      <td>0</td>\n",
              "      <td>0</td>\n",
              "      <td>0</td>\n",
              "      <td>0</td>\n",
              "      <td>0</td>\n",
              "      <td>0</td>\n",
              "      <td>0</td>\n",
              "      <td>0</td>\n",
              "      <td>0</td>\n",
              "      <td>0</td>\n",
              "      <td>0</td>\n",
              "      <td>0</td>\n",
              "      <td>0</td>\n",
              "      <td>0</td>\n",
              "      <td>0</td>\n",
              "      <td>0</td>\n",
              "      <td>0</td>\n",
              "      <td>0</td>\n",
              "      <td>0</td>\n",
              "      <td>0</td>\n",
              "      <td>0</td>\n",
              "      <td>0</td>\n",
              "      <td>0</td>\n",
              "      <td>0</td>\n",
              "      <td>0</td>\n",
              "      <td>0</td>\n",
              "      <td>0</td>\n",
              "      <td>0</td>\n",
              "      <td>0</td>\n",
              "      <td>0</td>\n",
              "    </tr>\n",
              "    <tr>\n",
              "      <th>4</th>\n",
              "      <td>0</td>\n",
              "      <td>0</td>\n",
              "      <td>0</td>\n",
              "      <td>0</td>\n",
              "      <td>0</td>\n",
              "      <td>0</td>\n",
              "      <td>0</td>\n",
              "      <td>0</td>\n",
              "      <td>0</td>\n",
              "      <td>0</td>\n",
              "      <td>0</td>\n",
              "      <td>0</td>\n",
              "      <td>0</td>\n",
              "      <td>0</td>\n",
              "      <td>0</td>\n",
              "      <td>0</td>\n",
              "      <td>0</td>\n",
              "      <td>0</td>\n",
              "      <td>0</td>\n",
              "      <td>0</td>\n",
              "      <td>0</td>\n",
              "      <td>0</td>\n",
              "      <td>0</td>\n",
              "      <td>0</td>\n",
              "      <td>0</td>\n",
              "      <td>0</td>\n",
              "      <td>0</td>\n",
              "      <td>0</td>\n",
              "      <td>0</td>\n",
              "      <td>0</td>\n",
              "      <td>0</td>\n",
              "      <td>0</td>\n",
              "      <td>0</td>\n",
              "      <td>0</td>\n",
              "      <td>0</td>\n",
              "      <td>0</td>\n",
              "      <td>0</td>\n",
              "      <td>0</td>\n",
              "      <td>0</td>\n",
              "      <td>0</td>\n",
              "      <td>...</td>\n",
              "      <td>0</td>\n",
              "      <td>0</td>\n",
              "      <td>0</td>\n",
              "      <td>0</td>\n",
              "      <td>0</td>\n",
              "      <td>0</td>\n",
              "      <td>0</td>\n",
              "      <td>0</td>\n",
              "      <td>0</td>\n",
              "      <td>0</td>\n",
              "      <td>0</td>\n",
              "      <td>0</td>\n",
              "      <td>0</td>\n",
              "      <td>0</td>\n",
              "      <td>0</td>\n",
              "      <td>0</td>\n",
              "      <td>0</td>\n",
              "      <td>0</td>\n",
              "      <td>0</td>\n",
              "      <td>0</td>\n",
              "      <td>0</td>\n",
              "      <td>0</td>\n",
              "      <td>0</td>\n",
              "      <td>0</td>\n",
              "      <td>0</td>\n",
              "      <td>0</td>\n",
              "      <td>0</td>\n",
              "      <td>0</td>\n",
              "      <td>0</td>\n",
              "      <td>0</td>\n",
              "      <td>0</td>\n",
              "      <td>0</td>\n",
              "      <td>0</td>\n",
              "      <td>0</td>\n",
              "      <td>0</td>\n",
              "      <td>0</td>\n",
              "      <td>0</td>\n",
              "      <td>0</td>\n",
              "      <td>0</td>\n",
              "      <td>0</td>\n",
              "    </tr>\n",
              "  </tbody>\n",
              "</table>\n",
              "<p>5 rows × 3494 columns</p>\n",
              "</div>"
            ],
            "text/plain": [
              "   abhor  ability  able  abound  absolute  ...  yukon  yum  yummy  zero  zombiez\n",
              "0      0        0     0       0         0  ...      0    0      0     0        0\n",
              "1      0        0     0       0         0  ...      0    0      0     0        0\n",
              "2      0        0     0       0         0  ...      0    0      0     0        0\n",
              "3      0        0     0       0         0  ...      0    0      0     0        0\n",
              "4      0        0     0       0         0  ...      0    0      0     0        0\n",
              "\n",
              "[5 rows x 3494 columns]"
            ]
          },
          "metadata": {},
          "execution_count": 126
        }
      ]
    },
    {
      "cell_type": "code",
      "metadata": {
        "colab": {
          "base_uri": "https://localhost:8080/",
          "height": 0
        },
        "id": "rbC8sUsygXf8",
        "outputId": "6cfcfec9-428a-4d27-d40f-9911f81c60d7"
      },
      "source": [
        "X_bow_df.isna().sum().sum()"
      ],
      "execution_count": 127,
      "outputs": [
        {
          "output_type": "execute_result",
          "data": {
            "text/plain": [
              "0"
            ]
          },
          "metadata": {},
          "execution_count": 127
        }
      ]
    },
    {
      "cell_type": "markdown",
      "metadata": {
        "id": "nQ3uT0nCSgIX"
      },
      "source": [
        "## Train Test Split for Model"
      ]
    },
    {
      "cell_type": "code",
      "metadata": {
        "colab": {
          "base_uri": "https://localhost:8080/",
          "height": 0
        },
        "id": "ULpkOc8mSIcP",
        "outputId": "747b9a58-2262-4b6f-b4a4-391bb623c528"
      },
      "source": [
        "# split the training set for training and validation\n",
        "X = X_bow_df\n",
        "X_train, X_test, y_train, y_test = train_test_split(X, y, test_size=0.25, \n",
        "                                                    random_state=666)\n",
        "\n",
        "print('Training Data :', X_train.shape)\n",
        "print('Testing Data : ', X_test.shape)"
      ],
      "execution_count": 128,
      "outputs": [
        {
          "output_type": "stream",
          "name": "stdout",
          "text": [
            "Training Data : (1786, 3494)\n",
            "Testing Data :  (596, 3494)\n"
          ]
        }
      ]
    },
    {
      "cell_type": "code",
      "metadata": {
        "colab": {
          "base_uri": "https://localhost:8080/",
          "height": 253
        },
        "id": "BWg89TLwSIgO",
        "outputId": "c5c70974-3b50-41e5-bac0-3a3dbe6ececa"
      },
      "source": [
        "X_train.head()"
      ],
      "execution_count": 129,
      "outputs": [
        {
          "output_type": "execute_result",
          "data": {
            "text/html": [
              "<div>\n",
              "<style scoped>\n",
              "    .dataframe tbody tr th:only-of-type {\n",
              "        vertical-align: middle;\n",
              "    }\n",
              "\n",
              "    .dataframe tbody tr th {\n",
              "        vertical-align: top;\n",
              "    }\n",
              "\n",
              "    .dataframe thead th {\n",
              "        text-align: right;\n",
              "    }\n",
              "</style>\n",
              "<table border=\"1\" class=\"dataframe\">\n",
              "  <thead>\n",
              "    <tr style=\"text-align: right;\">\n",
              "      <th></th>\n",
              "      <th>abhor</th>\n",
              "      <th>ability</th>\n",
              "      <th>able</th>\n",
              "      <th>abound</th>\n",
              "      <th>absolute</th>\n",
              "      <th>absolutel</th>\n",
              "      <th>absolutely</th>\n",
              "      <th>absolutley</th>\n",
              "      <th>abstruse</th>\n",
              "      <th>ac</th>\n",
              "      <th>accept</th>\n",
              "      <th>acceptable</th>\n",
              "      <th>access</th>\n",
              "      <th>accessable</th>\n",
              "      <th>accessing</th>\n",
              "      <th>accessory</th>\n",
              "      <th>accessoryone</th>\n",
              "      <th>accident</th>\n",
              "      <th>accidentally</th>\n",
              "      <th>accommodation</th>\n",
              "      <th>accomodate</th>\n",
              "      <th>accompanied</th>\n",
              "      <th>according</th>\n",
              "      <th>accountant</th>\n",
              "      <th>accurately</th>\n",
              "      <th>accused</th>\n",
              "      <th>ache</th>\n",
              "      <th>acknowledged</th>\n",
              "      <th>across</th>\n",
              "      <th>acted</th>\n",
              "      <th>acting</th>\n",
              "      <th>action</th>\n",
              "      <th>activate</th>\n",
              "      <th>activated</th>\n",
              "      <th>activesync</th>\n",
              "      <th>actor</th>\n",
              "      <th>actress</th>\n",
              "      <th>actual</th>\n",
              "      <th>actually</th>\n",
              "      <th>ad</th>\n",
              "      <th>...</th>\n",
              "      <th>worker</th>\n",
              "      <th>working</th>\n",
              "      <th>world</th>\n",
              "      <th>worn</th>\n",
              "      <th>worry</th>\n",
              "      <th>worse</th>\n",
              "      <th>worst</th>\n",
              "      <th>worth</th>\n",
              "      <th>worthless</th>\n",
              "      <th>worthwhile</th>\n",
              "      <th>would</th>\n",
              "      <th>wound</th>\n",
              "      <th>wow</th>\n",
              "      <th>wrap</th>\n",
              "      <th>wrapped</th>\n",
              "      <th>writer</th>\n",
              "      <th>writing</th>\n",
              "      <th>written</th>\n",
              "      <th>wrong</th>\n",
              "      <th>wrongly</th>\n",
              "      <th>ya</th>\n",
              "      <th>yama</th>\n",
              "      <th>yawn</th>\n",
              "      <th>yay</th>\n",
              "      <th>yeah</th>\n",
              "      <th>year</th>\n",
              "      <th>yell</th>\n",
              "      <th>yellow</th>\n",
              "      <th>yellowtail</th>\n",
              "      <th>yelpers</th>\n",
              "      <th>yes</th>\n",
              "      <th>yet</th>\n",
              "      <th>young</th>\n",
              "      <th>youthful</th>\n",
              "      <th>yucky</th>\n",
              "      <th>yukon</th>\n",
              "      <th>yum</th>\n",
              "      <th>yummy</th>\n",
              "      <th>zero</th>\n",
              "      <th>zombiez</th>\n",
              "    </tr>\n",
              "  </thead>\n",
              "  <tbody>\n",
              "    <tr>\n",
              "      <th>971</th>\n",
              "      <td>0</td>\n",
              "      <td>0</td>\n",
              "      <td>0</td>\n",
              "      <td>0</td>\n",
              "      <td>0</td>\n",
              "      <td>0</td>\n",
              "      <td>0</td>\n",
              "      <td>0</td>\n",
              "      <td>0</td>\n",
              "      <td>0</td>\n",
              "      <td>0</td>\n",
              "      <td>0</td>\n",
              "      <td>0</td>\n",
              "      <td>0</td>\n",
              "      <td>0</td>\n",
              "      <td>0</td>\n",
              "      <td>0</td>\n",
              "      <td>0</td>\n",
              "      <td>0</td>\n",
              "      <td>0</td>\n",
              "      <td>0</td>\n",
              "      <td>0</td>\n",
              "      <td>0</td>\n",
              "      <td>0</td>\n",
              "      <td>0</td>\n",
              "      <td>0</td>\n",
              "      <td>0</td>\n",
              "      <td>0</td>\n",
              "      <td>0</td>\n",
              "      <td>0</td>\n",
              "      <td>0</td>\n",
              "      <td>0</td>\n",
              "      <td>0</td>\n",
              "      <td>0</td>\n",
              "      <td>0</td>\n",
              "      <td>0</td>\n",
              "      <td>0</td>\n",
              "      <td>0</td>\n",
              "      <td>0</td>\n",
              "      <td>0</td>\n",
              "      <td>...</td>\n",
              "      <td>0</td>\n",
              "      <td>0</td>\n",
              "      <td>0</td>\n",
              "      <td>0</td>\n",
              "      <td>0</td>\n",
              "      <td>0</td>\n",
              "      <td>0</td>\n",
              "      <td>0</td>\n",
              "      <td>0</td>\n",
              "      <td>0</td>\n",
              "      <td>0</td>\n",
              "      <td>0</td>\n",
              "      <td>0</td>\n",
              "      <td>0</td>\n",
              "      <td>0</td>\n",
              "      <td>0</td>\n",
              "      <td>0</td>\n",
              "      <td>0</td>\n",
              "      <td>0</td>\n",
              "      <td>0</td>\n",
              "      <td>0</td>\n",
              "      <td>0</td>\n",
              "      <td>0</td>\n",
              "      <td>0</td>\n",
              "      <td>0</td>\n",
              "      <td>0</td>\n",
              "      <td>0</td>\n",
              "      <td>0</td>\n",
              "      <td>0</td>\n",
              "      <td>0</td>\n",
              "      <td>0</td>\n",
              "      <td>0</td>\n",
              "      <td>0</td>\n",
              "      <td>0</td>\n",
              "      <td>0</td>\n",
              "      <td>0</td>\n",
              "      <td>0</td>\n",
              "      <td>0</td>\n",
              "      <td>0</td>\n",
              "      <td>0</td>\n",
              "    </tr>\n",
              "    <tr>\n",
              "      <th>1672</th>\n",
              "      <td>0</td>\n",
              "      <td>0</td>\n",
              "      <td>0</td>\n",
              "      <td>0</td>\n",
              "      <td>0</td>\n",
              "      <td>0</td>\n",
              "      <td>0</td>\n",
              "      <td>0</td>\n",
              "      <td>0</td>\n",
              "      <td>0</td>\n",
              "      <td>0</td>\n",
              "      <td>0</td>\n",
              "      <td>0</td>\n",
              "      <td>0</td>\n",
              "      <td>0</td>\n",
              "      <td>0</td>\n",
              "      <td>0</td>\n",
              "      <td>0</td>\n",
              "      <td>0</td>\n",
              "      <td>0</td>\n",
              "      <td>0</td>\n",
              "      <td>0</td>\n",
              "      <td>0</td>\n",
              "      <td>0</td>\n",
              "      <td>0</td>\n",
              "      <td>0</td>\n",
              "      <td>0</td>\n",
              "      <td>0</td>\n",
              "      <td>0</td>\n",
              "      <td>0</td>\n",
              "      <td>0</td>\n",
              "      <td>0</td>\n",
              "      <td>0</td>\n",
              "      <td>0</td>\n",
              "      <td>0</td>\n",
              "      <td>0</td>\n",
              "      <td>0</td>\n",
              "      <td>0</td>\n",
              "      <td>0</td>\n",
              "      <td>0</td>\n",
              "      <td>...</td>\n",
              "      <td>0</td>\n",
              "      <td>0</td>\n",
              "      <td>0</td>\n",
              "      <td>0</td>\n",
              "      <td>0</td>\n",
              "      <td>0</td>\n",
              "      <td>0</td>\n",
              "      <td>0</td>\n",
              "      <td>0</td>\n",
              "      <td>0</td>\n",
              "      <td>0</td>\n",
              "      <td>0</td>\n",
              "      <td>0</td>\n",
              "      <td>0</td>\n",
              "      <td>0</td>\n",
              "      <td>0</td>\n",
              "      <td>0</td>\n",
              "      <td>0</td>\n",
              "      <td>0</td>\n",
              "      <td>0</td>\n",
              "      <td>0</td>\n",
              "      <td>0</td>\n",
              "      <td>0</td>\n",
              "      <td>0</td>\n",
              "      <td>0</td>\n",
              "      <td>0</td>\n",
              "      <td>0</td>\n",
              "      <td>0</td>\n",
              "      <td>0</td>\n",
              "      <td>0</td>\n",
              "      <td>0</td>\n",
              "      <td>0</td>\n",
              "      <td>0</td>\n",
              "      <td>0</td>\n",
              "      <td>0</td>\n",
              "      <td>0</td>\n",
              "      <td>0</td>\n",
              "      <td>0</td>\n",
              "      <td>0</td>\n",
              "      <td>0</td>\n",
              "    </tr>\n",
              "    <tr>\n",
              "      <th>520</th>\n",
              "      <td>0</td>\n",
              "      <td>0</td>\n",
              "      <td>0</td>\n",
              "      <td>0</td>\n",
              "      <td>0</td>\n",
              "      <td>0</td>\n",
              "      <td>0</td>\n",
              "      <td>0</td>\n",
              "      <td>0</td>\n",
              "      <td>0</td>\n",
              "      <td>0</td>\n",
              "      <td>0</td>\n",
              "      <td>0</td>\n",
              "      <td>0</td>\n",
              "      <td>0</td>\n",
              "      <td>0</td>\n",
              "      <td>0</td>\n",
              "      <td>0</td>\n",
              "      <td>0</td>\n",
              "      <td>0</td>\n",
              "      <td>0</td>\n",
              "      <td>0</td>\n",
              "      <td>0</td>\n",
              "      <td>0</td>\n",
              "      <td>0</td>\n",
              "      <td>0</td>\n",
              "      <td>0</td>\n",
              "      <td>0</td>\n",
              "      <td>0</td>\n",
              "      <td>0</td>\n",
              "      <td>0</td>\n",
              "      <td>0</td>\n",
              "      <td>0</td>\n",
              "      <td>0</td>\n",
              "      <td>0</td>\n",
              "      <td>0</td>\n",
              "      <td>0</td>\n",
              "      <td>0</td>\n",
              "      <td>0</td>\n",
              "      <td>0</td>\n",
              "      <td>...</td>\n",
              "      <td>0</td>\n",
              "      <td>0</td>\n",
              "      <td>0</td>\n",
              "      <td>0</td>\n",
              "      <td>0</td>\n",
              "      <td>0</td>\n",
              "      <td>0</td>\n",
              "      <td>0</td>\n",
              "      <td>0</td>\n",
              "      <td>0</td>\n",
              "      <td>0</td>\n",
              "      <td>0</td>\n",
              "      <td>0</td>\n",
              "      <td>0</td>\n",
              "      <td>0</td>\n",
              "      <td>0</td>\n",
              "      <td>0</td>\n",
              "      <td>0</td>\n",
              "      <td>0</td>\n",
              "      <td>0</td>\n",
              "      <td>0</td>\n",
              "      <td>0</td>\n",
              "      <td>0</td>\n",
              "      <td>0</td>\n",
              "      <td>0</td>\n",
              "      <td>0</td>\n",
              "      <td>0</td>\n",
              "      <td>0</td>\n",
              "      <td>0</td>\n",
              "      <td>0</td>\n",
              "      <td>0</td>\n",
              "      <td>0</td>\n",
              "      <td>0</td>\n",
              "      <td>0</td>\n",
              "      <td>0</td>\n",
              "      <td>0</td>\n",
              "      <td>0</td>\n",
              "      <td>0</td>\n",
              "      <td>0</td>\n",
              "      <td>0</td>\n",
              "    </tr>\n",
              "    <tr>\n",
              "      <th>980</th>\n",
              "      <td>0</td>\n",
              "      <td>0</td>\n",
              "      <td>0</td>\n",
              "      <td>0</td>\n",
              "      <td>0</td>\n",
              "      <td>0</td>\n",
              "      <td>0</td>\n",
              "      <td>0</td>\n",
              "      <td>0</td>\n",
              "      <td>0</td>\n",
              "      <td>0</td>\n",
              "      <td>0</td>\n",
              "      <td>0</td>\n",
              "      <td>0</td>\n",
              "      <td>0</td>\n",
              "      <td>0</td>\n",
              "      <td>0</td>\n",
              "      <td>0</td>\n",
              "      <td>0</td>\n",
              "      <td>0</td>\n",
              "      <td>0</td>\n",
              "      <td>0</td>\n",
              "      <td>0</td>\n",
              "      <td>0</td>\n",
              "      <td>0</td>\n",
              "      <td>0</td>\n",
              "      <td>0</td>\n",
              "      <td>0</td>\n",
              "      <td>0</td>\n",
              "      <td>0</td>\n",
              "      <td>0</td>\n",
              "      <td>0</td>\n",
              "      <td>0</td>\n",
              "      <td>0</td>\n",
              "      <td>0</td>\n",
              "      <td>0</td>\n",
              "      <td>0</td>\n",
              "      <td>0</td>\n",
              "      <td>0</td>\n",
              "      <td>0</td>\n",
              "      <td>...</td>\n",
              "      <td>0</td>\n",
              "      <td>0</td>\n",
              "      <td>0</td>\n",
              "      <td>0</td>\n",
              "      <td>0</td>\n",
              "      <td>0</td>\n",
              "      <td>0</td>\n",
              "      <td>0</td>\n",
              "      <td>0</td>\n",
              "      <td>0</td>\n",
              "      <td>0</td>\n",
              "      <td>0</td>\n",
              "      <td>0</td>\n",
              "      <td>0</td>\n",
              "      <td>0</td>\n",
              "      <td>0</td>\n",
              "      <td>0</td>\n",
              "      <td>0</td>\n",
              "      <td>0</td>\n",
              "      <td>0</td>\n",
              "      <td>0</td>\n",
              "      <td>0</td>\n",
              "      <td>0</td>\n",
              "      <td>0</td>\n",
              "      <td>0</td>\n",
              "      <td>0</td>\n",
              "      <td>0</td>\n",
              "      <td>0</td>\n",
              "      <td>0</td>\n",
              "      <td>0</td>\n",
              "      <td>0</td>\n",
              "      <td>0</td>\n",
              "      <td>0</td>\n",
              "      <td>0</td>\n",
              "      <td>0</td>\n",
              "      <td>0</td>\n",
              "      <td>0</td>\n",
              "      <td>0</td>\n",
              "      <td>0</td>\n",
              "      <td>0</td>\n",
              "    </tr>\n",
              "    <tr>\n",
              "      <th>1846</th>\n",
              "      <td>0</td>\n",
              "      <td>0</td>\n",
              "      <td>0</td>\n",
              "      <td>0</td>\n",
              "      <td>0</td>\n",
              "      <td>0</td>\n",
              "      <td>0</td>\n",
              "      <td>0</td>\n",
              "      <td>0</td>\n",
              "      <td>0</td>\n",
              "      <td>0</td>\n",
              "      <td>0</td>\n",
              "      <td>0</td>\n",
              "      <td>0</td>\n",
              "      <td>0</td>\n",
              "      <td>0</td>\n",
              "      <td>0</td>\n",
              "      <td>0</td>\n",
              "      <td>0</td>\n",
              "      <td>0</td>\n",
              "      <td>0</td>\n",
              "      <td>0</td>\n",
              "      <td>0</td>\n",
              "      <td>0</td>\n",
              "      <td>0</td>\n",
              "      <td>0</td>\n",
              "      <td>0</td>\n",
              "      <td>0</td>\n",
              "      <td>0</td>\n",
              "      <td>0</td>\n",
              "      <td>0</td>\n",
              "      <td>0</td>\n",
              "      <td>0</td>\n",
              "      <td>0</td>\n",
              "      <td>0</td>\n",
              "      <td>0</td>\n",
              "      <td>0</td>\n",
              "      <td>0</td>\n",
              "      <td>0</td>\n",
              "      <td>0</td>\n",
              "      <td>...</td>\n",
              "      <td>0</td>\n",
              "      <td>0</td>\n",
              "      <td>0</td>\n",
              "      <td>0</td>\n",
              "      <td>0</td>\n",
              "      <td>0</td>\n",
              "      <td>0</td>\n",
              "      <td>0</td>\n",
              "      <td>0</td>\n",
              "      <td>0</td>\n",
              "      <td>0</td>\n",
              "      <td>0</td>\n",
              "      <td>0</td>\n",
              "      <td>0</td>\n",
              "      <td>0</td>\n",
              "      <td>0</td>\n",
              "      <td>0</td>\n",
              "      <td>0</td>\n",
              "      <td>0</td>\n",
              "      <td>0</td>\n",
              "      <td>0</td>\n",
              "      <td>0</td>\n",
              "      <td>0</td>\n",
              "      <td>0</td>\n",
              "      <td>0</td>\n",
              "      <td>0</td>\n",
              "      <td>0</td>\n",
              "      <td>0</td>\n",
              "      <td>0</td>\n",
              "      <td>0</td>\n",
              "      <td>0</td>\n",
              "      <td>0</td>\n",
              "      <td>0</td>\n",
              "      <td>0</td>\n",
              "      <td>0</td>\n",
              "      <td>0</td>\n",
              "      <td>0</td>\n",
              "      <td>0</td>\n",
              "      <td>0</td>\n",
              "      <td>0</td>\n",
              "    </tr>\n",
              "  </tbody>\n",
              "</table>\n",
              "<p>5 rows × 3494 columns</p>\n",
              "</div>"
            ],
            "text/plain": [
              "      abhor  ability  able  abound  absolute  ...  yukon  yum  yummy  zero  zombiez\n",
              "971       0        0     0       0         0  ...      0    0      0     0        0\n",
              "1672      0        0     0       0         0  ...      0    0      0     0        0\n",
              "520       0        0     0       0         0  ...      0    0      0     0        0\n",
              "980       0        0     0       0         0  ...      0    0      0     0        0\n",
              "1846      0        0     0       0         0  ...      0    0      0     0        0\n",
              "\n",
              "[5 rows x 3494 columns]"
            ]
          },
          "metadata": {},
          "execution_count": 129
        }
      ]
    },
    {
      "cell_type": "markdown",
      "metadata": {
        "id": "lknzAnzDfe5X"
      },
      "source": [
        "## Logitics Regression"
      ]
    },
    {
      "cell_type": "code",
      "metadata": {
        "colab": {
          "base_uri": "https://localhost:8080/",
          "height": 0
        },
        "id": "ROS-O5NVSIjq",
        "outputId": "38f08fbc-27cb-4e03-cf5d-d592854de195"
      },
      "source": [
        "# Logistics regression as baseline model with class weights as balanced\n",
        "from sklearn.linear_model import LogisticRegression\n",
        "lr = LogisticRegression(class_weight=\"balanced\",random_state=666)\n",
        "lr.fit(X_train, y_train)"
      ],
      "execution_count": 130,
      "outputs": [
        {
          "output_type": "execute_result",
          "data": {
            "text/plain": [
              "LogisticRegression(C=1.0, class_weight='balanced', dual=False,\n",
              "                   fit_intercept=True, intercept_scaling=1, l1_ratio=None,\n",
              "                   max_iter=100, multi_class='auto', n_jobs=None, penalty='l2',\n",
              "                   random_state=666, solver='lbfgs', tol=0.0001, verbose=0,\n",
              "                   warm_start=False)"
            ]
          },
          "metadata": {},
          "execution_count": 130
        }
      ]
    },
    {
      "cell_type": "code",
      "metadata": {
        "id": "F3dfCxb-SInE"
      },
      "source": [
        "# Create a prediction set:\n",
        "predictions = lr.predict(X_test)"
      ],
      "execution_count": 131,
      "outputs": []
    },
    {
      "cell_type": "code",
      "metadata": {
        "colab": {
          "base_uri": "https://localhost:8080/",
          "height": 0
        },
        "id": "rxzw8nOVSIqV",
        "outputId": "73cfe666-dd3d-49fb-b490-e0269d87e06c"
      },
      "source": [
        "# classification report\n",
        "print(metrics.classification_report(y_test,predictions))\n",
        "# Accuracy is 77%"
      ],
      "execution_count": 132,
      "outputs": [
        {
          "output_type": "stream",
          "name": "stdout",
          "text": [
            "              precision    recall  f1-score   support\n",
            "\n",
            "           0       0.76      0.82      0.79       310\n",
            "           1       0.79      0.72      0.75       286\n",
            "\n",
            "    accuracy                           0.77       596\n",
            "   macro avg       0.77      0.77      0.77       596\n",
            "weighted avg       0.77      0.77      0.77       596\n",
            "\n"
          ]
        }
      ]
    },
    {
      "cell_type": "code",
      "metadata": {
        "colab": {
          "base_uri": "https://localhost:8080/",
          "height": 0
        },
        "id": "B_pHzhUffx5E",
        "outputId": "3f994300-dd2a-4eb8-f385-ca51e8d8b5b0"
      },
      "source": [
        "from sklearn import metrics\n",
        "# Check AUC\n",
        "print(metrics.roc_auc_score(y_test,lr.predict_proba(X_test)[:, 1]))\n",
        "\n",
        "# AUC 0.8425 is big improvement over the baseline model. "
      ],
      "execution_count": 133,
      "outputs": [
        {
          "output_type": "stream",
          "name": "stdout",
          "text": [
            "0.8424881570042859\n"
          ]
        }
      ]
    },
    {
      "cell_type": "code",
      "metadata": {
        "colab": {
          "base_uri": "https://localhost:8080/",
          "height": 0
        },
        "id": "SZe1I7TzfyFk",
        "outputId": "40848e4d-5524-47c6-8a86-3c76b3bab01c"
      },
      "source": [
        "# Check F1 Score\n",
        "print(metrics.f1_score(y_test,predictions))\n",
        "\n",
        "# F1 0.7541 is big improvement over the baseline model. "
      ],
      "execution_count": 134,
      "outputs": [
        {
          "output_type": "stream",
          "name": "stdout",
          "text": [
            "0.7540983606557377\n"
          ]
        }
      ]
    },
    {
      "cell_type": "code",
      "metadata": {
        "colab": {
          "base_uri": "https://localhost:8080/",
          "height": 290
        },
        "id": "J0HJxrD3fyP2",
        "outputId": "f54f0904-5c0b-4e5c-a105-51defe6d6752"
      },
      "source": [
        "from yellowbrick.classifier import ConfusionMatrix\n",
        "cm = ConfusionMatrix(lr, classes=[0,1])\n",
        "cm.fit(X_train, y_train)\n",
        "cm.score(X_test, y_test)\n",
        "cm.poof();"
      ],
      "execution_count": 135,
      "outputs": [
        {
          "output_type": "display_data",
          "data": {
            "image/png": "[encoded data removed]",
            "text/plain": [
              "<Figure size 432x288 with 1 Axes>"
            ]
          },
          "metadata": {
            "needs_background": "light"
          }
        }
      ]
    },
    {
      "cell_type": "markdown",
      "metadata": {
        "id": "TzNpNc4JNw77"
      },
      "source": [
        "## Cross Validation"
      ]
    },
    {
      "cell_type": "code",
      "metadata": {
        "colab": {
          "base_uri": "https://localhost:8080/",
          "height": 0
        },
        "id": "c0A-2Di3fyhd",
        "outputId": "0addfa4b-6c91-4aaa-905c-fe08211d4b07"
      },
      "source": [
        "from sklearn.model_selection import cross_val_score, cross_validate\n",
        "lr = LogisticRegression(class_weight=\"balanced\",random_state=666)\n",
        "\n",
        "scores = cross_validate(lr, X_train, y_train, cv=5, scoring=['f1','f1_weighted',\n",
        "                                                             'roc_auc','accuracy'])\n",
        "\n",
        "sorted(scores.keys())\n",
        "\n",
        "#print the mean for 5 fold cross validation\n",
        "print(\"the f1 mean for 5 fold cross validation is {}\".format(\n",
        "    scores[\"test_f1\"].mean()))\n",
        "print(\"the f1_weighted mean for 5 fold cross validation is {}\".format(\n",
        "    scores[\"test_f1_weighted\"].mean()))\n",
        "print(\"the ROC AUC mean for 5 fold cross validation is {}\".format(\n",
        "    scores[\"test_roc_auc\"].mean()))\n",
        "print(\"the Accuracy mean for 5 fold cross validation is {}\".format(\n",
        "    scores[\"test_accuracy\"].mean()))"
      ],
      "execution_count": 136,
      "outputs": [
        {
          "output_type": "stream",
          "name": "stdout",
          "text": [
            "the f1 mean for 5 fold cross validation is 0.7890302338882266\n",
            "the f1_weighted mean for 5 fold cross validation is 0.7979971665712041\n",
            "the ROC AUC mean for 5 fold cross validation is 0.8671912030353119\n",
            "the Accuracy mean for 5 fold cross validation is 0.7984273038824468\n"
          ]
        }
      ]
    },
    {
      "cell_type": "markdown",
      "metadata": {
        "id": "flUnQGDTN8Cy"
      },
      "source": [
        "## Hyper parameter Tunning"
      ]
    },
    {
      "cell_type": "code",
      "metadata": {
        "id": "n4sVecaXX6Ks"
      },
      "source": [
        "# Grid Search hyper-parameter tuning\n",
        "\n",
        "from sklearn.model_selection import GridSearchCV, RandomizedSearchCV\n",
        "\n",
        "lr = LogisticRegression(random_state=666)\n",
        "\n",
        "\n",
        "solvers = ['newton-cg', 'lbfgs', 'liblinear']\n",
        "penalty = ['l2']\n",
        "class_weight = ['balanced',None] \n",
        "c_values = [100, 10, 1.0, 0.1, 0.01]\n",
        "max_iter = [1000,500]\n",
        "\n",
        "grid = dict(solver=solvers,penalty=penalty,C=c_values,max_iter=max_iter,\n",
        "            class_weight=class_weight)\n",
        "\n",
        "# param_grid = dict(penalty=penalty,\n",
        "#                   c=C,\n",
        "#                   class_weight=class_weight,\n",
        "#                   solver=solver,\n",
        "#                   max_iter = max_iter)"
      ],
      "execution_count": 137,
      "outputs": []
    },
    {
      "cell_type": "code",
      "metadata": {
        "colab": {
          "base_uri": "https://localhost:8080/",
          "height": 0
        },
        "id": "WLpnSg6uYLYM",
        "outputId": "99da9179-81ae-4aef-dcaf-21219132a747"
      },
      "source": [
        "search = GridSearchCV(lr, param_grid=grid, n_jobs=-1, cv=5, scoring='f1_weighted',\n",
        "                      error_score=0, verbose=1)\n",
        "search = search.fit(X_train, y_train)"
      ],
      "execution_count": 138,
      "outputs": [
        {
          "output_type": "stream",
          "name": "stdout",
          "text": [
            "Fitting 5 folds for each of 60 candidates, totalling 300 fits\n"
          ]
        },
        {
          "output_type": "stream",
          "name": "stderr",
          "text": [
            "[Parallel(n_jobs=-1)]: Using backend LokyBackend with 2 concurrent workers.\n",
            "[Parallel(n_jobs=-1)]: Done  46 tasks      | elapsed:   37.4s\n",
            "[Parallel(n_jobs=-1)]: Done 196 tasks      | elapsed:  1.8min\n",
            "[Parallel(n_jobs=-1)]: Done 300 out of 300 | elapsed:  2.1min finished\n"
          ]
        }
      ]
    },
    {
      "cell_type": "code",
      "metadata": {
        "id": "GMYTc14uZAU_",
        "colab": {
          "base_uri": "https://localhost:8080/",
          "height": 0
        },
        "outputId": "fef44a47-4ad0-40e5-fda6-6a27eb15870d"
      },
      "source": [
        "print('Best Score: ', search.best_score_)\n",
        "print('Best Params: ', search.best_params_)\n",
        "\n",
        "# the F1 score increased from 0.7977 to 0.7986"
      ],
      "execution_count": 139,
      "outputs": [
        {
          "output_type": "stream",
          "name": "stdout",
          "text": [
            "Best Score:  0.7985772483936093\n",
            "Best Params:  {'C': 1.0, 'class_weight': 'balanced', 'max_iter': 1000, 'penalty': 'l2', 'solver': 'liblinear'}\n"
          ]
        }
      ]
    },
    {
      "cell_type": "code",
      "metadata": {
        "colab": {
          "base_uri": "https://localhost:8080/",
          "height": 0
        },
        "id": "_bucqS4OOk9n",
        "outputId": "8bd96a99-1014-4ec5-ad60-3c3b10da411b"
      },
      "source": [
        "search = GridSearchCV(lr, param_grid=grid, n_jobs=-1, cv=5, scoring='accuracy',\n",
        "                      error_score=0, verbose=1)\n",
        "search = search.fit(X_train, y_train)"
      ],
      "execution_count": 140,
      "outputs": [
        {
          "output_type": "stream",
          "name": "stderr",
          "text": [
            "[Parallel(n_jobs=-1)]: Using backend LokyBackend with 2 concurrent workers.\n"
          ]
        },
        {
          "output_type": "stream",
          "name": "stdout",
          "text": [
            "Fitting 5 folds for each of 60 candidates, totalling 300 fits\n"
          ]
        },
        {
          "output_type": "stream",
          "name": "stderr",
          "text": [
            "[Parallel(n_jobs=-1)]: Done  46 tasks      | elapsed:   37.3s\n",
            "[Parallel(n_jobs=-1)]: Done 196 tasks      | elapsed:  1.8min\n",
            "[Parallel(n_jobs=-1)]: Done 300 out of 300 | elapsed:  2.1min finished\n"
          ]
        }
      ]
    },
    {
      "cell_type": "code",
      "metadata": {
        "id": "ewX4DQm4OlRl",
        "colab": {
          "base_uri": "https://localhost:8080/",
          "height": 0
        },
        "outputId": "d2fb783a-1598-4925-8886-1e4f70c32276"
      },
      "source": [
        "print('Best Score: ', search.best_score_)\n",
        "print('Best Params: ', search.best_params_)\n",
        "\n",
        "# the accuracy and F1 score hyperparameter tunning best score configurations are the same.\n",
        "# the accuracy increased from 0.7985 to 0.7990"
      ],
      "execution_count": 141,
      "outputs": [
        {
          "output_type": "stream",
          "name": "stdout",
          "text": [
            "Best Score:  0.7989875279720826\n",
            "Best Params:  {'C': 1.0, 'class_weight': 'balanced', 'max_iter': 1000, 'penalty': 'l2', 'solver': 'liblinear'}\n"
          ]
        }
      ]
    },
    {
      "cell_type": "markdown",
      "metadata": {
        "id": "WS49UoJZrxfu"
      },
      "source": [
        "## Re-Train the model on whole dataset with Tuned Hyper Parameters"
      ]
    },
    {
      "cell_type": "code",
      "metadata": {
        "id": "JdgZvl_oZArA"
      },
      "source": [
        "lr = LogisticRegression(random_state=666,C = 1.0, class_weight= 'balanced', \n",
        "                        max_iter = 1000, penalty= 'l2', solver= 'liblinear')\n",
        "\n",
        "lr = lr.fit(X_train, y_train)"
      ],
      "execution_count": 142,
      "outputs": []
    },
    {
      "cell_type": "code",
      "metadata": {
        "id": "2vCXftB2soHb"
      },
      "source": [
        "# Create a prediction set:\n",
        "predictions = lr.predict(test_bow_df)\n",
        "prob = lr.predict_proba(test_bow_df)"
      ],
      "execution_count": 143,
      "outputs": []
    },
    {
      "cell_type": "code",
      "metadata": {
        "id": "OwrHehcMs9w7"
      },
      "source": [
        "y_df_test = df_test.Polarity"
      ],
      "execution_count": 144,
      "outputs": []
    },
    {
      "cell_type": "code",
      "metadata": {
        "id": "RGzcS1T-Vd2_",
        "colab": {
          "base_uri": "https://localhost:8080/",
          "height": 146
        },
        "outputId": "c4d5491b-2fd1-42ec-9138-297b42b4e2b2"
      },
      "source": [
        "print(lr.coef_, lr.intercept_)\n",
        "coef = pd.DataFrame(lr.coef_,columns=X_train.columns)\n",
        "\n",
        "coef = pd.concat([pd.DataFrame(lr.intercept_),coef],axis=1)\n",
        "coef.head()\n",
        "\n",
        "#0 is the intercept"
      ],
      "execution_count": 145,
      "outputs": [
        {
          "output_type": "stream",
          "name": "stdout",
          "text": [
            "[[-0.29825616 -0.10562497  0.24210394 ...  0.39622274 -0.84964676 -0.17790113]] [-0.36329847]\n"
          ]
        },
        {
          "output_type": "execute_result",
          "data": {
            "text/html": [
              "<div>\n",
              "<style scoped>\n",
              "    .dataframe tbody tr th:only-of-type {\n",
              "        vertical-align: middle;\n",
              "    }\n",
              "\n",
              "    .dataframe tbody tr th {\n",
              "        vertical-align: top;\n",
              "    }\n",
              "\n",
              "    .dataframe thead th {\n",
              "        text-align: right;\n",
              "    }\n",
              "</style>\n",
              "<table border=\"1\" class=\"dataframe\">\n",
              "  <thead>\n",
              "    <tr style=\"text-align: right;\">\n",
              "      <th></th>\n",
              "      <th>0</th>\n",
              "      <th>abhor</th>\n",
              "      <th>ability</th>\n",
              "      <th>able</th>\n",
              "      <th>abound</th>\n",
              "      <th>absolute</th>\n",
              "      <th>absolutel</th>\n",
              "      <th>absolutely</th>\n",
              "      <th>absolutley</th>\n",
              "      <th>abstruse</th>\n",
              "      <th>ac</th>\n",
              "      <th>accept</th>\n",
              "      <th>acceptable</th>\n",
              "      <th>access</th>\n",
              "      <th>accessable</th>\n",
              "      <th>accessing</th>\n",
              "      <th>accessory</th>\n",
              "      <th>accessoryone</th>\n",
              "      <th>accident</th>\n",
              "      <th>accidentally</th>\n",
              "      <th>accommodation</th>\n",
              "      <th>accomodate</th>\n",
              "      <th>accompanied</th>\n",
              "      <th>according</th>\n",
              "      <th>accountant</th>\n",
              "      <th>accurately</th>\n",
              "      <th>accused</th>\n",
              "      <th>ache</th>\n",
              "      <th>acknowledged</th>\n",
              "      <th>across</th>\n",
              "      <th>acted</th>\n",
              "      <th>acting</th>\n",
              "      <th>action</th>\n",
              "      <th>activate</th>\n",
              "      <th>activated</th>\n",
              "      <th>activesync</th>\n",
              "      <th>actor</th>\n",
              "      <th>actress</th>\n",
              "      <th>actual</th>\n",
              "      <th>actually</th>\n",
              "      <th>...</th>\n",
              "      <th>worker</th>\n",
              "      <th>working</th>\n",
              "      <th>world</th>\n",
              "      <th>worn</th>\n",
              "      <th>worry</th>\n",
              "      <th>worse</th>\n",
              "      <th>worst</th>\n",
              "      <th>worth</th>\n",
              "      <th>worthless</th>\n",
              "      <th>worthwhile</th>\n",
              "      <th>would</th>\n",
              "      <th>wound</th>\n",
              "      <th>wow</th>\n",
              "      <th>wrap</th>\n",
              "      <th>wrapped</th>\n",
              "      <th>writer</th>\n",
              "      <th>writing</th>\n",
              "      <th>written</th>\n",
              "      <th>wrong</th>\n",
              "      <th>wrongly</th>\n",
              "      <th>ya</th>\n",
              "      <th>yama</th>\n",
              "      <th>yawn</th>\n",
              "      <th>yay</th>\n",
              "      <th>yeah</th>\n",
              "      <th>year</th>\n",
              "      <th>yell</th>\n",
              "      <th>yellow</th>\n",
              "      <th>yellowtail</th>\n",
              "      <th>yelpers</th>\n",
              "      <th>yes</th>\n",
              "      <th>yet</th>\n",
              "      <th>young</th>\n",
              "      <th>youthful</th>\n",
              "      <th>yucky</th>\n",
              "      <th>yukon</th>\n",
              "      <th>yum</th>\n",
              "      <th>yummy</th>\n",
              "      <th>zero</th>\n",
              "      <th>zombiez</th>\n",
              "    </tr>\n",
              "  </thead>\n",
              "  <tbody>\n",
              "    <tr>\n",
              "      <th>0</th>\n",
              "      <td>-0.363298</td>\n",
              "      <td>-0.298256</td>\n",
              "      <td>-0.105625</td>\n",
              "      <td>0.242104</td>\n",
              "      <td>0.0</td>\n",
              "      <td>0.233648</td>\n",
              "      <td>-0.205755</td>\n",
              "      <td>0.308258</td>\n",
              "      <td>0.0</td>\n",
              "      <td>-0.165781</td>\n",
              "      <td>0.27357</td>\n",
              "      <td>-0.293514</td>\n",
              "      <td>-0.172575</td>\n",
              "      <td>-0.278849</td>\n",
              "      <td>0.261477</td>\n",
              "      <td>0.304098</td>\n",
              "      <td>0.0</td>\n",
              "      <td>0.0</td>\n",
              "      <td>0.41558</td>\n",
              "      <td>-0.26997</td>\n",
              "      <td>0.016221</td>\n",
              "      <td>0.0</td>\n",
              "      <td>0.345976</td>\n",
              "      <td>0.105749</td>\n",
              "      <td>-0.270689</td>\n",
              "      <td>-0.008087</td>\n",
              "      <td>-0.036305</td>\n",
              "      <td>-0.096925</td>\n",
              "      <td>-0.008567</td>\n",
              "      <td>0.208313</td>\n",
              "      <td>0.351082</td>\n",
              "      <td>-0.032157</td>\n",
              "      <td>-0.110237</td>\n",
              "      <td>-0.134985</td>\n",
              "      <td>-0.147775</td>\n",
              "      <td>0.102781</td>\n",
              "      <td>0.140847</td>\n",
              "      <td>0.125906</td>\n",
              "      <td>-0.031503</td>\n",
              "      <td>0.797482</td>\n",
              "      <td>...</td>\n",
              "      <td>-0.06467</td>\n",
              "      <td>0.044043</td>\n",
              "      <td>0.287987</td>\n",
              "      <td>0.09883</td>\n",
              "      <td>-0.408983</td>\n",
              "      <td>-0.197018</td>\n",
              "      <td>-1.848626</td>\n",
              "      <td>-0.061895</td>\n",
              "      <td>-0.453315</td>\n",
              "      <td>0.251499</td>\n",
              "      <td>-0.12188</td>\n",
              "      <td>0.0</td>\n",
              "      <td>0.481263</td>\n",
              "      <td>-0.056886</td>\n",
              "      <td>0.106391</td>\n",
              "      <td>0.125906</td>\n",
              "      <td>-0.140717</td>\n",
              "      <td>0.144417</td>\n",
              "      <td>-0.03413</td>\n",
              "      <td>0.0</td>\n",
              "      <td>-0.211529</td>\n",
              "      <td>-0.329395</td>\n",
              "      <td>0.0</td>\n",
              "      <td>-0.193282</td>\n",
              "      <td>-0.14207</td>\n",
              "      <td>0.1986</td>\n",
              "      <td>-0.278343</td>\n",
              "      <td>0.0</td>\n",
              "      <td>0.190068</td>\n",
              "      <td>0.0</td>\n",
              "      <td>0.0</td>\n",
              "      <td>0.207991</td>\n",
              "      <td>0.093534</td>\n",
              "      <td>-0.089876</td>\n",
              "      <td>0.0</td>\n",
              "      <td>0.0</td>\n",
              "      <td>-0.329181</td>\n",
              "      <td>0.396223</td>\n",
              "      <td>-0.849647</td>\n",
              "      <td>-0.177901</td>\n",
              "    </tr>\n",
              "  </tbody>\n",
              "</table>\n",
              "<p>1 rows × 3495 columns</p>\n",
              "</div>"
            ],
            "text/plain": [
              "          0     abhor   ability  ...     yummy      zero   zombiez\n",
              "0 -0.363298 -0.298256 -0.105625  ...  0.396223 -0.849647 -0.177901\n",
              "\n",
              "[1 rows x 3495 columns]"
            ]
          },
          "metadata": {},
          "execution_count": 145
        }
      ]
    },
    {
      "cell_type": "markdown",
      "metadata": {
        "id": "FHrdNytFd1M0"
      },
      "source": [
        "### Part 1.c. Assessing\n",
        "\n",
        "Use the testing data to measure the accuracy and F1-score of your model.  "
      ]
    },
    {
      "cell_type": "code",
      "metadata": {
        "id": "GiS4GXCSs94m",
        "colab": {
          "base_uri": "https://localhost:8080/",
          "height": 0
        },
        "outputId": "e1abdbd2-4dab-4962-cc5b-27848adfbf66"
      },
      "source": [
        "# classification report\n",
        "print(metrics.classification_report(y_df_test,predictions))\n",
        "\n",
        "# Accuracy is 75% which is lower than hyper parameter tunning. F1 score is 0.7353 \n",
        "# is lower than hyperparameter tunning model. There is a possibility of over \n",
        "# fitting or sometype of drift."
      ],
      "execution_count": 146,
      "outputs": [
        {
          "output_type": "stream",
          "name": "stdout",
          "text": [
            "              precision    recall  f1-score   support\n",
            "\n",
            "           0       0.70      0.85      0.77       287\n",
            "           1       0.83      0.66      0.74       313\n",
            "\n",
            "    accuracy                           0.75       600\n",
            "   macro avg       0.76      0.76      0.75       600\n",
            "weighted avg       0.77      0.75      0.75       600\n",
            "\n"
          ]
        }
      ]
    },
    {
      "cell_type": "code",
      "metadata": {
        "id": "dagJC29stOEK",
        "colab": {
          "base_uri": "https://localhost:8080/",
          "height": 0
        },
        "outputId": "c7dabe97-5e6e-4401-b80b-909d06f92618"
      },
      "source": [
        "from sklearn import metrics\n",
        "# Check AUC\n",
        "print(metrics.roc_auc_score(y_df_test,lr.predict_proba(test_bow_df)[:, 1]))"
      ],
      "execution_count": 147,
      "outputs": [
        {
          "output_type": "stream",
          "name": "stdout",
          "text": [
            "0.8443076443543989\n"
          ]
        }
      ]
    },
    {
      "cell_type": "code",
      "metadata": {
        "id": "u-n37Kzfs-AP",
        "colab": {
          "base_uri": "https://localhost:8080/",
          "height": 0
        },
        "outputId": "4828bb8e-9e35-4dab-d7f3-5a3b0397971e"
      },
      "source": [
        "# Check F1 Score\n",
        "print(metrics.f1_score(y_df_test,predictions))"
      ],
      "execution_count": 148,
      "outputs": [
        {
          "output_type": "stream",
          "name": "stdout",
          "text": [
            "0.7353463587921847\n"
          ]
        }
      ]
    },
    {
      "cell_type": "code",
      "metadata": {
        "id": "xFQgYh9rtgg4",
        "colab": {
          "base_uri": "https://localhost:8080/",
          "height": 290
        },
        "outputId": "ff0e8df6-d4c0-4ca2-96aa-5a4bb3d7d83f"
      },
      "source": [
        "from yellowbrick.classifier import ConfusionMatrix\n",
        "cm = ConfusionMatrix(lr, classes=[0,1])\n",
        "cm.fit(X_train, y_train)\n",
        "cm.score(test_bow_df, y_df_test)\n",
        "cm.poof();"
      ],
      "execution_count": 149,
      "outputs": [
        {
          "output_type": "display_data",
          "data": {
            "image/png": "[encoded data removed]",
            "text/plain": [
              "<Figure size 432x288 with 1 Axes>"
            ]
          },
          "metadata": {
            "needs_background": "light"
          }
        }
      ]
    },
    {
      "cell_type": "markdown",
      "metadata": {
        "id": "40hmco7wd1M1"
      },
      "source": [
        "### Part 2. Given the accuracy and F1-score of your model, are you satisfied with the results, from a business point of view? Explain."
      ]
    },
    {
      "cell_type": "code",
      "metadata": {
        "id": "Yaa02kpMijO6"
      },
      "source": [
        "# NLTK Sentiment Analyser\n",
        "from nltk.sentiment.vader import SentimentIntensityAnalyzer\n",
        "sent = SentimentIntensityAnalyzer()\n",
        "\n",
        "def check_sentiment(x):\n",
        "    if sent.polarity_scores(x)['compound']>0:\n",
        "      result = 1\n",
        "    else:\n",
        "      result=0\n",
        "    return result\n",
        "\n"
      ],
      "execution_count": 150,
      "outputs": []
    },
    {
      "cell_type": "code",
      "metadata": {
        "id": "6TEhhoWhtG5N"
      },
      "source": [
        "# Textblob Sentiment Analyser\n",
        "from textblob import TextBlob\n",
        "import textwrap\n",
        "\n",
        "def check_sentiment_tb(x):\n",
        "    if TextBlob(x).polarity > 0:\n",
        "      result = 1\n",
        "    else:\n",
        "      result=0\n",
        "    return result\n",
        "\n",
        "np.set_printoptions(linewidth=160)"
      ],
      "execution_count": 151,
      "outputs": []
    },
    {
      "cell_type": "code",
      "metadata": {
        "id": "oI04Lr5a9-O_"
      },
      "source": [
        "# Check pre-trained models on training data and measure metric performance\n",
        "df_train[\"NLTK_Pol\"]=df_train[\"Sentence\"].apply(lambda x: check_sentiment(x))\n",
        "df_train[\"TB_Pol\"]=df_train[\"Sentence\"].apply(lambda x: check_sentiment_tb(x))"
      ],
      "execution_count": 152,
      "outputs": []
    },
    {
      "cell_type": "code",
      "metadata": {
        "id": "vjvytSVB9-Tu",
        "colab": {
          "base_uri": "https://localhost:8080/",
          "height": 0
        },
        "outputId": "41c282f3-79e0-4026-e6c9-8219f44b7508"
      },
      "source": [
        " # classification report\n",
        "print(metrics.classification_report(df_train[\"Polarity\"],df_train[\"NLTK_Pol\"]))"
      ],
      "execution_count": 153,
      "outputs": [
        {
          "output_type": "stream",
          "name": "stdout",
          "text": [
            "              precision    recall  f1-score   support\n",
            "\n",
            "           0       0.81      0.82      0.82      1206\n",
            "           1       0.81      0.80      0.81      1176\n",
            "\n",
            "    accuracy                           0.81      2382\n",
            "   macro avg       0.81      0.81      0.81      2382\n",
            "weighted avg       0.81      0.81      0.81      2382\n",
            "\n"
          ]
        }
      ]
    },
    {
      "cell_type": "code",
      "metadata": {
        "id": "yglZlsW_9-Xj",
        "colab": {
          "base_uri": "https://localhost:8080/",
          "height": 0
        },
        "outputId": "07b52c5b-b181-4de7-e9d3-288ab1590b3f"
      },
      "source": [
        "# classification report\n",
        "print(metrics.classification_report(df_train[\"Polarity\"],df_train[\"TB_Pol\"]))"
      ],
      "execution_count": 154,
      "outputs": [
        {
          "output_type": "stream",
          "name": "stdout",
          "text": [
            "              precision    recall  f1-score   support\n",
            "\n",
            "           0       0.80      0.76      0.78      1206\n",
            "           1       0.76      0.81      0.78      1176\n",
            "\n",
            "    accuracy                           0.78      2382\n",
            "   macro avg       0.78      0.78      0.78      2382\n",
            "weighted avg       0.78      0.78      0.78      2382\n",
            "\n"
          ]
        }
      ]
    },
    {
      "cell_type": "code",
      "metadata": {
        "id": "Vu_JuOiU9-mL",
        "colab": {
          "base_uri": "https://localhost:8080/",
          "height": 0
        },
        "outputId": "ee95d293-d496-45ee-d612-77bd920f7fb9"
      },
      "source": [
        "# Check F1 Score\n",
        "print(metrics.f1_score(df_train[\"Polarity\"],df_train[\"NLTK_Pol\"]))"
      ],
      "execution_count": 155,
      "outputs": [
        {
          "output_type": "stream",
          "name": "stdout",
          "text": [
            "0.8083832335329341\n"
          ]
        }
      ]
    },
    {
      "cell_type": "code",
      "metadata": {
        "id": "IYqKFErl-D4Z",
        "colab": {
          "base_uri": "https://localhost:8080/",
          "height": 0
        },
        "outputId": "b44758ef-53a9-4332-b672-8c70e30ac14e"
      },
      "source": [
        "# Check F1 Score \n",
        "print(metrics.f1_score(df_train[\"Polarity\"],df_train[\"TB_Pol\"]))"
      ],
      "execution_count": 156,
      "outputs": [
        {
          "output_type": "stream",
          "name": "stdout",
          "text": [
            "0.7836160529582127\n"
          ]
        }
      ]
    },
    {
      "cell_type": "code",
      "metadata": {
        "id": "VNWYARF88Vre"
      },
      "source": [
        "# Check pre-trained models on test data and measure metric performance\n",
        "# Entire text \n",
        "df_test[\"NLTK_Pol\"]=df_test[\"Sentence\"].apply(lambda x: check_sentiment(x))\n",
        "df_test[\"TB_Pol\"]=df_test[\"Sentence\"].apply(lambda x: check_sentiment_tb(x))"
      ],
      "execution_count": 157,
      "outputs": []
    },
    {
      "cell_type": "code",
      "metadata": {
        "id": "hVLPFoZZA7aT",
        "colab": {
          "base_uri": "https://localhost:8080/",
          "height": 0
        },
        "outputId": "0f872d09-e0c4-4a0c-c208-2e0b132581b4"
      },
      "source": [
        "# classification report\n",
        "print(metrics.confusion_matrix(y_df_test,df_test[\"NLTK_Pol\"]))"
      ],
      "execution_count": 158,
      "outputs": [
        {
          "output_type": "stream",
          "name": "stdout",
          "text": [
            "[[237  50]\n",
            " [ 68 245]]\n"
          ]
        }
      ]
    },
    {
      "cell_type": "code",
      "metadata": {
        "id": "HlABCoD0A7QS",
        "colab": {
          "base_uri": "https://localhost:8080/",
          "height": 0
        },
        "outputId": "a0011fad-2707-4173-c281-1c34c7c9b872"
      },
      "source": [
        "# classification report\n",
        "print(metrics.confusion_matrix(y_df_test,df_test[\"TB_Pol\"]))"
      ],
      "execution_count": 159,
      "outputs": [
        {
          "output_type": "stream",
          "name": "stdout",
          "text": [
            "[[220  67]\n",
            " [ 75 238]]\n"
          ]
        }
      ]
    },
    {
      "cell_type": "code",
      "metadata": {
        "id": "bQ0olwxa8ZQs",
        "colab": {
          "base_uri": "https://localhost:8080/",
          "height": 0
        },
        "outputId": "b0ec1ef0-78a2-471b-a229-3417b830a344"
      },
      "source": [
        "# classification report\n",
        "print(metrics.classification_report(y_df_test,df_test[\"NLTK_Pol\"]))"
      ],
      "execution_count": 160,
      "outputs": [
        {
          "output_type": "stream",
          "name": "stdout",
          "text": [
            "              precision    recall  f1-score   support\n",
            "\n",
            "           0       0.78      0.83      0.80       287\n",
            "           1       0.83      0.78      0.81       313\n",
            "\n",
            "    accuracy                           0.80       600\n",
            "   macro avg       0.80      0.80      0.80       600\n",
            "weighted avg       0.80      0.80      0.80       600\n",
            "\n"
          ]
        }
      ]
    },
    {
      "cell_type": "code",
      "metadata": {
        "id": "DKCRwjyU8ZVx",
        "colab": {
          "base_uri": "https://localhost:8080/",
          "height": 0
        },
        "outputId": "27164646-5337-46bd-8124-21a1f6e4db6f"
      },
      "source": [
        "# classification report\n",
        "print(metrics.classification_report(y_df_test,df_test[\"TB_Pol\"]))"
      ],
      "execution_count": 161,
      "outputs": [
        {
          "output_type": "stream",
          "name": "stdout",
          "text": [
            "              precision    recall  f1-score   support\n",
            "\n",
            "           0       0.75      0.77      0.76       287\n",
            "           1       0.78      0.76      0.77       313\n",
            "\n",
            "    accuracy                           0.76       600\n",
            "   macro avg       0.76      0.76      0.76       600\n",
            "weighted avg       0.76      0.76      0.76       600\n",
            "\n"
          ]
        }
      ]
    },
    {
      "cell_type": "code",
      "metadata": {
        "id": "8S0s5iog8ZZg",
        "colab": {
          "base_uri": "https://localhost:8080/",
          "height": 0
        },
        "outputId": "61df2e0b-4d1e-4d6e-c888-d3682cacfeaa"
      },
      "source": [
        "# Check F1 Score\n",
        "print(metrics.f1_score(y_df_test,df_test[\"NLTK_Pol\"]))"
      ],
      "execution_count": 162,
      "outputs": [
        {
          "output_type": "stream",
          "name": "stdout",
          "text": [
            "0.805921052631579\n"
          ]
        }
      ]
    },
    {
      "cell_type": "code",
      "metadata": {
        "id": "3f21iBw38ZdI",
        "colab": {
          "base_uri": "https://localhost:8080/",
          "height": 0
        },
        "outputId": "87fb19e3-94e0-42e4-b614-e6952b068c0c"
      },
      "source": [
        "# Check F1 Score \n",
        "print(metrics.f1_score(y_df_test,df_test[\"TB_Pol\"]))"
      ],
      "execution_count": 163,
      "outputs": [
        {
          "output_type": "stream",
          "name": "stdout",
          "text": [
            "0.7702265372168284\n"
          ]
        }
      ]
    },
    {
      "cell_type": "code",
      "metadata": {
        "id": "5jIbgveM0LzK"
      },
      "source": [
        "# Check pre-trained models on test data and measure metric performance\n",
        "# Entire tex\n",
        "df_test[\"NLTK_Pol\"]=df_test[\"proc_text\"].apply(lambda x: check_sentiment(x))\n",
        "df_test[\"TB_Pol\"]=df_test[\"proc_text\"].apply(lambda x: check_sentiment_tb(x))"
      ],
      "execution_count": 164,
      "outputs": []
    },
    {
      "cell_type": "code",
      "metadata": {
        "id": "CJh70fVeBHsv",
        "colab": {
          "base_uri": "https://localhost:8080/",
          "height": 0
        },
        "outputId": "57b52821-f597-4939-9e92-112588cebf72"
      },
      "source": [
        "# classification report\n",
        "print(metrics.confusion_matrix(y_df_test,df_test[\"NLTK_Pol\"]))"
      ],
      "execution_count": 165,
      "outputs": [
        {
          "output_type": "stream",
          "name": "stdout",
          "text": [
            "[[225  62]\n",
            " [ 70 243]]\n"
          ]
        }
      ]
    },
    {
      "cell_type": "code",
      "metadata": {
        "id": "1RrfjUM2BIG7",
        "colab": {
          "base_uri": "https://localhost:8080/",
          "height": 0
        },
        "outputId": "feb52ea7-5a0f-4536-e7c9-aa7617c1e21a"
      },
      "source": [
        "# classification report\n",
        "print(metrics.confusion_matrix(y_df_test,df_test[\"TB_Pol\"]))"
      ],
      "execution_count": 166,
      "outputs": [
        {
          "output_type": "stream",
          "name": "stdout",
          "text": [
            "[[219  68]\n",
            " [ 81 232]]\n"
          ]
        }
      ]
    },
    {
      "cell_type": "code",
      "metadata": {
        "id": "MSN39SEv1xEZ",
        "colab": {
          "base_uri": "https://localhost:8080/",
          "height": 0
        },
        "outputId": "7647c34e-9577-450d-bbc8-c2c3b560f52f"
      },
      "source": [
        "# classification report\n",
        "print(metrics.classification_report(y_df_test,df_test[\"NLTK_Pol\"]))"
      ],
      "execution_count": 167,
      "outputs": [
        {
          "output_type": "stream",
          "name": "stdout",
          "text": [
            "              precision    recall  f1-score   support\n",
            "\n",
            "           0       0.76      0.78      0.77       287\n",
            "           1       0.80      0.78      0.79       313\n",
            "\n",
            "    accuracy                           0.78       600\n",
            "   macro avg       0.78      0.78      0.78       600\n",
            "weighted avg       0.78      0.78      0.78       600\n",
            "\n"
          ]
        }
      ]
    },
    {
      "cell_type": "code",
      "metadata": {
        "id": "OOHtfQOE1xlA",
        "colab": {
          "base_uri": "https://localhost:8080/",
          "height": 0
        },
        "outputId": "93cacc4b-db64-4848-9a9c-a0ae2dadf398"
      },
      "source": [
        "# classification report\n",
        "print(metrics.classification_report(y_df_test,df_test[\"TB_Pol\"]))"
      ],
      "execution_count": 168,
      "outputs": [
        {
          "output_type": "stream",
          "name": "stdout",
          "text": [
            "              precision    recall  f1-score   support\n",
            "\n",
            "           0       0.73      0.76      0.75       287\n",
            "           1       0.77      0.74      0.76       313\n",
            "\n",
            "    accuracy                           0.75       600\n",
            "   macro avg       0.75      0.75      0.75       600\n",
            "weighted avg       0.75      0.75      0.75       600\n",
            "\n"
          ]
        }
      ]
    },
    {
      "cell_type": "code",
      "metadata": {
        "id": "PemZ9Kb62TqH",
        "colab": {
          "base_uri": "https://localhost:8080/",
          "height": 0
        },
        "outputId": "ff176347-7375-41eb-80e1-d27f8a6d76f9"
      },
      "source": [
        "# Check F1 Score\n",
        "print(metrics.f1_score(y_df_test,df_test[\"NLTK_Pol\"]))"
      ],
      "execution_count": 169,
      "outputs": [
        {
          "output_type": "stream",
          "name": "stdout",
          "text": [
            "0.7864077669902914\n"
          ]
        }
      ]
    },
    {
      "cell_type": "code",
      "metadata": {
        "id": "4aJDcpCH2Us-",
        "colab": {
          "base_uri": "https://localhost:8080/",
          "height": 0
        },
        "outputId": "a9061017-5125-488a-b35e-1e56b39f932b"
      },
      "source": [
        "# Check F1 Score \n",
        "print(metrics.f1_score(y_df_test,df_test[\"TB_Pol\"]))"
      ],
      "execution_count": 170,
      "outputs": [
        {
          "output_type": "stream",
          "name": "stdout",
          "text": [
            "0.7569331158238173\n"
          ]
        }
      ]
    },
    {
      "cell_type": "markdown",
      "metadata": {
        "id": "izVASTQ6d1M1"
      },
      "source": [
        "The best way to evaluate a model is to define a customised payoff/ cost matrix and helps to understand how to value false positive and false negatives. \n",
        "\n",
        "- The accuracy of Logistic Regression model (df_test) is 0.75\n",
        "- The AUC of Logistic Regression model (df_test) is 0.844\n",
        "- The f1 score of Logistic Regression model (df_test) is 0.735\n",
        "\n",
        "\n",
        "- The accuracy of NLTK Sentiment Analysis model (df_test) is 0.78 increases to 0.80 with entire text versus processed text (very close to training set metrics)\n",
        "- The f1 score of NLTK Sentiment Analysis model (df_test) is 0.786 increases to 0.806 with entire text versus processed text (very close to training set metrics)\n",
        "\n",
        "\n",
        "- The accuracy of Textblob Sentiment Analysis model (df_test) is 0.75 increases to 0.76 with entire text versus processed text. (close to training set metrics)\n",
        "- The f1 score of Textblob Sentiment Analysis model (df_test) is 0.757 increases to 0.770 with entire text versus processed text.(close to training set metrics)\n",
        "\n",
        "Ideally unless I believe that my input data is significantly different from training data or pre-trained model training data i.e. specific to my industry or organisation I would rather use pre-trained models. The accuracy and f1 scores are slightly better and I can work off the shelf to deploy the solution faster wihtout really increasing the compute or storage needs. The pre-trained model does reduce the False Negatives from 106 (LR model) to 68 with NLTK and 75 with TextBlob.\n",
        "\n",
        "\n",
        "In the absense of cost payoff matrix I will assume the cost of False negatives are very high as we are trying to convert the detractors to promoters which require time, resource and moentary investment.\n",
        "\n",
        "Lets assume that we can not use the pre-trained models for building this analysis. I think my model has good accuracy (75%), great AUC score of 0.844, great precision for class positive (1) of 0.83 though we can improve the recall by balancing the trade off between recall and precision by adjusting the thresholds. As the custom metric is heavily focused on precision for class 0 before deployment I would like to optimize the model based on the custom metric.\n",
        "\n",
        "\n",
        "\n"
      ]
    },
    {
      "cell_type": "markdown",
      "metadata": {
        "id": "5HVFjHlfd1M1"
      },
      "source": [
        "### Part 3. Show five example instances in which your model’s predictions were incorrect. Describe why you think the model was wrong. Don’t just guess: dig deep to figure out the root cause."
      ]
    },
    {
      "cell_type": "code",
      "metadata": {
        "id": "9IAUXUQt1AAH"
      },
      "source": [
        "def check_sentiment(x):\n",
        "    return sent.polarity_scores(x)['compound']"
      ],
      "execution_count": 171,
      "outputs": []
    },
    {
      "cell_type": "code",
      "metadata": {
        "id": "sN737Ypg1Av8"
      },
      "source": [
        "def check_sentiment_tb(x):\n",
        "    return TextBlob(x).polarity"
      ],
      "execution_count": 172,
      "outputs": []
    },
    {
      "cell_type": "code",
      "metadata": {
        "id": "ad7SWEHwd1M2",
        "colab": {
          "base_uri": "https://localhost:8080/",
          "height": 204
        },
        "outputId": "81952170-af6f-4404-9687-73197b6e90bd"
      },
      "source": [
        "# Concaternate the test dataset with predictions and probabilities\n",
        "data = pd.concat([df_test,pd.DataFrame(predictions),pd.DataFrame(prob)],axis=1)\n",
        "data.head()"
      ],
      "execution_count": 173,
      "outputs": [
        {
          "output_type": "execute_result",
          "data": {
            "text/html": [
              "<div>\n",
              "<style scoped>\n",
              "    .dataframe tbody tr th:only-of-type {\n",
              "        vertical-align: middle;\n",
              "    }\n",
              "\n",
              "    .dataframe tbody tr th {\n",
              "        vertical-align: top;\n",
              "    }\n",
              "\n",
              "    .dataframe thead th {\n",
              "        text-align: right;\n",
              "    }\n",
              "</style>\n",
              "<table border=\"1\" class=\"dataframe\">\n",
              "  <thead>\n",
              "    <tr style=\"text-align: right;\">\n",
              "      <th></th>\n",
              "      <th>Sentence</th>\n",
              "      <th>Polarity</th>\n",
              "      <th>Senten_count</th>\n",
              "      <th>length</th>\n",
              "      <th>word_count</th>\n",
              "      <th>UNQ_word_count</th>\n",
              "      <th>proc_text</th>\n",
              "      <th>NLTK_Pol</th>\n",
              "      <th>TB_Pol</th>\n",
              "      <th>0</th>\n",
              "      <th>0</th>\n",
              "      <th>1</th>\n",
              "    </tr>\n",
              "  </thead>\n",
              "  <tbody>\n",
              "    <tr>\n",
              "      <th>0</th>\n",
              "      <td>A good commentary of today's love and undoubte...</td>\n",
              "      <td>1</td>\n",
              "      <td>-0.184054</td>\n",
              "      <td>0.310825</td>\n",
              "      <td>0.245822</td>\n",
              "      <td>0.245822</td>\n",
              "      <td>good commentary today love undoubtedly film wo...</td>\n",
              "      <td>1</td>\n",
              "      <td>1</td>\n",
              "      <td>1</td>\n",
              "      <td>0.014585</td>\n",
              "      <td>0.985415</td>\n",
              "    </tr>\n",
              "    <tr>\n",
              "      <th>1</th>\n",
              "      <td>For people who are first timers in film making...</td>\n",
              "      <td>1</td>\n",
              "      <td>5.296168</td>\n",
              "      <td>0.653339</td>\n",
              "      <td>0.664867</td>\n",
              "      <td>0.664867</td>\n",
              "      <td>people first timer film making think excellent...</td>\n",
              "      <td>1</td>\n",
              "      <td>1</td>\n",
              "      <td>1</td>\n",
              "      <td>0.123060</td>\n",
              "      <td>0.876940</td>\n",
              "    </tr>\n",
              "    <tr>\n",
              "      <th>2</th>\n",
              "      <td>It was very popular when I was in the cinema, ...</td>\n",
              "      <td>1</td>\n",
              "      <td>-0.184054</td>\n",
              "      <td>1.206632</td>\n",
              "      <td>1.363277</td>\n",
              "      <td>1.363277</td>\n",
              "      <td>wa popular wa cinema good house good reaction ...</td>\n",
              "      <td>1</td>\n",
              "      <td>1</td>\n",
              "      <td>1</td>\n",
              "      <td>0.020820</td>\n",
              "      <td>0.979180</td>\n",
              "    </tr>\n",
              "    <tr>\n",
              "      <th>3</th>\n",
              "      <td>It's a feel-good film and that's how I felt wh...</td>\n",
              "      <td>1</td>\n",
              "      <td>-0.184054</td>\n",
              "      <td>0.416214</td>\n",
              "      <td>1.083913</td>\n",
              "      <td>1.083913</td>\n",
              "      <td>feel good film felt came cinema</td>\n",
              "      <td>1</td>\n",
              "      <td>1</td>\n",
              "      <td>1</td>\n",
              "      <td>0.097856</td>\n",
              "      <td>0.902144</td>\n",
              "    </tr>\n",
              "    <tr>\n",
              "      <th>4</th>\n",
              "      <td>It has northern humour and positive about the ...</td>\n",
              "      <td>1</td>\n",
              "      <td>-0.184054</td>\n",
              "      <td>0.310825</td>\n",
              "      <td>-0.033542</td>\n",
              "      <td>-0.033542</td>\n",
              "      <td>ha northern humour positive community represents</td>\n",
              "      <td>1</td>\n",
              "      <td>1</td>\n",
              "      <td>1</td>\n",
              "      <td>0.488987</td>\n",
              "      <td>0.511013</td>\n",
              "    </tr>\n",
              "  </tbody>\n",
              "</table>\n",
              "</div>"
            ],
            "text/plain": [
              "                                            Sentence  ...         1\n",
              "0  A good commentary of today's love and undoubte...  ...  0.985415\n",
              "1  For people who are first timers in film making...  ...  0.876940\n",
              "2  It was very popular when I was in the cinema, ...  ...  0.979180\n",
              "3  It's a feel-good film and that's how I felt wh...  ...  0.902144\n",
              "4  It has northern humour and positive about the ...  ...  0.511013\n",
              "\n",
              "[5 rows x 12 columns]"
            ]
          },
          "metadata": {},
          "execution_count": 173
        }
      ]
    },
    {
      "cell_type": "code",
      "metadata": {
        "id": "BkISHSiH6aUY",
        "colab": {
          "base_uri": "https://localhost:8080/",
          "height": 204
        },
        "outputId": "eb4344d8-4a2c-4c3b-8cce-82fdb3ee6c49"
      },
      "source": [
        "# rename the columns\n",
        "data.columns = ['Sentence','Polarity','Senten_count','length','word_count','UNQ_word_count','proc_text',\"NLTK_Pol\",\"TB_Pol\",\"Prediction\",\"Prob_Class_0\",\"Prob_Class_1\"]\n",
        "data.head()"
      ],
      "execution_count": 174,
      "outputs": [
        {
          "output_type": "execute_result",
          "data": {
            "text/html": [
              "<div>\n",
              "<style scoped>\n",
              "    .dataframe tbody tr th:only-of-type {\n",
              "        vertical-align: middle;\n",
              "    }\n",
              "\n",
              "    .dataframe tbody tr th {\n",
              "        vertical-align: top;\n",
              "    }\n",
              "\n",
              "    .dataframe thead th {\n",
              "        text-align: right;\n",
              "    }\n",
              "</style>\n",
              "<table border=\"1\" class=\"dataframe\">\n",
              "  <thead>\n",
              "    <tr style=\"text-align: right;\">\n",
              "      <th></th>\n",
              "      <th>Sentence</th>\n",
              "      <th>Polarity</th>\n",
              "      <th>Senten_count</th>\n",
              "      <th>length</th>\n",
              "      <th>word_count</th>\n",
              "      <th>UNQ_word_count</th>\n",
              "      <th>proc_text</th>\n",
              "      <th>NLTK_Pol</th>\n",
              "      <th>TB_Pol</th>\n",
              "      <th>Prediction</th>\n",
              "      <th>Prob_Class_0</th>\n",
              "      <th>Prob_Class_1</th>\n",
              "    </tr>\n",
              "  </thead>\n",
              "  <tbody>\n",
              "    <tr>\n",
              "      <th>0</th>\n",
              "      <td>A good commentary of today's love and undoubte...</td>\n",
              "      <td>1</td>\n",
              "      <td>-0.184054</td>\n",
              "      <td>0.310825</td>\n",
              "      <td>0.245822</td>\n",
              "      <td>0.245822</td>\n",
              "      <td>good commentary today love undoubtedly film wo...</td>\n",
              "      <td>1</td>\n",
              "      <td>1</td>\n",
              "      <td>1</td>\n",
              "      <td>0.014585</td>\n",
              "      <td>0.985415</td>\n",
              "    </tr>\n",
              "    <tr>\n",
              "      <th>1</th>\n",
              "      <td>For people who are first timers in film making...</td>\n",
              "      <td>1</td>\n",
              "      <td>5.296168</td>\n",
              "      <td>0.653339</td>\n",
              "      <td>0.664867</td>\n",
              "      <td>0.664867</td>\n",
              "      <td>people first timer film making think excellent...</td>\n",
              "      <td>1</td>\n",
              "      <td>1</td>\n",
              "      <td>1</td>\n",
              "      <td>0.123060</td>\n",
              "      <td>0.876940</td>\n",
              "    </tr>\n",
              "    <tr>\n",
              "      <th>2</th>\n",
              "      <td>It was very popular when I was in the cinema, ...</td>\n",
              "      <td>1</td>\n",
              "      <td>-0.184054</td>\n",
              "      <td>1.206632</td>\n",
              "      <td>1.363277</td>\n",
              "      <td>1.363277</td>\n",
              "      <td>wa popular wa cinema good house good reaction ...</td>\n",
              "      <td>1</td>\n",
              "      <td>1</td>\n",
              "      <td>1</td>\n",
              "      <td>0.020820</td>\n",
              "      <td>0.979180</td>\n",
              "    </tr>\n",
              "    <tr>\n",
              "      <th>3</th>\n",
              "      <td>It's a feel-good film and that's how I felt wh...</td>\n",
              "      <td>1</td>\n",
              "      <td>-0.184054</td>\n",
              "      <td>0.416214</td>\n",
              "      <td>1.083913</td>\n",
              "      <td>1.083913</td>\n",
              "      <td>feel good film felt came cinema</td>\n",
              "      <td>1</td>\n",
              "      <td>1</td>\n",
              "      <td>1</td>\n",
              "      <td>0.097856</td>\n",
              "      <td>0.902144</td>\n",
              "    </tr>\n",
              "    <tr>\n",
              "      <th>4</th>\n",
              "      <td>It has northern humour and positive about the ...</td>\n",
              "      <td>1</td>\n",
              "      <td>-0.184054</td>\n",
              "      <td>0.310825</td>\n",
              "      <td>-0.033542</td>\n",
              "      <td>-0.033542</td>\n",
              "      <td>ha northern humour positive community represents</td>\n",
              "      <td>1</td>\n",
              "      <td>1</td>\n",
              "      <td>1</td>\n",
              "      <td>0.488987</td>\n",
              "      <td>0.511013</td>\n",
              "    </tr>\n",
              "  </tbody>\n",
              "</table>\n",
              "</div>"
            ],
            "text/plain": [
              "                                            Sentence  ...  Prob_Class_1\n",
              "0  A good commentary of today's love and undoubte...  ...      0.985415\n",
              "1  For people who are first timers in film making...  ...      0.876940\n",
              "2  It was very popular when I was in the cinema, ...  ...      0.979180\n",
              "3  It's a feel-good film and that's how I felt wh...  ...      0.902144\n",
              "4  It has northern humour and positive about the ...  ...      0.511013\n",
              "\n",
              "[5 rows x 12 columns]"
            ]
          },
          "metadata": {},
          "execution_count": 174
        }
      ]
    },
    {
      "cell_type": "code",
      "metadata": {
        "id": "VEIXERhtCexw",
        "colab": {
          "base_uri": "https://localhost:8080/",
          "height": 669
        },
        "outputId": "9e52f7f4-65b5-43a0-d8db-ba927776591a"
      },
      "source": [
        "# build a dataset for misclassified instances\n",
        "data_analyse = data[((data[\"Polarity\"]==1) & (data[\"Prediction\"]==0)) | \n",
        "                    ((data[\"Polarity\"]==0) & (data[\"Prediction\"]==1)) ]\n",
        "\n",
        "data_analyse.reset_index(drop=True,inplace=True)\n",
        "data_analyse.head(20)"
      ],
      "execution_count": 175,
      "outputs": [
        {
          "output_type": "execute_result",
          "data": {
            "text/html": [
              "<div>\n",
              "<style scoped>\n",
              "    .dataframe tbody tr th:only-of-type {\n",
              "        vertical-align: middle;\n",
              "    }\n",
              "\n",
              "    .dataframe tbody tr th {\n",
              "        vertical-align: top;\n",
              "    }\n",
              "\n",
              "    .dataframe thead th {\n",
              "        text-align: right;\n",
              "    }\n",
              "</style>\n",
              "<table border=\"1\" class=\"dataframe\">\n",
              "  <thead>\n",
              "    <tr style=\"text-align: right;\">\n",
              "      <th></th>\n",
              "      <th>Sentence</th>\n",
              "      <th>Polarity</th>\n",
              "      <th>Senten_count</th>\n",
              "      <th>length</th>\n",
              "      <th>word_count</th>\n",
              "      <th>UNQ_word_count</th>\n",
              "      <th>proc_text</th>\n",
              "      <th>NLTK_Pol</th>\n",
              "      <th>TB_Pol</th>\n",
              "      <th>Prediction</th>\n",
              "      <th>Prob_Class_0</th>\n",
              "      <th>Prob_Class_1</th>\n",
              "    </tr>\n",
              "  </thead>\n",
              "  <tbody>\n",
              "    <tr>\n",
              "      <th>0</th>\n",
              "      <td>Not too screamy not to masculine but just righ...</td>\n",
              "      <td>1</td>\n",
              "      <td>-0.184054</td>\n",
              "      <td>-0.268815</td>\n",
              "      <td>-0.312906</td>\n",
              "      <td>-0.312906</td>\n",
              "      <td>screamy masculine right</td>\n",
              "      <td>0</td>\n",
              "      <td>1</td>\n",
              "      <td>0</td>\n",
              "      <td>0.534825</td>\n",
              "      <td>0.465175</td>\n",
              "    </tr>\n",
              "    <tr>\n",
              "      <th>1</th>\n",
              "      <td>I would have casted her in that role after rea...</td>\n",
              "      <td>1</td>\n",
              "      <td>-0.184054</td>\n",
              "      <td>0.047352</td>\n",
              "      <td>0.106140</td>\n",
              "      <td>0.106140</td>\n",
              "      <td>would casted role ready script</td>\n",
              "      <td>1</td>\n",
              "      <td>1</td>\n",
              "      <td>0</td>\n",
              "      <td>0.710588</td>\n",
              "      <td>0.289412</td>\n",
              "    </tr>\n",
              "    <tr>\n",
              "      <th>2</th>\n",
              "      <td>The soundtrack wasn't terrible, either.</td>\n",
              "      <td>1</td>\n",
              "      <td>-0.184054</td>\n",
              "      <td>-0.505940</td>\n",
              "      <td>-0.731952</td>\n",
              "      <td>-0.731952</td>\n",
              "      <td>soundtrack terrible either</td>\n",
              "      <td>0</td>\n",
              "      <td>0</td>\n",
              "      <td>0</td>\n",
              "      <td>0.895719</td>\n",
              "      <td>0.104281</td>\n",
              "    </tr>\n",
              "    <tr>\n",
              "      <th>3</th>\n",
              "      <td>Still, it was the SETS that got a big \"10\" on ...</td>\n",
              "      <td>1</td>\n",
              "      <td>-0.184054</td>\n",
              "      <td>0.152741</td>\n",
              "      <td>0.385503</td>\n",
              "      <td>0.385503</td>\n",
              "      <td>still wa set got big oy vey scale</td>\n",
              "      <td>0</td>\n",
              "      <td>0</td>\n",
              "      <td>0</td>\n",
              "      <td>0.806695</td>\n",
              "      <td>0.193305</td>\n",
              "    </tr>\n",
              "    <tr>\n",
              "      <th>4</th>\n",
              "      <td>The last 15 minutes of movie are also not bad ...</td>\n",
              "      <td>1</td>\n",
              "      <td>-0.184054</td>\n",
              "      <td>-0.110732</td>\n",
              "      <td>-0.033542</td>\n",
              "      <td>-0.033542</td>\n",
              "      <td>last minute movie also bad well</td>\n",
              "      <td>0</td>\n",
              "      <td>0</td>\n",
              "      <td>0</td>\n",
              "      <td>0.927498</td>\n",
              "      <td>0.072502</td>\n",
              "    </tr>\n",
              "    <tr>\n",
              "      <th>5</th>\n",
              "      <td>I like Armand Assante &amp; my cable company's sum...</td>\n",
              "      <td>1</td>\n",
              "      <td>-0.184054</td>\n",
              "      <td>1.838966</td>\n",
              "      <td>1.363277</td>\n",
              "      <td>1.363277</td>\n",
              "      <td>like armand assante cable company summary soun...</td>\n",
              "      <td>1</td>\n",
              "      <td>1</td>\n",
              "      <td>0</td>\n",
              "      <td>0.860303</td>\n",
              "      <td>0.139697</td>\n",
              "    </tr>\n",
              "    <tr>\n",
              "      <th>6</th>\n",
              "      <td>My 8/10 score is mostly for the plot.</td>\n",
              "      <td>1</td>\n",
              "      <td>-0.184054</td>\n",
              "      <td>-0.558635</td>\n",
              "      <td>-0.592270</td>\n",
              "      <td>-0.592270</td>\n",
              "      <td>score mostly plot</td>\n",
              "      <td>0</td>\n",
              "      <td>1</td>\n",
              "      <td>0</td>\n",
              "      <td>0.834270</td>\n",
              "      <td>0.165730</td>\n",
              "    </tr>\n",
              "    <tr>\n",
              "      <th>7</th>\n",
              "      <td>Not frightening in the least, and barely compr...</td>\n",
              "      <td>0</td>\n",
              "      <td>-0.184054</td>\n",
              "      <td>-0.058037</td>\n",
              "      <td>-0.452588</td>\n",
              "      <td>-0.452588</td>\n",
              "      <td>frightening least barely comprehensible</td>\n",
              "      <td>0</td>\n",
              "      <td>0</td>\n",
              "      <td>1</td>\n",
              "      <td>0.484910</td>\n",
              "      <td>0.515090</td>\n",
              "    </tr>\n",
              "    <tr>\n",
              "      <th>8</th>\n",
              "      <td>Not even good for camp value!</td>\n",
              "      <td>0</td>\n",
              "      <td>-0.184054</td>\n",
              "      <td>-0.769413</td>\n",
              "      <td>-0.731952</td>\n",
              "      <td>-0.731952</td>\n",
              "      <td>even good camp value</td>\n",
              "      <td>1</td>\n",
              "      <td>1</td>\n",
              "      <td>1</td>\n",
              "      <td>0.188660</td>\n",
              "      <td>0.811340</td>\n",
              "    </tr>\n",
              "    <tr>\n",
              "      <th>9</th>\n",
              "      <td>I was deeply impressed with the character he p...</td>\n",
              "      <td>1</td>\n",
              "      <td>-0.184054</td>\n",
              "      <td>-0.163426</td>\n",
              "      <td>-0.312906</td>\n",
              "      <td>-0.312906</td>\n",
              "      <td>wa deeply impressed character played</td>\n",
              "      <td>1</td>\n",
              "      <td>1</td>\n",
              "      <td>0</td>\n",
              "      <td>0.753737</td>\n",
              "      <td>0.246263</td>\n",
              "    </tr>\n",
              "    <tr>\n",
              "      <th>10</th>\n",
              "      <td>The directing is sloppy at best.</td>\n",
              "      <td>0</td>\n",
              "      <td>-0.184054</td>\n",
              "      <td>-0.690371</td>\n",
              "      <td>-0.731952</td>\n",
              "      <td>-0.731952</td>\n",
              "      <td>directing sloppy best</td>\n",
              "      <td>1</td>\n",
              "      <td>1</td>\n",
              "      <td>1</td>\n",
              "      <td>0.259985</td>\n",
              "      <td>0.740015</td>\n",
              "    </tr>\n",
              "    <tr>\n",
              "      <th>11</th>\n",
              "      <td>The acting by the whole cast could be put on a...</td>\n",
              "      <td>0</td>\n",
              "      <td>-0.184054</td>\n",
              "      <td>1.391063</td>\n",
              "      <td>1.083913</td>\n",
              "      <td>1.083913</td>\n",
              "      <td>acting whole cast could put scale balanced per...</td>\n",
              "      <td>1</td>\n",
              "      <td>1</td>\n",
              "      <td>1</td>\n",
              "      <td>0.462602</td>\n",
              "      <td>0.537398</td>\n",
              "    </tr>\n",
              "    <tr>\n",
              "      <th>12</th>\n",
              "      <td>And, FINALLY, after all that, we get to an end...</td>\n",
              "      <td>0</td>\n",
              "      <td>-0.184054</td>\n",
              "      <td>2.076091</td>\n",
              "      <td>2.061687</td>\n",
              "      <td>2.061687</td>\n",
              "      <td>finally get ending would great handled compete...</td>\n",
              "      <td>1</td>\n",
              "      <td>1</td>\n",
              "      <td>1</td>\n",
              "      <td>0.026535</td>\n",
              "      <td>0.973465</td>\n",
              "    </tr>\n",
              "    <tr>\n",
              "      <th>13</th>\n",
              "      <td>This movie was kind of long in length, but I e...</td>\n",
              "      <td>1</td>\n",
              "      <td>-0.184054</td>\n",
              "      <td>0.363519</td>\n",
              "      <td>0.525185</td>\n",
              "      <td>0.525185</td>\n",
              "      <td>movie wa kind long length enjoyed every minute</td>\n",
              "      <td>1</td>\n",
              "      <td>1</td>\n",
              "      <td>0</td>\n",
              "      <td>0.589486</td>\n",
              "      <td>0.410514</td>\n",
              "    </tr>\n",
              "    <tr>\n",
              "      <th>14</th>\n",
              "      <td>Lifetime does not air it enough, so if anyone ...</td>\n",
              "      <td>1</td>\n",
              "      <td>-0.184054</td>\n",
              "      <td>1.417410</td>\n",
              "      <td>1.642641</td>\n",
              "      <td>1.642641</td>\n",
              "      <td>lifetime doe air enough anyone know store sell...</td>\n",
              "      <td>0</td>\n",
              "      <td>0</td>\n",
              "      <td>0</td>\n",
              "      <td>0.864423</td>\n",
              "      <td>0.135577</td>\n",
              "    </tr>\n",
              "    <tr>\n",
              "      <th>15</th>\n",
              "      <td>This movie creates its own universe, and is fa...</td>\n",
              "      <td>1</td>\n",
              "      <td>-0.184054</td>\n",
              "      <td>0.284477</td>\n",
              "      <td>0.106140</td>\n",
              "      <td>0.106140</td>\n",
              "      <td>movie creates universe fascinating every way</td>\n",
              "      <td>1</td>\n",
              "      <td>1</td>\n",
              "      <td>0</td>\n",
              "      <td>0.558799</td>\n",
              "      <td>0.441201</td>\n",
              "    </tr>\n",
              "    <tr>\n",
              "      <th>16</th>\n",
              "      <td>But this movie really got to me.</td>\n",
              "      <td>1</td>\n",
              "      <td>-0.184054</td>\n",
              "      <td>-0.690371</td>\n",
              "      <td>-0.592270</td>\n",
              "      <td>-0.592270</td>\n",
              "      <td>movie really got</td>\n",
              "      <td>0</td>\n",
              "      <td>1</td>\n",
              "      <td>0</td>\n",
              "      <td>0.598883</td>\n",
              "      <td>0.401117</td>\n",
              "    </tr>\n",
              "    <tr>\n",
              "      <th>17</th>\n",
              "      <td>See it.</td>\n",
              "      <td>1</td>\n",
              "      <td>-0.184054</td>\n",
              "      <td>-1.349053</td>\n",
              "      <td>-1.290680</td>\n",
              "      <td>-1.290680</td>\n",
              "      <td>see</td>\n",
              "      <td>0</td>\n",
              "      <td>0</td>\n",
              "      <td>0</td>\n",
              "      <td>0.644206</td>\n",
              "      <td>0.355794</td>\n",
              "    </tr>\n",
              "    <tr>\n",
              "      <th>18</th>\n",
              "      <td>I really hope the team behind this movie makes...</td>\n",
              "      <td>1</td>\n",
              "      <td>-0.184054</td>\n",
              "      <td>1.997050</td>\n",
              "      <td>2.061687</td>\n",
              "      <td>2.061687</td>\n",
              "      <td>really hope team behind movie make movie conti...</td>\n",
              "      <td>1</td>\n",
              "      <td>0</td>\n",
              "      <td>0</td>\n",
              "      <td>0.749388</td>\n",
              "      <td>0.250612</td>\n",
              "    </tr>\n",
              "    <tr>\n",
              "      <th>19</th>\n",
              "      <td>Initially the local sites in the film, which w...</td>\n",
              "      <td>1</td>\n",
              "      <td>-0.184054</td>\n",
              "      <td>0.732381</td>\n",
              "      <td>0.525185</td>\n",
              "      <td>0.525185</td>\n",
              "      <td>initially local site film wa filmed buffalo in...</td>\n",
              "      <td>0</td>\n",
              "      <td>0</td>\n",
              "      <td>0</td>\n",
              "      <td>0.631326</td>\n",
              "      <td>0.368674</td>\n",
              "    </tr>\n",
              "  </tbody>\n",
              "</table>\n",
              "</div>"
            ],
            "text/plain": [
              "                                             Sentence  ...  Prob_Class_1\n",
              "0   Not too screamy not to masculine but just righ...  ...      0.465175\n",
              "1   I would have casted her in that role after rea...  ...      0.289412\n",
              "2           The soundtrack wasn't terrible, either.    ...      0.104281\n",
              "3   Still, it was the SETS that got a big \"10\" on ...  ...      0.193305\n",
              "4   The last 15 minutes of movie are also not bad ...  ...      0.072502\n",
              "5   I like Armand Assante & my cable company's sum...  ...      0.139697\n",
              "6             My 8/10 score is mostly for the plot.    ...      0.165730\n",
              "7   Not frightening in the least, and barely compr...  ...      0.515090\n",
              "8                     Not even good for camp value!    ...      0.811340\n",
              "9   I was deeply impressed with the character he p...  ...      0.246263\n",
              "10                 The directing is sloppy at best.    ...      0.740015\n",
              "11  The acting by the whole cast could be put on a...  ...      0.537398\n",
              "12  And, FINALLY, after all that, we get to an end...  ...      0.973465\n",
              "13  This movie was kind of long in length, but I e...  ...      0.410514\n",
              "14  Lifetime does not air it enough, so if anyone ...  ...      0.135577\n",
              "15  This movie creates its own universe, and is fa...  ...      0.441201\n",
              "16                 But this movie really got to me.    ...      0.401117\n",
              "17                                          See it.    ...      0.355794\n",
              "18  I really hope the team behind this movie makes...  ...      0.250612\n",
              "19  Initially the local sites in the film, which w...  ...      0.368674\n",
              "\n",
              "[20 rows x 12 columns]"
            ]
          },
          "metadata": {},
          "execution_count": 175
        }
      ]
    },
    {
      "cell_type": "code",
      "metadata": {
        "id": "4DRzVT48wfgh",
        "colab": {
          "base_uri": "https://localhost:8080/",
          "height": 0
        },
        "outputId": "26ea2d37-fb8f-4c1f-9931-f54a7f34c686"
      },
      "source": [
        "# Analyse Wrong classification Use case 1\n",
        "\n",
        "print(check_sentiment_tb(data_analyse.loc[8,\"Sentence\"]),\n",
        "      check_sentiment(data_analyse.loc[8,\"Sentence\"]))\n",
        "\n",
        "print(check_sentiment_tb(data_analyse.loc[8,\"proc_text\"]),\n",
        "      check_sentiment(data_analyse.loc[8,\"proc_text\"]))\n",
        "\n",
        "print(data_analyse.loc[8,:],data_analyse.loc[8,\"Sentence\"])\n",
        "# Sentence Analysis\n",
        "# NLTK Sentiment analysis predicts positive \n",
        "# Textblob Sentiment analysis predicts neutral \n",
        "\n",
        "# Processed Text Analysis\n",
        "# NLTK Sentiment analysis predicts positive \n",
        "# Textblob Sentiment analysis predicts positive \n",
        "\n",
        "# Actual Polarity negative\n",
        "# Logistic Regression prediction positive\n",
        "# \n",
        "print(lr.intercept_,coef.loc[:,\"even\"],coef.loc[:,\"good\"],coef.loc[:,\"value\"])\n",
        "\n",
        "# Reason: Stopwords removed not which changes the tone of the text.\n",
        "# camp: not in BoW"
      ],
      "execution_count": 176,
      "outputs": [
        {
          "output_type": "stream",
          "name": "stdout",
          "text": [
            "0.875 -0.0767\n",
            "0.7 0.6486\n",
            "Sentence          Not even good for camp value!  \n",
            "Polarity                                        0\n",
            "Senten_count                            -0.184054\n",
            "length                                  -0.769413\n",
            "word_count                              -0.731952\n",
            "UNQ_word_count                          -0.731952\n",
            "proc_text                    even good camp value\n",
            "NLTK_Pol                                        1\n",
            "TB_Pol                                          1\n",
            "Prediction                                      1\n",
            "Prob_Class_0                              0.18866\n",
            "Prob_Class_1                              0.81134\n",
            "Name: 8, dtype: object Not even good for camp value!  \n",
            "[-0.36329847] 0    0.103056\n",
            "Name: even, dtype: float64 0    1.838707\n",
            "Name: good, dtype: float64 0   -0.119726\n",
            "Name: value, dtype: float64\n"
          ]
        }
      ]
    },
    {
      "cell_type": "code",
      "metadata": {
        "id": "qyA8_hD2hCvu",
        "colab": {
          "base_uri": "https://localhost:8080/",
          "height": 754
        },
        "outputId": "6377ab2f-96c8-4462-87aa-1195607f66d1"
      },
      "source": [
        "# Analyse Wrong classification Use case 2\n",
        "\n",
        "print(check_sentiment_tb(data_analyse.loc[5,\"Sentence\"]),\n",
        "      check_sentiment(data_analyse.loc[5,\"Sentence\"]))\n",
        "\n",
        "print(check_sentiment_tb(data_analyse.loc[5,\"proc_text\"]),\n",
        "      check_sentiment(data_analyse.loc[5,\"proc_text\"]))\n",
        "\n",
        "print(data_analyse.loc[5,:],data_analyse.loc[5,\"Sentence\"])\n",
        "\n",
        "print(data_analyse.loc[5,\"proc_text\"])\n",
        "\n",
        "# Sentence Analysis\n",
        "# NLTK Sentiment analysis predicts positive \n",
        "# Textblob Sentiment analysis predicts positive \n",
        "\n",
        "# Processed Text Analysis\n",
        "# NLTK Sentiment analysis predicts positive \n",
        "# Textblob Sentiment analysis predicts positive \n",
        "\n",
        "# Actual Polarity positive\n",
        "# Logistic Regression prediction negative\n",
        "print(lr.intercept_,coef.loc[:,\"like\"],coef.loc[:,\"cable\"],coef.loc[:,\"company\"],\n",
        "      coef.loc[:,\"summary\"],coef.loc[:,\"sounded\"],coef.loc[:,\"interesting\"],\n",
        "      coef.loc[:,\"watched\"],coef.loc[:,\"twice\"],coef.loc[:,\"already\"],\n",
        "      coef.loc[:,\"probably\"])\n",
        "\n",
        "already_df = df_train.loc[df_train['Sentence'].str.contains(\"already\", case=False)]\n",
        "print(already_df.shape)\n",
        "already_df.Polarity.value_counts().plot.bar()\n",
        "\n",
        "# Reason: already has a very high negative coefficient. In the training dataset, \n",
        "# already was a feature only in 1 instance with polarity 0 thus coefficient was \n",
        "# negative A pre-trained model like NLTK, Textblob predicts the sentiment correctly\n",
        "# armand, assante: not in BoW"
      ],
      "execution_count": 177,
      "outputs": [
        {
          "output_type": "stream",
          "name": "stdout",
          "text": [
            "0.5 0.6369\n",
            "0.5 0.6369\n",
            "Sentence          I like Armand Assante & my cable company's sum...\n",
            "Polarity                                                          1\n",
            "Senten_count                                              -0.184054\n",
            "length                                                      1.83897\n",
            "word_count                                                  1.36328\n",
            "UNQ_word_count                                              1.36328\n",
            "proc_text         like armand assante cable company summary soun...\n",
            "NLTK_Pol                                                          1\n",
            "TB_Pol                                                            1\n",
            "Prediction                                                        0\n",
            "Prob_Class_0                                               0.860303\n",
            "Prob_Class_1                                               0.139697\n",
            "Name: 5, dtype: object I like Armand Assante & my cable company's summary sounded interesting, so I watched it, twice already, and probably will again.  \n",
            "like armand assante cable company summary sounded interesting watched twice already probably\n",
            "[-0.36329847] 0    0.221132\n",
            "Name: like, dtype: float64 0   -0.192562\n",
            "Name: cable, dtype: float64 0   -0.361548\n",
            "Name: company, dtype: float64 0   -0.247707\n",
            "Name: summary, dtype: float64 0   -0.071925\n",
            "Name: sounded, dtype: float64 0    0.348372\n",
            "Name: interesting, dtype: float64 0   -0.163966\n",
            "Name: watched, dtype: float64 0    0.11963\n",
            "Name: twice, dtype: float64 0   -0.00213\n",
            "Name: already, dtype: float64 0   -1.103807\n",
            "Name: probably, dtype: float64\n",
            "(1, 9)\n"
          ]
        },
        {
          "output_type": "execute_result",
          "data": {
            "text/plain": [
              "<matplotlib.axes._subplots.AxesSubplot at 0x7fb693602610>"
            ]
          },
          "metadata": {},
          "execution_count": 177
        },
        {
          "output_type": "display_data",
          "data": {
            "image/png": "[encoded data removed]",
            "text/plain": [
              "<Figure size 432x288 with 1 Axes>"
            ]
          },
          "metadata": {
            "needs_background": "light"
          }
        }
      ]
    },
    {
      "cell_type": "code",
      "metadata": {
        "id": "0jLkSdpntfvW",
        "colab": {
          "base_uri": "https://localhost:8080/",
          "height": 654
        },
        "outputId": "4dfce40c-7db2-4317-a79d-28edb03c2775"
      },
      "source": [
        "# Analyse Wrong classification Use case 3\n",
        "\n",
        "print(check_sentiment_tb(data_analyse.loc[2,\"Sentence\"]),\n",
        "      check_sentiment(data_analyse.loc[2,\"Sentence\"]))\n",
        "\n",
        "print(check_sentiment_tb(data_analyse.loc[2,\"proc_text\"]),\n",
        "      check_sentiment(data_analyse.loc[2,\"proc_text\"]))\n",
        "\n",
        "\n",
        "print(data_analyse.loc[2,:],data_analyse.loc[2,\"Sentence\"])\n",
        "\n",
        "print(data_analyse.loc[2,\"proc_text\"])\n",
        "\n",
        "# Sentence Analysis\n",
        "# NLTK Sentiment analysis predicts positive \n",
        "# Textblob Sentiment analysis predicts negative \n",
        "\n",
        "# Processed Text Analysis\n",
        "# NLTK Sentiment analysis predicts negative\n",
        "# Textblob Sentiment analysis predicts negative \n",
        "\n",
        "# Actual Polarity positive\n",
        "# Logistic Regression prediction negative\n",
        "print(lr.intercept_,coef.loc[:,\"soundtrack\"],coef.loc[:,\"terrible\"],coef.loc[:,\"either\"]) \n",
        "\n",
        "inp_df = df_train.loc[df_train['Sentence'].str.contains(\"soundtrack\", case=False)]\n",
        "print(inp_df.shape)\n",
        "# inp_df.Polarity.value_counts().plot.bar()\n",
        "# soundtrack has 2 instances: 1 with Polarity 1 and 1 with Polarity 0\n",
        "\n",
        "inp_df = df_train.loc[df_train['Sentence'].str.contains(\"terrible\", case=False)]\n",
        "print(inp_df.shape)\n",
        "inp_df.Polarity.value_counts().plot.bar()\n",
        "# terrible has 24 instances all with Polarity 0 \n",
        "\n",
        "# Reason: both soundtrack and terrible have negative coefficients. As keyword \n",
        "# wasnt was taken out due to stop word removal the pre-trained models are not \n",
        "# classifying the text correctly"
      ],
      "execution_count": 178,
      "outputs": [
        {
          "output_type": "stream",
          "name": "stdout",
          "text": [
            "-1.0 0.3724\n",
            "-1.0 -0.4767\n",
            "Sentence          The soundtrack wasn't terrible, either.  \n",
            "Polarity                                                  1\n",
            "Senten_count                                      -0.184054\n",
            "length                                             -0.50594\n",
            "word_count                                        -0.731952\n",
            "UNQ_word_count                                    -0.731952\n",
            "proc_text                        soundtrack terrible either\n",
            "NLTK_Pol                                                  0\n",
            "TB_Pol                                                    0\n",
            "Prediction                                                0\n",
            "Prob_Class_0                                       0.895719\n",
            "Prob_Class_1                                       0.104281\n",
            "Name: 2, dtype: object The soundtrack wasn't terrible, either.  \n",
            "soundtrack terrible either\n",
            "[-0.36329847] 0   -0.144668\n",
            "Name: soundtrack, dtype: float64 0   -1.488657\n",
            "Name: terrible, dtype: float64 0   -0.15391\n",
            "Name: either, dtype: float64\n",
            "(2, 9)\n",
            "(24, 9)\n"
          ]
        },
        {
          "output_type": "execute_result",
          "data": {
            "text/plain": [
              "<matplotlib.axes._subplots.AxesSubplot at 0x7fb6935f3150>"
            ]
          },
          "metadata": {},
          "execution_count": 178
        },
        {
          "output_type": "display_data",
          "data": {
            "image/png": "[encoded data removed]",
            "text/plain": [
              "<Figure size 432x288 with 1 Axes>"
            ]
          },
          "metadata": {
            "needs_background": "light"
          }
        }
      ]
    },
    {
      "cell_type": "code",
      "metadata": {
        "id": "AcSoe2lh-PyK",
        "colab": {
          "base_uri": "https://localhost:8080/",
          "height": 737
        },
        "outputId": "2ba42681-171a-4792-8234-1acf40c13441"
      },
      "source": [
        "# Analyse Wrong classification Use case 4\n",
        "\n",
        "print(check_sentiment_tb(data_analyse.loc[12,\"Sentence\"]),\n",
        "      check_sentiment(data_analyse.loc[12,\"Sentence\"]))\n",
        "\n",
        "print(check_sentiment_tb(data_analyse.loc[12,\"proc_text\"]),\n",
        "      check_sentiment(data_analyse.loc[12,\"proc_text\"]))\n",
        "\n",
        "print(data_analyse.loc[12,:],data_analyse.loc[12,[\"Sentence\"]])\n",
        "\n",
        "print(data_analyse.loc[12,\"proc_text\"])\n",
        "\n",
        "# Sentence Analysis\n",
        "# NLTK Sentiment analysis predicts positive \n",
        "# Textblob Sentiment analysis predicts positive \n",
        "\n",
        "# Processed Text Analysis\n",
        "# NLTK Sentiment analysis predicts positive \n",
        "# Textblob Sentiment analysis predicts positive \n",
        "\n",
        "# Actual Polarity negative\n",
        "# Logistic Regression prediction positive\n",
        "print(lr.intercept_,coef.loc[:,\"finally\"],coef.loc[:,\"get\"],coef.loc[:,\"ending\"],\n",
        "      coef.loc[:,\"would\"],coef.loc[:,\"great\"],coef.loc[:,\"handled\"],\n",
        "      coef.loc[:,\"handle\"],coef.loc[:,\"people\"])\n",
        "\n",
        "inp_df = df_train.loc[df_train['Sentence'].str.contains(\"would\", case=False)]\n",
        "print(inp_df.shape)\n",
        "inp_df.Polarity.value_counts().plot.bar()\n",
        "# would has 80 instances 52 with Polarity 0 and 28 with polarity 1\n",
        "\n",
        "# Reason: Would and get have high positive coefficients ideally I would expect \n",
        "# would post lemmatizer and stop word would be removed. A pre-trained model \n",
        "# like NLTK, Textblob predicts the sentiment correctly\n",
        "# jerry, falwell: not in BoW\n"
      ],
      "execution_count": 179,
      "outputs": [
        {
          "output_type": "stream",
          "name": "stdout",
          "text": [
            "0.43333333333333335 0.7506\n",
            "0.43333333333333335 0.7506\n",
            "Sentence          And, FINALLY, after all that, we get to an end...\n",
            "Polarity                                                          0\n",
            "Senten_count                                              -0.184054\n",
            "length                                                      2.07609\n",
            "word_count                                                  2.06169\n",
            "UNQ_word_count                                              2.06169\n",
            "proc_text         finally get ending would great handled compete...\n",
            "NLTK_Pol                                                          1\n",
            "TB_Pol                                                            1\n",
            "Prediction                                                        1\n",
            "Prob_Class_0                                              0.0265349\n",
            "Prob_Class_1                                               0.973465\n",
            "Name: 12, dtype: object Sentence    And, FINALLY, after all that, we get to an end...\n",
            "Name: 12, dtype: object\n",
            "finally get ending would great handled competent people jerry falwell\n",
            "[-0.36329847] 0   -0.012555\n",
            "Name: finally, dtype: float64 0    0.267567\n",
            "Name: get, dtype: float64 0    0.535653\n",
            "Name: ending, dtype: float64 0   -0.12188\n",
            "Name: would, dtype: float64 0    3.042869\n",
            "Name: great, dtype: float64 0    0.126579\n",
            "Name: handled, dtype: float64 0   -0.040793\n",
            "Name: handle, dtype: float64 0    0.127467\n",
            "Name: people, dtype: float64\n",
            "(80, 9)\n"
          ]
        },
        {
          "output_type": "execute_result",
          "data": {
            "text/plain": [
              "<matplotlib.axes._subplots.AxesSubplot at 0x7fb69dc7af90>"
            ]
          },
          "metadata": {},
          "execution_count": 179
        },
        {
          "output_type": "display_data",
          "data": {
            "image/png": "[encoded data removed]",
            "text/plain": [
              "<Figure size 432x288 with 1 Axes>"
            ]
          },
          "metadata": {
            "needs_background": "light"
          }
        }
      ]
    },
    {
      "cell_type": "code",
      "metadata": {
        "id": "m2E68wzS-QRi",
        "colab": {
          "base_uri": "https://localhost:8080/",
          "height": 618
        },
        "outputId": "f460e023-eebc-4025-e895-9963c68ac2de"
      },
      "source": [
        "# Analyse Wrong classification Use case 5\n",
        "\n",
        "print(check_sentiment_tb(data_analyse.loc[30,\"Sentence\"]),\n",
        "      check_sentiment(data_analyse.loc[30,\"Sentence\"]))\n",
        "\n",
        "print(check_sentiment_tb(data_analyse.loc[30,\"proc_text\"]),\n",
        "      check_sentiment(data_analyse.loc[30,\"proc_text\"]))\n",
        "\n",
        "print(data_analyse.loc[30,:],data_analyse.loc[30,[\"Sentence\"]])\n",
        "\n",
        "print(data_analyse.loc[30,\"proc_text\"])\n",
        "\n",
        "# Sentence Analysis\n",
        "# NLTK Sentiment analysis predicts negative \n",
        "# Textblob Sentiment analysis predicts neutral \n",
        "\n",
        "# Processed Text Analysis\n",
        "# NLTK Sentiment analysis predicts positive \n",
        "# Textblob Sentiment analysis predicts neutral \n",
        "\n",
        "# Actual Polarity negative\n",
        "# Logistic Regression prediction positive\n",
        "print(lr.intercept_,coef.loc[:,\"recommended\"])\n",
        "\n",
        "rec_df = df_train.loc[df_train['Sentence'].str.contains(\"recommended\", case=False)]\n",
        "print(rec_df.shape)\n",
        "rec_df.Polarity.value_counts().plot.bar()\n",
        "\n",
        "# Reason: Not removed during stopword removal process which changes the meaning \n",
        "# of the sentence from not recommended to recommended. The pre-trained model may \n",
        "# be able to correctly predict the tone for the sentence but not for processed \n",
        "# text as the keyword is removed.\n"
      ],
      "execution_count": 180,
      "outputs": [
        {
          "output_type": "stream",
          "name": "stdout",
          "text": [
            "0.0 -0.1511\n",
            "0.0 0.2023\n",
            "Sentence          Not recommended.  \n",
            "Polarity                           0\n",
            "Senten_count               -0.184054\n",
            "length                      -1.11193\n",
            "word_count                  -1.29068\n",
            "UNQ_word_count              -1.29068\n",
            "proc_text                recommended\n",
            "NLTK_Pol                           1\n",
            "TB_Pol                             0\n",
            "Prediction                         1\n",
            "Prob_Class_0                 0.43171\n",
            "Prob_Class_1                 0.56829\n",
            "Name: 30, dtype: object Sentence    Not recommended.  \n",
            "Name: 30, dtype: object\n",
            "recommended\n",
            "[-0.36329847] 0    0.638175\n",
            "Name: recommended, dtype: float64\n",
            "(5, 9)\n"
          ]
        },
        {
          "output_type": "execute_result",
          "data": {
            "text/plain": [
              "<matplotlib.axes._subplots.AxesSubplot at 0x7fb6935552d0>"
            ]
          },
          "metadata": {},
          "execution_count": 180
        },
        {
          "output_type": "display_data",
          "data": {
            "image/png": "[encoded data removed]",
            "text/plain": [
              "<Figure size 432x288 with 1 Axes>"
            ]
          },
          "metadata": {
            "needs_background": "light"
          }
        }
      ]
    }
  ]
}